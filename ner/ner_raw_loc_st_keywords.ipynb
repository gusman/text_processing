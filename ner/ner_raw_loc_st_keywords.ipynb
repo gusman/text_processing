{
 "cells": [
  {
   "cell_type": "code",
   "execution_count": 1,
   "metadata": {},
   "outputs": [
    {
     "name": "stdout",
     "output_type": "stream",
     "text": [
      "Requirement already satisfied: nltk in /home/admin/venv-jupyter/lib/python3.7/site-packages (3.4.5)\n",
      "Requirement already satisfied: six in /home/admin/venv-jupyter/lib/python3.7/site-packages (from nltk) (1.14.0)\n"
     ]
    }
   ],
   "source": [
    "! pip install nltk\n"
   ]
  },
  {
   "cell_type": "code",
   "execution_count": 2,
   "metadata": {},
   "outputs": [
    {
     "name": "stdout",
     "output_type": "stream",
     "text": [
      "env: JAVAHOME=/home/admin/java/jdk1.8.0_251\n"
     ]
    }
   ],
   "source": [
    "%set_env JAVAHOME=/home/admin/java/jdk1.8.0_251\n",
    "from nltk.tag import StanfordNERTagger\n",
    "from nltk.tokenize import sent_tokenize\n",
    "from nltk.tokenize import word_tokenize\n",
    "\n",
    "import pandas as pd\n",
    "import timeit\n",
    "import re\n",
    "\n",
    "from ner_tool import NerTool"
   ]
  },
  {
   "cell_type": "code",
   "execution_count": 3,
   "metadata": {},
   "outputs": [],
   "source": [
    "# Load NER\n",
    "ner_model = '/home/admin/text_processing/ner/model/idner-model-20k-mdee.ser.gz'\n",
    "ner_app = '/home/admin/stanford-ner/stanford-ner.jar'\n",
    "ner_tool = NerTool(ner_model, ner_app)\n",
    "ner_tagger = StanfordNERTagger(ner_model, ner_app, encoding='utf-8')"
   ]
  },
  {
   "cell_type": "code",
   "execution_count": 4,
   "metadata": {},
   "outputs": [],
   "source": [
    "# Retrieve gold standard dataset\n",
    "f_gold = '/home/admin/text_processing/anotated_data/gold_standard/anotated/sample_banjir_gold_dataset.xlsx'\n",
    "df_gold = pd.read_excel(f_gold)"
   ]
  },
  {
   "cell_type": "code",
   "execution_count": 5,
   "metadata": {},
   "outputs": [],
   "source": [
    "# re keywords based on file name\n",
    "re_keywords = ''\n",
    "if 'angin_topan' in f_gold:\n",
    "    re_keywords = r'badai|puting beliung|angin topan|tornado|angin kencang'\n",
    "elif 'banjir' in f_gold:\n",
    "    re_keywords = r'banjir'\n",
    "elif 'erupsi' in f_gold:\n",
    "    re_keywords = r'vulkanik|erupsi|letusan|awan panas|lava'\n",
    "elif 'gempa' in f_gold:\n",
    "    re_keywords = r'gempa|tektonik'\n",
    "elif 'karhutla'in f_gold:\n",
    "    re_keywords = r'kebakaran hutan|kebakaran lahan|titik panas'\n",
    "elif 'kekeringan'in f_gold:\n",
    "    re_keywords = r'kekeringan'\n",
    "elif 'longsor'in f_gold:\n",
    "    re_keywords = r'longsor'\n",
    "elif 'tsunami'in f_gold:\n",
    "    re_keywords = r'tsunami'\n",
    "else:\n",
    "    re_keyowrds = 'XXXXXXXXXXXXXXXX'"
   ]
  },
  {
   "cell_type": "code",
   "execution_count": 6,
   "metadata": {},
   "outputs": [],
   "source": [
    "df_out = df_gold[[ 'id', ]].copy()\n",
    "df_out['raw_ner'] = ''\n",
    "df_out['exec_time'] = ''"
   ]
  },
  {
   "cell_type": "code",
   "execution_count": 10,
   "metadata": {},
   "outputs": [],
   "source": [
    "df_data = df_gold[df_gold.label == 'Y'][['id', 'content']]\n",
    "\n",
    "for index, row in df_data[:3].iterrows():\n",
    "    row_id = row['id']\n",
    "    row_text = row['content']\n",
    "    \n",
    "    start_time = timeit.default_timer()\n",
    "    sent_tokens = sent_tokenize(row_text)\n",
    "    sent_valid = [ l for l in sent_tokens if None != re.search(re_keywords, l, flags=re.IGNORECASE) ]\n",
    "    w_tokens = word_tokenize(' '.join(sent_valid))\n",
    "\n",
    "    row_loc = ner_tool.parse_text(w_tokens)\n",
    "    row_loc = \", \".join(row_loc)\n",
    "    exec_time = timeit.default_timer() - start_time\n",
    "    \n",
    "    df_out.loc[df_out['id'] == row_id, 'raw_ner'] = row_loc\n",
    "    df_out.loc[df_out['id'] == row_id, 'exec_time'] = exec_time"
   ]
  },
  {
   "cell_type": "code",
   "execution_count": 11,
   "metadata": {},
   "outputs": [
    {
     "data": {
      "text/html": [
       "<div>\n",
       "<style scoped>\n",
       "    .dataframe tbody tr th:only-of-type {\n",
       "        vertical-align: middle;\n",
       "    }\n",
       "\n",
       "    .dataframe tbody tr th {\n",
       "        vertical-align: top;\n",
       "    }\n",
       "\n",
       "    .dataframe thead th {\n",
       "        text-align: right;\n",
       "    }\n",
       "</style>\n",
       "<table border=\"1\" class=\"dataframe\">\n",
       "  <thead>\n",
       "    <tr style=\"text-align: right;\">\n",
       "      <th></th>\n",
       "      <th>id</th>\n",
       "      <th>raw_ner</th>\n",
       "      <th>exec_time</th>\n",
       "    </tr>\n",
       "  </thead>\n",
       "  <tbody>\n",
       "    <tr>\n",
       "      <th>0</th>\n",
       "      <td>banjir_0001</td>\n",
       "      <td></td>\n",
       "      <td></td>\n",
       "    </tr>\n",
       "    <tr>\n",
       "      <th>1</th>\n",
       "      <td>banjir_0002</td>\n",
       "      <td>Kecamatan, Aceh, Leuser</td>\n",
       "      <td>2.20819</td>\n",
       "    </tr>\n",
       "    <tr>\n",
       "      <th>2</th>\n",
       "      <td>banjir_0003</td>\n",
       "      <td></td>\n",
       "      <td></td>\n",
       "    </tr>\n",
       "    <tr>\n",
       "      <th>3</th>\n",
       "      <td>banjir_0004</td>\n",
       "      <td></td>\n",
       "      <td></td>\n",
       "    </tr>\n",
       "    <tr>\n",
       "      <th>4</th>\n",
       "      <td>banjir_0005</td>\n",
       "      <td></td>\n",
       "      <td></td>\n",
       "    </tr>\n",
       "    <tr>\n",
       "      <th>...</th>\n",
       "      <td>...</td>\n",
       "      <td>...</td>\n",
       "      <td>...</td>\n",
       "    </tr>\n",
       "    <tr>\n",
       "      <th>1239</th>\n",
       "      <td>banjir_1240</td>\n",
       "      <td></td>\n",
       "      <td></td>\n",
       "    </tr>\n",
       "    <tr>\n",
       "      <th>1240</th>\n",
       "      <td>banjir_1241</td>\n",
       "      <td></td>\n",
       "      <td></td>\n",
       "    </tr>\n",
       "    <tr>\n",
       "      <th>1241</th>\n",
       "      <td>banjir_1242</td>\n",
       "      <td></td>\n",
       "      <td></td>\n",
       "    </tr>\n",
       "    <tr>\n",
       "      <th>1242</th>\n",
       "      <td>banjir_1243</td>\n",
       "      <td></td>\n",
       "      <td></td>\n",
       "    </tr>\n",
       "    <tr>\n",
       "      <th>1243</th>\n",
       "      <td>banjir_1244</td>\n",
       "      <td></td>\n",
       "      <td></td>\n",
       "    </tr>\n",
       "  </tbody>\n",
       "</table>\n",
       "<p>1244 rows × 3 columns</p>\n",
       "</div>"
      ],
      "text/plain": [
       "               id                  raw_ner exec_time\n",
       "0     banjir_0001                                   \n",
       "1     banjir_0002  Kecamatan, Aceh, Leuser   2.20819\n",
       "2     banjir_0003                                   \n",
       "3     banjir_0004                                   \n",
       "4     banjir_0005                                   \n",
       "...           ...                      ...       ...\n",
       "1239  banjir_1240                                   \n",
       "1240  banjir_1241                                   \n",
       "1241  banjir_1242                                   \n",
       "1242  banjir_1243                                   \n",
       "1243  banjir_1244                                   \n",
       "\n",
       "[1244 rows x 3 columns]"
      ]
     },
     "execution_count": 11,
     "metadata": {},
     "output_type": "execute_result"
    }
   ],
   "source": [
    "df_out"
   ]
  },
  {
   "cell_type": "code",
   "execution_count": 8,
   "metadata": {},
   "outputs": [],
   "source": [
    "#loc_tag = ner_tagger.parse_text(text)"
   ]
  },
  {
   "cell_type": "code",
   "execution_count": 9,
   "metadata": {},
   "outputs": [],
   "source": [
    "#loc_tag"
   ]
  },
  {
   "cell_type": "code",
   "execution_count": null,
   "metadata": {},
   "outputs": [],
   "source": []
  }
 ],
 "metadata": {
  "kernelspec": {
   "display_name": "Python 3",
   "language": "python",
   "name": "python3"
  },
  "language_info": {
   "codemirror_mode": {
    "name": "ipython",
    "version": 3
   },
   "file_extension": ".py",
   "mimetype": "text/x-python",
   "name": "python",
   "nbconvert_exporter": "python",
   "pygments_lexer": "ipython3",
   "version": "3.7.3"
  }
 },
 "nbformat": 4,
 "nbformat_minor": 4
}
