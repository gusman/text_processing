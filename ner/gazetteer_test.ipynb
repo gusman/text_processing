{
 "cells": [
  {
   "cell_type": "code",
   "execution_count": 2,
   "metadata": {},
   "outputs": [],
   "source": [
    "import pandas as pd\n",
    "import sys\n",
    "\n",
    "from gazetteer_loc import GazetteerAdmLoc as GZTR"
   ]
  },
  {
   "cell_type": "code",
   "execution_count": null,
   "metadata": {},
   "outputs": [],
   "source": [
    "class ADMLoc:\n",
    "    dict_adm3 = {}\n",
    "    dict_adm2 = {}\n",
    "    dict_adm1 = {}"
   ]
  },
  {
   "cell_type": "code",
   "execution_count": null,
   "metadata": {},
   "outputs": [],
   "source": [
    "def search_in_gazetteer(sr_locs):\n",
    "    dict_adm1 = {}\n",
    "    dict_adm2 = {}\n",
    "    dict_adm3 = {}\n",
    "       \n",
    "    for index, item in sr_locs.iteritems():\n",
    "        loc_id, loc_str = gztr.search_gazetteer_by_name(4, index, sr_locs, 1)\n",
    "        if None != loc_id and loc_id not in dict_adm1:\n",
    "            dict_adm1[loc_id] = loc_str\n",
    "        gztr.adm1_keys_filter = list(dict_adm1.keys())\n",
    "        \n",
    "    for index, item in sr_locs.iteritems():\n",
    "        loc_id, loc_str = gztr.search_gazetteer_by_name(4, index, sr_locs, 2)\n",
    "        if None != loc_id and loc_id not in dict_adm2:\n",
    "            dict_adm2[loc_id] = loc_str\n",
    "        gztr.adm2_keys_filter = list(dict_adm2.keys())\n",
    "    \n",
    "    for index, item in sr_locs.iteritems():\n",
    "        loc_id, loc_str = gztr.search_gazetteer_by_name(4, index, sr_locs, 3)\n",
    "        if None != loc_id and loc_id not in dict_adm3:\n",
    "            dict_adm3[loc_id] = loc_str\n",
    "            \n",
    "    return dict_adm1, dict_adm2, dict_adm3"
   ]
  },
  {
   "cell_type": "code",
   "execution_count": null,
   "metadata": {},
   "outputs": [],
   "source": [
    "def consolidate_adm3(adm_loc):\n",
    "    adm3_str = ''\n",
    "    tmp_dict_adm3 = {}\n",
    "    dict_adm2 = adm_loc.dict_adm2\n",
    "    dict_adm3 = adm_loc.dict_adm3\n",
    "        \n",
    "    adm3_keys = [ \".\".join(k.split('.')[:-1]) for k in list(dict_adm3.keys()) ]\n",
    "    adm3_prefix_keys = [ k for k in adm3_keys if k in dict_adm2 ]\n",
    "    for key in adm3_prefix_keys:\n",
    "        key = key + \".\"\n",
    "        tmp_dict = { k : v for k, v in dict_adm3.items() if k.startswith(key) }\n",
    "        tmp_dict_adm3.update(tmp_dict)\n",
    "    \n",
    "    adm_loc.dict_adm3 = tmp_dict_adm3\n",
    "    return adm_loc\n",
    "    "
   ]
  },
  {
   "cell_type": "code",
   "execution_count": null,
   "metadata": {},
   "outputs": [],
   "source": [
    "def consolidate_adm2(adm_loc):\n",
    "    dict_adm2 = adm_loc.dict_adm2\n",
    "    dict_adm3 = adm_loc.dict_adm3\n",
    "    \n",
    "    # if empty the check adm3\n",
    "    if 0 >= len(list(dict_adm2.keys())):\n",
    "        adm3_keys = [ \".\".join(k.split('.')[:-1]) for k in list(dict_adm3.keys()) ]\n",
    "        new_adm2_keys = [ k for k in adm3_keys if k not in dict_adm2.keys() ]\n",
    "        sr_id = pd.Series(new_adm2_keys)\n",
    "        \n",
    "        for index, item in sr_id.iteritems():\n",
    "            loc_id, loc_str = gztr.search_gazetteer_by_id(1, index, sr_id, 2)\n",
    "            if None != loc_id and None != loc_str:\n",
    "                dict_adm2[loc_id] = loc_str\n",
    "    \n",
    "    adm_loc.dict_adm2 = dict_adm2\n",
    "    return adm_loc"
   ]
  },
  {
   "cell_type": "code",
   "execution_count": null,
   "metadata": {},
   "outputs": [],
   "source": [
    "def consolidate_adm1(adm_loc):\n",
    "    dict_adm1 = adm_loc.dict_adm1\n",
    "    dict_adm2 = adm_loc.dict_adm2\n",
    "    \n",
    "    # Refer to adm2 list\n",
    "    adm2_keys = [ \".\".join(k.split('.')[:-1]) for k in list(dict_adm2.keys()) ]\n",
    "    new_adm1_keys = [ k for k in adm2_keys if k not in dict_adm1 ]\n",
    "    sr_id = pd.Series(new_adm1_keys)\n",
    "    \n",
    "    for index, item in sr_id.iteritems():\n",
    "        loc_id, loc_str = gztr.search_gazetteer_by_id(1, index, sr_id, 1)\n",
    "        if None != loc_id and None != loc_str:\n",
    "            dict_adm1[loc_id] = loc_str\n",
    "    \n",
    "    \n",
    "    adm_loc.dict_adm1 = dict_adm1\n",
    "    return adm_loc"
   ]
  },
  {
   "cell_type": "code",
   "execution_count": null,
   "metadata": {},
   "outputs": [],
   "source": [
    "# Prepared dataframe\n",
    "f_in = '/home/admin/text_processing/anotated_data/gold_standard/date_loc/date_loc_gold_standard_v02_ner_w_tokens.xlsx'\n",
    "\n",
    "df_ner = pd.read_excel(f_in)\n",
    "df_data = df_ner[df_ner.raw_ner.notnull()].copy()\n",
    "\n",
    "df_out = df_ner[['id']].copy()\n",
    "df_out['adm1'] = ''\n",
    "df_out['adm2'] = ''\n",
    "df_out['adm3'] = ''\n",
    "\n",
    "# Initilize gazetteer\n",
    "gztr = GZTR()\n",
    "\n",
    "for index, row in df_data.iterrows():\n",
    "    adm_loc = ADMLoc()\n",
    "    row_id = row['id']\n",
    "    sr_locs = pd.Series([ l.strip() for l in row['raw_ner'].split(',')])\n",
    "    adm_loc.dict_adm1, adm_loc.dict_adm2, adm_loc.dict_adm3 =\\\n",
    "        search_in_gazetteer(sr_locs)\n",
    "\n",
    "    adm_loc = consolidate_adm2(adm_loc)\n",
    "    adm_loc = consolidate_adm3(adm_loc)\n",
    "    adm_loc = consolidate_adm1(adm_loc)\n",
    "\n",
    "    adm1_str = ', '.join(list(adm_loc.dict_adm1.values()))\n",
    "    adm2_str = ', '.join(list(adm_loc.dict_adm2.values()))\n",
    "    adm3_str = ', '.join(list(adm_loc.dict_adm3.values()))\n",
    "\n",
    "    df_out.loc[df_out['id'] == row_id, 'adm1'] = adm1_str         \n",
    "    df_out.loc[df_out['id'] == row_id, 'adm2'] = adm2_str\n",
    "    df_out.loc[df_out['id'] == row_id, 'adm3'] = adm3_str"
   ]
  },
  {
   "cell_type": "code",
   "execution_count": 3,
   "metadata": {},
   "outputs": [
    {
     "name": "stdout",
     "output_type": "stream",
     "text": [
      ">> 75.05 gorontalo utara\n",
      ">> None None\n",
      ">> None None\n",
      ">> 32.04 bandung\n"
     ]
    }
   ],
   "source": [
    "sr_locs = pd.Series(['gorontalo', 'utara', 'kabupaten', 'bandung'])\n",
    "gztr = GZTR()\n",
    "for index, item in sr_locs.iteritems():\n",
    "        loc_id, loc_str = gztr.search_gazetteer_by_name(4, index, sr_locs, 2)\n",
    "        print(\">>\", loc_id, loc_str)"
   ]
  },
  {
   "cell_type": "code",
   "execution_count": null,
   "metadata": {},
   "outputs": [],
   "source": []
  }
 ],
 "metadata": {
  "kernelspec": {
   "display_name": "Python 3",
   "language": "python",
   "name": "python3"
  },
  "language_info": {
   "codemirror_mode": {
    "name": "ipython",
    "version": 3
   },
   "file_extension": ".py",
   "mimetype": "text/x-python",
   "name": "python",
   "nbconvert_exporter": "python",
   "pygments_lexer": "ipython3",
   "version": "3.7.3"
  }
 },
 "nbformat": 4,
 "nbformat_minor": 4
}
