{
 "cells": [
  {
   "cell_type": "code",
   "execution_count": 9,
   "metadata": {},
   "outputs": [],
   "source": [
    "import pandas as pd\n",
    "from ner_measurement import NerMeasurement as NM"
   ]
  },
  {
   "cell_type": "code",
   "execution_count": 10,
   "metadata": {},
   "outputs": [],
   "source": [
    "f_ref = 'C:\\\\Users\\\\dharmapu\\\\Documents\\\\personal\\\\ui\\\\KA-AMSD_src\\\\src\\\\text_processing\\\\tmp_dir\\\\loc\\\\location_data.xlsx'\n",
    "f_pred = 'C:\\\\Users\\\\dharmapu\\\\Documents\\\\personal\\\\ui\\\\KA-AMSD_src\\\\src\\\\text_processing\\\\tmp_dir\\\\loc\\\\location_text_ner_st_keywords_result_1.xlsx'\n",
    "\n",
    "df_ref = pd.read_excel(f_ref)\n",
    "df_pred = pd.read_excel(f_pred)"
   ]
  },
  {
   "cell_type": "code",
   "execution_count": 11,
   "metadata": {},
   "outputs": [],
   "source": [
    "df_out = df_ref[['id','adm1', 'adm2', 'adm3']].copy()\n",
    "df_out[['pred_adm1', 'pred_adm2', 'pred_adm3']] = df_pred[['adm1', 'adm2', 'adm3']].copy()\n",
    "df_out.fillna('', inplace=True)\n",
    "\n",
    "df_out['jc_adm1'] = ''\n",
    "df_out['p_adm1'] = ''\n",
    "df_out['r_adm1'] = ''\n",
    "df_out['f1_adm1'] = ''"
   ]
  },
  {
   "cell_type": "code",
   "execution_count": 12,
   "metadata": {},
   "outputs": [],
   "source": [
    "def measure(str_true, str_pred):\n",
    "    l_true = [ e.strip() for e in str_true.split(',') ]\n",
    "    l_pred = [ e.strip() for e in str_pred.split(',') ]\n",
    "    nm = NM(l_true, l_pred)\n",
    "    jc_sm = nm.jaccard_simmilarity()\n",
    "    p = nm.precision()\n",
    "    r = nm.recall()\n",
    "    f1 = nm.f1_score()\n",
    "    \n",
    "    return jc_sm, p, r, f1\n",
    "    "
   ]
  },
  {
   "cell_type": "code",
   "execution_count": 13,
   "metadata": {},
   "outputs": [],
   "source": [
    "for index, row in df_out.iterrows():\n",
    "    jc_adm1, p_adm1, r_adm1, f1_adm1 = measure(row['adm1'], row['pred_adm1'])\n",
    "    df_out.loc[index, 'jc_adm1'] = jc_adm1\n",
    "    df_out.loc[index, 'p_adm1'] = p_adm1\n",
    "    df_out.loc[index, 'r_adm1'] = r_adm1\n",
    "    df_out.loc[index, 'f1_adm1'] = f1_adm1\n",
    "    \n",
    "    jc_adm2, p_adm2, r_adm2, f1_adm2 = measure(row['adm2'], row['pred_adm2'])\n",
    "    df_out.loc[index, 'jc_adm2'] = jc_adm2\n",
    "    df_out.loc[index, 'p_adm2'] = p_adm2\n",
    "    df_out.loc[index, 'r_adm2'] = r_adm2\n",
    "    df_out.loc[index, 'f1_adm2'] = f1_adm2\n",
    "    \n",
    "    jc_adm3, p_adm3, r_adm3, f1_adm3 = measure(row['adm3'], row['pred_adm3'])\n",
    "    df_out.loc[index, 'jc_adm3'] = jc_adm3\n",
    "    df_out.loc[index, 'p_adm3'] = p_adm3\n",
    "    df_out.loc[index, 'r_adm3'] = r_adm3\n",
    "    df_out.loc[index, 'f1_adm3'] = f1_adm3\n",
    "\n",
    "    df_out.loc[index, 'jc_avg'] = (jc_adm3 + jc_adm2 + jc_adm1) / 3\n",
    "    df_out.loc[index, 'p_avg']  = (p_adm3 + p_adm2 + p_adm1) / 3\n",
    "    df_out.loc[index, 'r_avg']  = (r_adm3 + r_adm1 + r_adm1) / 3\n",
    "    df_out.loc[index, 'f1_avg'] = (f1_adm3 + f1_adm2 + f1_adm1) / 3\n"
   ]
  },
  {
   "cell_type": "code",
   "execution_count": 14,
   "metadata": {},
   "outputs": [
    {
     "output_type": "execute_result",
     "data": {
      "text/plain": [
       "                    id             adm1           adm2              adm3  \\\n",
       "0     angin_topan_0001             aceh   bener meriah         wih pesam   \n",
       "1     angin_topan_0002             aceh       simeulue    simeulue timur   \n",
       "2     angin_topan_0003             aceh         sabang  sukakarya sabang   \n",
       "3     angin_topan_0005             aceh       simeulue    simeulue timur   \n",
       "4     angin_topan_0006             aceh     aceh barat        sungai mas   \n",
       "...                ...              ...            ...               ...   \n",
       "2207      tsunami_1153  sulawesi tengah           palu                     \n",
       "2208      tsunami_1154  sulawesi tengah  donggala,palu                     \n",
       "2209      tsunami_1158  sulawesi tengah  donggala,palu                     \n",
       "2210      tsunami_1160           banten                                    \n",
       "2211      tsunami_1163  sulawesi tengah           palu                     \n",
       "\n",
       "                        pred_adm1   pred_adm2       pred_adm3 jc_adm1 p_adm1  \\\n",
       "0                                                                   0      0   \n",
       "1                            aceh    simeulue  simeulue timur       1      1   \n",
       "2                                                                   0      0   \n",
       "3                            aceh    simeulue  simeulue timur       1      1   \n",
       "4                            aceh  aceh barat      sungai mas       1      1   \n",
       "...                           ...         ...             ...     ...    ...   \n",
       "2207              sulawesi tengah        palu                       1      1   \n",
       "2208              sulawesi tengah    donggala                       1      1   \n",
       "2209  jawa timur, sulawesi tengah                                 0.5    0.5   \n",
       "2210                       banten                                   1      1   \n",
       "2211              sulawesi tengah                                   1      1   \n",
       "\n",
       "     r_adm1  ... r_adm2   f1_adm2  jc_adm3  p_adm3  r_adm3  f1_adm3    jc_avg  \\\n",
       "0         0  ...    0.0  0.000000      0.0     0.0     0.0      0.0  0.000000   \n",
       "1         1  ...    1.0  1.000000      1.0     1.0     1.0      1.0  1.000000   \n",
       "2         0  ...    0.0  0.000000      0.0     0.0     0.0      0.0  0.000000   \n",
       "3         1  ...    1.0  1.000000      1.0     1.0     1.0      1.0  1.000000   \n",
       "4         1  ...    1.0  1.000000      1.0     1.0     1.0      1.0  1.000000   \n",
       "...     ...  ...    ...       ...      ...     ...     ...      ...       ...   \n",
       "2207      1  ...    1.0  1.000000      1.0     1.0     1.0      1.0  1.000000   \n",
       "2208      1  ...    0.5  0.666667      1.0     1.0     1.0      1.0  0.833333   \n",
       "2209      1  ...    0.0  0.000000      1.0     1.0     1.0      1.0  0.500000   \n",
       "2210      1  ...    1.0  1.000000      1.0     1.0     1.0      1.0  1.000000   \n",
       "2211      1  ...    0.0  0.000000      1.0     1.0     1.0      1.0  0.666667   \n",
       "\n",
       "         p_avg  r_avg    f1_avg  \n",
       "0     0.000000    0.0  0.000000  \n",
       "1     1.000000    1.0  1.000000  \n",
       "2     0.000000    0.0  0.000000  \n",
       "3     1.000000    1.0  1.000000  \n",
       "4     1.000000    1.0  1.000000  \n",
       "...        ...    ...       ...  \n",
       "2207  1.000000    1.0  1.000000  \n",
       "2208  1.000000    1.0  0.888889  \n",
       "2209  0.500000    1.0  0.555556  \n",
       "2210  1.000000    1.0  1.000000  \n",
       "2211  0.666667    1.0  0.666667  \n",
       "\n",
       "[2212 rows x 23 columns]"
      ],
      "text/html": "<div>\n<style scoped>\n    .dataframe tbody tr th:only-of-type {\n        vertical-align: middle;\n    }\n\n    .dataframe tbody tr th {\n        vertical-align: top;\n    }\n\n    .dataframe thead th {\n        text-align: right;\n    }\n</style>\n<table border=\"1\" class=\"dataframe\">\n  <thead>\n    <tr style=\"text-align: right;\">\n      <th></th>\n      <th>id</th>\n      <th>adm1</th>\n      <th>adm2</th>\n      <th>adm3</th>\n      <th>pred_adm1</th>\n      <th>pred_adm2</th>\n      <th>pred_adm3</th>\n      <th>jc_adm1</th>\n      <th>p_adm1</th>\n      <th>r_adm1</th>\n      <th>...</th>\n      <th>r_adm2</th>\n      <th>f1_adm2</th>\n      <th>jc_adm3</th>\n      <th>p_adm3</th>\n      <th>r_adm3</th>\n      <th>f1_adm3</th>\n      <th>jc_avg</th>\n      <th>p_avg</th>\n      <th>r_avg</th>\n      <th>f1_avg</th>\n    </tr>\n  </thead>\n  <tbody>\n    <tr>\n      <th>0</th>\n      <td>angin_topan_0001</td>\n      <td>aceh</td>\n      <td>bener meriah</td>\n      <td>wih pesam</td>\n      <td></td>\n      <td></td>\n      <td></td>\n      <td>0</td>\n      <td>0</td>\n      <td>0</td>\n      <td>...</td>\n      <td>0.0</td>\n      <td>0.000000</td>\n      <td>0.0</td>\n      <td>0.0</td>\n      <td>0.0</td>\n      <td>0.0</td>\n      <td>0.000000</td>\n      <td>0.000000</td>\n      <td>0.0</td>\n      <td>0.000000</td>\n    </tr>\n    <tr>\n      <th>1</th>\n      <td>angin_topan_0002</td>\n      <td>aceh</td>\n      <td>simeulue</td>\n      <td>simeulue timur</td>\n      <td>aceh</td>\n      <td>simeulue</td>\n      <td>simeulue timur</td>\n      <td>1</td>\n      <td>1</td>\n      <td>1</td>\n      <td>...</td>\n      <td>1.0</td>\n      <td>1.000000</td>\n      <td>1.0</td>\n      <td>1.0</td>\n      <td>1.0</td>\n      <td>1.0</td>\n      <td>1.000000</td>\n      <td>1.000000</td>\n      <td>1.0</td>\n      <td>1.000000</td>\n    </tr>\n    <tr>\n      <th>2</th>\n      <td>angin_topan_0003</td>\n      <td>aceh</td>\n      <td>sabang</td>\n      <td>sukakarya sabang</td>\n      <td></td>\n      <td></td>\n      <td></td>\n      <td>0</td>\n      <td>0</td>\n      <td>0</td>\n      <td>...</td>\n      <td>0.0</td>\n      <td>0.000000</td>\n      <td>0.0</td>\n      <td>0.0</td>\n      <td>0.0</td>\n      <td>0.0</td>\n      <td>0.000000</td>\n      <td>0.000000</td>\n      <td>0.0</td>\n      <td>0.000000</td>\n    </tr>\n    <tr>\n      <th>3</th>\n      <td>angin_topan_0005</td>\n      <td>aceh</td>\n      <td>simeulue</td>\n      <td>simeulue timur</td>\n      <td>aceh</td>\n      <td>simeulue</td>\n      <td>simeulue timur</td>\n      <td>1</td>\n      <td>1</td>\n      <td>1</td>\n      <td>...</td>\n      <td>1.0</td>\n      <td>1.000000</td>\n      <td>1.0</td>\n      <td>1.0</td>\n      <td>1.0</td>\n      <td>1.0</td>\n      <td>1.000000</td>\n      <td>1.000000</td>\n      <td>1.0</td>\n      <td>1.000000</td>\n    </tr>\n    <tr>\n      <th>4</th>\n      <td>angin_topan_0006</td>\n      <td>aceh</td>\n      <td>aceh barat</td>\n      <td>sungai mas</td>\n      <td>aceh</td>\n      <td>aceh barat</td>\n      <td>sungai mas</td>\n      <td>1</td>\n      <td>1</td>\n      <td>1</td>\n      <td>...</td>\n      <td>1.0</td>\n      <td>1.000000</td>\n      <td>1.0</td>\n      <td>1.0</td>\n      <td>1.0</td>\n      <td>1.0</td>\n      <td>1.000000</td>\n      <td>1.000000</td>\n      <td>1.0</td>\n      <td>1.000000</td>\n    </tr>\n    <tr>\n      <th>...</th>\n      <td>...</td>\n      <td>...</td>\n      <td>...</td>\n      <td>...</td>\n      <td>...</td>\n      <td>...</td>\n      <td>...</td>\n      <td>...</td>\n      <td>...</td>\n      <td>...</td>\n      <td>...</td>\n      <td>...</td>\n      <td>...</td>\n      <td>...</td>\n      <td>...</td>\n      <td>...</td>\n      <td>...</td>\n      <td>...</td>\n      <td>...</td>\n      <td>...</td>\n      <td>...</td>\n    </tr>\n    <tr>\n      <th>2207</th>\n      <td>tsunami_1153</td>\n      <td>sulawesi tengah</td>\n      <td>palu</td>\n      <td></td>\n      <td>sulawesi tengah</td>\n      <td>palu</td>\n      <td></td>\n      <td>1</td>\n      <td>1</td>\n      <td>1</td>\n      <td>...</td>\n      <td>1.0</td>\n      <td>1.000000</td>\n      <td>1.0</td>\n      <td>1.0</td>\n      <td>1.0</td>\n      <td>1.0</td>\n      <td>1.000000</td>\n      <td>1.000000</td>\n      <td>1.0</td>\n      <td>1.000000</td>\n    </tr>\n    <tr>\n      <th>2208</th>\n      <td>tsunami_1154</td>\n      <td>sulawesi tengah</td>\n      <td>donggala,palu</td>\n      <td></td>\n      <td>sulawesi tengah</td>\n      <td>donggala</td>\n      <td></td>\n      <td>1</td>\n      <td>1</td>\n      <td>1</td>\n      <td>...</td>\n      <td>0.5</td>\n      <td>0.666667</td>\n      <td>1.0</td>\n      <td>1.0</td>\n      <td>1.0</td>\n      <td>1.0</td>\n      <td>0.833333</td>\n      <td>1.000000</td>\n      <td>1.0</td>\n      <td>0.888889</td>\n    </tr>\n    <tr>\n      <th>2209</th>\n      <td>tsunami_1158</td>\n      <td>sulawesi tengah</td>\n      <td>donggala,palu</td>\n      <td></td>\n      <td>jawa timur, sulawesi tengah</td>\n      <td></td>\n      <td></td>\n      <td>0.5</td>\n      <td>0.5</td>\n      <td>1</td>\n      <td>...</td>\n      <td>0.0</td>\n      <td>0.000000</td>\n      <td>1.0</td>\n      <td>1.0</td>\n      <td>1.0</td>\n      <td>1.0</td>\n      <td>0.500000</td>\n      <td>0.500000</td>\n      <td>1.0</td>\n      <td>0.555556</td>\n    </tr>\n    <tr>\n      <th>2210</th>\n      <td>tsunami_1160</td>\n      <td>banten</td>\n      <td></td>\n      <td></td>\n      <td>banten</td>\n      <td></td>\n      <td></td>\n      <td>1</td>\n      <td>1</td>\n      <td>1</td>\n      <td>...</td>\n      <td>1.0</td>\n      <td>1.000000</td>\n      <td>1.0</td>\n      <td>1.0</td>\n      <td>1.0</td>\n      <td>1.0</td>\n      <td>1.000000</td>\n      <td>1.000000</td>\n      <td>1.0</td>\n      <td>1.000000</td>\n    </tr>\n    <tr>\n      <th>2211</th>\n      <td>tsunami_1163</td>\n      <td>sulawesi tengah</td>\n      <td>palu</td>\n      <td></td>\n      <td>sulawesi tengah</td>\n      <td></td>\n      <td></td>\n      <td>1</td>\n      <td>1</td>\n      <td>1</td>\n      <td>...</td>\n      <td>0.0</td>\n      <td>0.000000</td>\n      <td>1.0</td>\n      <td>1.0</td>\n      <td>1.0</td>\n      <td>1.0</td>\n      <td>0.666667</td>\n      <td>0.666667</td>\n      <td>1.0</td>\n      <td>0.666667</td>\n    </tr>\n  </tbody>\n</table>\n<p>2212 rows × 23 columns</p>\n</div>"
     },
     "metadata": {},
     "execution_count": 14
    }
   ],
   "source": [
    "df_out"
   ]
  },
  {
   "cell_type": "code",
   "execution_count": 15,
   "metadata": {},
   "outputs": [
    {
     "output_type": "stream",
     "name": "stdout",
     "text": [
      "['MEAN', 'N/A', 'N/A', 'N/A', 'N/A', 'N/A', 'N/A', '0.684877', '0.710518', '0.723824', '0.705360', '0.558558', '0.611834', '0.595694', '0.587091', '0.460908', '0.484558', '0.501504', '0.481007', '0.568115', '0.602304', '0.649717', '0.591153']\n"
     ]
    },
    {
     "output_type": "execute_result",
     "data": {
      "text/plain": [
       "                    id             adm1           adm2              adm3  \\\n",
       "0     angin_topan_0001             aceh   bener meriah         wih pesam   \n",
       "1     angin_topan_0002             aceh       simeulue    simeulue timur   \n",
       "2     angin_topan_0003             aceh         sabang  sukakarya sabang   \n",
       "3     angin_topan_0005             aceh       simeulue    simeulue timur   \n",
       "4     angin_topan_0006             aceh     aceh barat        sungai mas   \n",
       "...                ...              ...            ...               ...   \n",
       "2208      tsunami_1154  sulawesi tengah  donggala,palu                     \n",
       "2209      tsunami_1158  sulawesi tengah  donggala,palu                     \n",
       "2210      tsunami_1160           banten                                    \n",
       "2211      tsunami_1163  sulawesi tengah           palu                     \n",
       "2212              MEAN              N/A            N/A               N/A   \n",
       "\n",
       "                        pred_adm1   pred_adm2       pred_adm3   jc_adm1  \\\n",
       "0                                                                     0   \n",
       "1                            aceh    simeulue  simeulue timur         1   \n",
       "2                                                                     0   \n",
       "3                            aceh    simeulue  simeulue timur         1   \n",
       "4                            aceh  aceh barat      sungai mas         1   \n",
       "...                           ...         ...             ...       ...   \n",
       "2208              sulawesi tengah    donggala                         1   \n",
       "2209  jawa timur, sulawesi tengah                                   0.5   \n",
       "2210                       banten                                     1   \n",
       "2211              sulawesi tengah                                     1   \n",
       "2212                          N/A         N/A             N/A  0.684877   \n",
       "\n",
       "        p_adm1    r_adm1  ...    r_adm2   f1_adm2   jc_adm3    p_adm3  \\\n",
       "0            0         0  ...         0         0         0         0   \n",
       "1            1         1  ...         1         1         1         1   \n",
       "2            0         0  ...         0         0         0         0   \n",
       "3            1         1  ...         1         1         1         1   \n",
       "4            1         1  ...         1         1         1         1   \n",
       "...        ...       ...  ...       ...       ...       ...       ...   \n",
       "2208         1         1  ...       0.5  0.666667         1         1   \n",
       "2209       0.5         1  ...         0         0         1         1   \n",
       "2210         1         1  ...         1         1         1         1   \n",
       "2211         1         1  ...         0         0         1         1   \n",
       "2212  0.710518  0.723824  ...  0.595694  0.587091  0.460908  0.484558   \n",
       "\n",
       "        r_adm3   f1_adm3    jc_avg     p_avg     r_avg    f1_avg  \n",
       "0            0         0         0         0         0         0  \n",
       "1            1         1         1         1         1         1  \n",
       "2            0         0         0         0         0         0  \n",
       "3            1         1         1         1         1         1  \n",
       "4            1         1         1         1         1         1  \n",
       "...        ...       ...       ...       ...       ...       ...  \n",
       "2208         1         1  0.833333         1         1  0.888889  \n",
       "2209         1         1       0.5       0.5         1  0.555556  \n",
       "2210         1         1         1         1         1         1  \n",
       "2211         1         1  0.666667  0.666667         1  0.666667  \n",
       "2212  0.501504  0.481007  0.568115  0.602304  0.649717  0.591153  \n",
       "\n",
       "[2213 rows x 23 columns]"
      ],
      "text/html": "<div>\n<style scoped>\n    .dataframe tbody tr th:only-of-type {\n        vertical-align: middle;\n    }\n\n    .dataframe tbody tr th {\n        vertical-align: top;\n    }\n\n    .dataframe thead th {\n        text-align: right;\n    }\n</style>\n<table border=\"1\" class=\"dataframe\">\n  <thead>\n    <tr style=\"text-align: right;\">\n      <th></th>\n      <th>id</th>\n      <th>adm1</th>\n      <th>adm2</th>\n      <th>adm3</th>\n      <th>pred_adm1</th>\n      <th>pred_adm2</th>\n      <th>pred_adm3</th>\n      <th>jc_adm1</th>\n      <th>p_adm1</th>\n      <th>r_adm1</th>\n      <th>...</th>\n      <th>r_adm2</th>\n      <th>f1_adm2</th>\n      <th>jc_adm3</th>\n      <th>p_adm3</th>\n      <th>r_adm3</th>\n      <th>f1_adm3</th>\n      <th>jc_avg</th>\n      <th>p_avg</th>\n      <th>r_avg</th>\n      <th>f1_avg</th>\n    </tr>\n  </thead>\n  <tbody>\n    <tr>\n      <th>0</th>\n      <td>angin_topan_0001</td>\n      <td>aceh</td>\n      <td>bener meriah</td>\n      <td>wih pesam</td>\n      <td></td>\n      <td></td>\n      <td></td>\n      <td>0</td>\n      <td>0</td>\n      <td>0</td>\n      <td>...</td>\n      <td>0</td>\n      <td>0</td>\n      <td>0</td>\n      <td>0</td>\n      <td>0</td>\n      <td>0</td>\n      <td>0</td>\n      <td>0</td>\n      <td>0</td>\n      <td>0</td>\n    </tr>\n    <tr>\n      <th>1</th>\n      <td>angin_topan_0002</td>\n      <td>aceh</td>\n      <td>simeulue</td>\n      <td>simeulue timur</td>\n      <td>aceh</td>\n      <td>simeulue</td>\n      <td>simeulue timur</td>\n      <td>1</td>\n      <td>1</td>\n      <td>1</td>\n      <td>...</td>\n      <td>1</td>\n      <td>1</td>\n      <td>1</td>\n      <td>1</td>\n      <td>1</td>\n      <td>1</td>\n      <td>1</td>\n      <td>1</td>\n      <td>1</td>\n      <td>1</td>\n    </tr>\n    <tr>\n      <th>2</th>\n      <td>angin_topan_0003</td>\n      <td>aceh</td>\n      <td>sabang</td>\n      <td>sukakarya sabang</td>\n      <td></td>\n      <td></td>\n      <td></td>\n      <td>0</td>\n      <td>0</td>\n      <td>0</td>\n      <td>...</td>\n      <td>0</td>\n      <td>0</td>\n      <td>0</td>\n      <td>0</td>\n      <td>0</td>\n      <td>0</td>\n      <td>0</td>\n      <td>0</td>\n      <td>0</td>\n      <td>0</td>\n    </tr>\n    <tr>\n      <th>3</th>\n      <td>angin_topan_0005</td>\n      <td>aceh</td>\n      <td>simeulue</td>\n      <td>simeulue timur</td>\n      <td>aceh</td>\n      <td>simeulue</td>\n      <td>simeulue timur</td>\n      <td>1</td>\n      <td>1</td>\n      <td>1</td>\n      <td>...</td>\n      <td>1</td>\n      <td>1</td>\n      <td>1</td>\n      <td>1</td>\n      <td>1</td>\n      <td>1</td>\n      <td>1</td>\n      <td>1</td>\n      <td>1</td>\n      <td>1</td>\n    </tr>\n    <tr>\n      <th>4</th>\n      <td>angin_topan_0006</td>\n      <td>aceh</td>\n      <td>aceh barat</td>\n      <td>sungai mas</td>\n      <td>aceh</td>\n      <td>aceh barat</td>\n      <td>sungai mas</td>\n      <td>1</td>\n      <td>1</td>\n      <td>1</td>\n      <td>...</td>\n      <td>1</td>\n      <td>1</td>\n      <td>1</td>\n      <td>1</td>\n      <td>1</td>\n      <td>1</td>\n      <td>1</td>\n      <td>1</td>\n      <td>1</td>\n      <td>1</td>\n    </tr>\n    <tr>\n      <th>...</th>\n      <td>...</td>\n      <td>...</td>\n      <td>...</td>\n      <td>...</td>\n      <td>...</td>\n      <td>...</td>\n      <td>...</td>\n      <td>...</td>\n      <td>...</td>\n      <td>...</td>\n      <td>...</td>\n      <td>...</td>\n      <td>...</td>\n      <td>...</td>\n      <td>...</td>\n      <td>...</td>\n      <td>...</td>\n      <td>...</td>\n      <td>...</td>\n      <td>...</td>\n      <td>...</td>\n    </tr>\n    <tr>\n      <th>2208</th>\n      <td>tsunami_1154</td>\n      <td>sulawesi tengah</td>\n      <td>donggala,palu</td>\n      <td></td>\n      <td>sulawesi tengah</td>\n      <td>donggala</td>\n      <td></td>\n      <td>1</td>\n      <td>1</td>\n      <td>1</td>\n      <td>...</td>\n      <td>0.5</td>\n      <td>0.666667</td>\n      <td>1</td>\n      <td>1</td>\n      <td>1</td>\n      <td>1</td>\n      <td>0.833333</td>\n      <td>1</td>\n      <td>1</td>\n      <td>0.888889</td>\n    </tr>\n    <tr>\n      <th>2209</th>\n      <td>tsunami_1158</td>\n      <td>sulawesi tengah</td>\n      <td>donggala,palu</td>\n      <td></td>\n      <td>jawa timur, sulawesi tengah</td>\n      <td></td>\n      <td></td>\n      <td>0.5</td>\n      <td>0.5</td>\n      <td>1</td>\n      <td>...</td>\n      <td>0</td>\n      <td>0</td>\n      <td>1</td>\n      <td>1</td>\n      <td>1</td>\n      <td>1</td>\n      <td>0.5</td>\n      <td>0.5</td>\n      <td>1</td>\n      <td>0.555556</td>\n    </tr>\n    <tr>\n      <th>2210</th>\n      <td>tsunami_1160</td>\n      <td>banten</td>\n      <td></td>\n      <td></td>\n      <td>banten</td>\n      <td></td>\n      <td></td>\n      <td>1</td>\n      <td>1</td>\n      <td>1</td>\n      <td>...</td>\n      <td>1</td>\n      <td>1</td>\n      <td>1</td>\n      <td>1</td>\n      <td>1</td>\n      <td>1</td>\n      <td>1</td>\n      <td>1</td>\n      <td>1</td>\n      <td>1</td>\n    </tr>\n    <tr>\n      <th>2211</th>\n      <td>tsunami_1163</td>\n      <td>sulawesi tengah</td>\n      <td>palu</td>\n      <td></td>\n      <td>sulawesi tengah</td>\n      <td></td>\n      <td></td>\n      <td>1</td>\n      <td>1</td>\n      <td>1</td>\n      <td>...</td>\n      <td>0</td>\n      <td>0</td>\n      <td>1</td>\n      <td>1</td>\n      <td>1</td>\n      <td>1</td>\n      <td>0.666667</td>\n      <td>0.666667</td>\n      <td>1</td>\n      <td>0.666667</td>\n    </tr>\n    <tr>\n      <th>2212</th>\n      <td>MEAN</td>\n      <td>N/A</td>\n      <td>N/A</td>\n      <td>N/A</td>\n      <td>N/A</td>\n      <td>N/A</td>\n      <td>N/A</td>\n      <td>0.684877</td>\n      <td>0.710518</td>\n      <td>0.723824</td>\n      <td>...</td>\n      <td>0.595694</td>\n      <td>0.587091</td>\n      <td>0.460908</td>\n      <td>0.484558</td>\n      <td>0.501504</td>\n      <td>0.481007</td>\n      <td>0.568115</td>\n      <td>0.602304</td>\n      <td>0.649717</td>\n      <td>0.591153</td>\n    </tr>\n  </tbody>\n</table>\n<p>2213 rows × 23 columns</p>\n</div>"
     },
     "metadata": {},
     "execution_count": 15
    }
   ],
   "source": [
    "columns = ['jc_adm1', 'p_adm1', 'r_adm1', 'f1_adm1', 'jc_adm2','p_adm2', 'r_adm2', 'f1_adm2','jc_adm3', 'p_adm3', 'r_adm3', 'f1_adm3', 'jc_avg', 'p_avg', 'r_avg', 'f1_avg', ] \n",
    "means_list = [ \"{:.6f}\".format(df_out[c].mean()) for c in columns ]\n",
    "means_list\n",
    "\n",
    "lst = ['MEAN', 'N/A', 'N/A', 'N/A', 'N/A', 'N/A', 'N/A']\n",
    "lst = lst + means_list\n",
    "print(lst)\n",
    "df_tmp = df_out.copy()\n",
    "df_tmp.loc[len(df_tmp)] = lst\n",
    "df_tmp"
   ]
  },
  {
   "cell_type": "code",
   "execution_count": 16,
   "metadata": {},
   "outputs": [
    {
     "output_type": "stream",
     "name": "stdout",
     "text": [
      "C:\\Users\\dharmapu\\Documents\\personal\\ui\\KA-AMSD_src\\src\\text_processing\\tmp_dir\\loc\\location_text_ner_st_keywords_result_2_eval.xlsx\n"
     ]
    }
   ],
   "source": [
    "from os.path import basename\n",
    "f_out = f_pred.replace(\".xlsx\", \"_eval.xlsx\")\n",
    "print(f_out)\n",
    "df_out = df_tmp\n",
    "df_out.to_excel(f_out, index=False)"
   ]
  },
  {
   "cell_type": "code",
   "execution_count": null,
   "metadata": {},
   "outputs": [],
   "source": []
  }
 ],
 "metadata": {
  "kernelspec": {
   "display_name": "Python 3",
   "language": "python",
   "name": "python3"
  },
  "language_info": {
   "codemirror_mode": {
    "name": "ipython",
    "version": 3
   },
   "file_extension": ".py",
   "mimetype": "text/x-python",
   "name": "python",
   "nbconvert_exporter": "python",
   "pygments_lexer": "ipython3",
   "version": "3.7.6-final"
  }
 },
 "nbformat": 4,
 "nbformat_minor": 4
}