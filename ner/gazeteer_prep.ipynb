{
 "cells": [
  {
   "cell_type": "code",
   "execution_count": 1,
   "metadata": {},
   "outputs": [],
   "source": [
    "import pandas as pd\n",
    "\n",
    "from gazetteer_loc import GazetteerAdmLoc as GZTR"
   ]
  },
  {
   "cell_type": "code",
   "execution_count": 2,
   "metadata": {},
   "outputs": [],
   "source": [
    "# Prepared dataframe\n",
    "f_in = '/home/admin/text_processing/anotated_data/ner_data/sample_angin_topan_gold_dataset_ner_w_tokens.xlsx'\n",
    "df_ner = pd.read_excel(f_in)\n",
    "df_data = df_ner[df_ner.raw_ner.notnull()].copy()"
   ]
  },
  {
   "cell_type": "code",
   "execution_count": 3,
   "metadata": {},
   "outputs": [],
   "source": [
    "df_out = df_ner[['id']].copy()\n",
    "df_out['adm1'] = ''\n",
    "df_out['adm2'] = ''\n",
    "df_out['adm3'] = ''"
   ]
  },
  {
   "cell_type": "code",
   "execution_count": 4,
   "metadata": {},
   "outputs": [],
   "source": [
    "# Initilize gazetteer\n",
    "gztr = GZTR()"
   ]
  },
  {
   "cell_type": "code",
   "execution_count": 5,
   "metadata": {},
   "outputs": [],
   "source": [
    "def search_in_gazetteer(sr_locs):\n",
    "    dict_adm1 = {}\n",
    "    dict_adm2 = {}\n",
    "    dict_adm3 = {}\n",
    "    for index, item in sr_locs.iteritems():\n",
    "        loc_id, loc_str = gztr.search_gazetteer_by_name(4, index, sr_locs, 1)\n",
    "        if None != loc_id and loc_id not in dict_adm1:\n",
    "            dict_adm1[loc_id] = loc_str\n",
    "\n",
    "        loc_id, loc_str = gztr.search_gazetteer_by_name(4, index, sr_locs, 2)\n",
    "        if None != loc_id and loc_id not in dict_adm2:\n",
    "            dict_adm2[loc_id] = loc_str\n",
    "\n",
    "        loc_id, loc_str = gztr.search_gazetteer_by_name(4, index, sr_locs, 3)\n",
    "        if None != loc_id and loc_id not in dict_adm3:\n",
    "            dict_adm3[loc_id] = loc_str\n",
    "            \n",
    "    return dict_adm1, dict_adm2, dict_adm3"
   ]
  },
  {
   "cell_type": "code",
   "execution_count": 6,
   "metadata": {},
   "outputs": [],
   "source": [
    "class ADMLoc:\n",
    "    dict_adm3 = {}\n",
    "    dict_adm2 = {}\n",
    "    dict_adm1 = {}"
   ]
  },
  {
   "cell_type": "code",
   "execution_count": 7,
   "metadata": {},
   "outputs": [],
   "source": [
    "def consolidate_adm3(adm_loc):\n",
    "    adm3_str = ''\n",
    "    tmp_dict_adm3 = {}\n",
    "    dict_adm2 = adm_loc.dict_adm2\n",
    "    dict_adm3 = adm_loc.dict_adm3\n",
    "        \n",
    "    adm3_keys = [ \".\".join(k.split('.')[:-1]) for k in list(dict_adm3.keys()) ]\n",
    "    adm3_prefix_keys = [ k for k in adm3_keys if k in dict_adm2 ]\n",
    "    for key in adm3_prefix_keys:\n",
    "        key = key + \".\"\n",
    "        tmp_dict = { k : v for k, v in dict_adm3.items() if k.startswith(key) }\n",
    "        tmp_dict_adm3.update(tmp_dict)\n",
    "    \n",
    "    adm_loc.dict_adm3 = tmp_dict_adm3\n",
    "    return adm_loc\n",
    "    "
   ]
  },
  {
   "cell_type": "code",
   "execution_count": 8,
   "metadata": {},
   "outputs": [],
   "source": [
    "def consolidate_adm2(adm_loc):\n",
    "    dict_adm2 = adm_loc.dict_adm2\n",
    "    dict_adm3 = adm_loc.dict_adm3\n",
    "    \n",
    "    # if empty the check adm3\n",
    "    if 0 >= len(list(dict_adm2.keys())):\n",
    "        adm3_keys = [ \".\".join(k.split('.')[:-1]) for k in list(dict_adm3.keys()) ]\n",
    "        new_adm2_keys = [ k for k in adm3_keys if k not in dict_adm2.keys() ]\n",
    "        sr_id = pd.Series(new_adm2_keys)\n",
    "        \n",
    "        for index, item in sr_id.iteritems():\n",
    "            loc_id, loc_str = gztr.search_gazetteer_by_id(1, index, sr_id, 2)\n",
    "            if None != loc_id and None != loc_str:\n",
    "                dict_adm2[loc_id] = loc_str\n",
    "    \n",
    "    adm_loc.dict_adm2 = dict_adm2\n",
    "    return adm_loc"
   ]
  },
  {
   "cell_type": "code",
   "execution_count": 9,
   "metadata": {},
   "outputs": [],
   "source": [
    "def consolidate_adm1(adm_loc):\n",
    "    dict_adm1 = adm_loc.dict_adm1\n",
    "    dict_adm2 = adm_loc.dict_adm2\n",
    "    \n",
    "    # Refer to adm2 list\n",
    "    adm2_keys = [ \".\".join(k.split('.')[:-1]) for k in list(dict_adm2.keys()) ]\n",
    "    new_adm1_keys = [ k for k in adm2_keys if k not in dict_adm1 ]\n",
    "    sr_id = pd.Series(new_adm1_keys)\n",
    "    \n",
    "    for index, item in sr_id.iteritems():\n",
    "        loc_id, loc_str = gztr.search_gazetteer_by_id(1, index, sr_id, 1)\n",
    "        if None != loc_id and None != loc_str:\n",
    "            dict_adm1[loc_id] = loc_str\n",
    "    \n",
    "    \n",
    "    adm_loc.dict_adm1 = dict_adm1\n",
    "    return adm_loc"
   ]
  },
  {
   "cell_type": "code",
   "execution_count": 10,
   "metadata": {},
   "outputs": [
    {
     "data": {
      "text/html": [
       "<div>\n",
       "<style scoped>\n",
       "    .dataframe tbody tr th:only-of-type {\n",
       "        vertical-align: middle;\n",
       "    }\n",
       "\n",
       "    .dataframe tbody tr th {\n",
       "        vertical-align: top;\n",
       "    }\n",
       "\n",
       "    .dataframe thead th {\n",
       "        text-align: right;\n",
       "    }\n",
       "</style>\n",
       "<table border=\"1\" class=\"dataframe\">\n",
       "  <thead>\n",
       "    <tr style=\"text-align: right;\">\n",
       "      <th></th>\n",
       "      <th>id</th>\n",
       "      <th>raw_ner</th>\n",
       "      <th>exec_time</th>\n",
       "    </tr>\n",
       "  </thead>\n",
       "  <tbody>\n",
       "    <tr>\n",
       "      <th>12</th>\n",
       "      <td>angin_topan_0013</td>\n",
       "      <td>Jakarta, Selatan</td>\n",
       "      <td>2.408049</td>\n",
       "    </tr>\n",
       "  </tbody>\n",
       "</table>\n",
       "</div>"
      ],
      "text/plain": [
       "                  id           raw_ner  exec_time\n",
       "12  angin_topan_0013  Jakarta, Selatan   2.408049"
      ]
     },
     "execution_count": 10,
     "metadata": {},
     "output_type": "execute_result"
    }
   ],
   "source": [
    "tmp_df = df_data[df_data.id == 'angin_topan_0013']\n",
    "tmp_df"
   ]
  },
  {
   "cell_type": "code",
   "execution_count": 11,
   "metadata": {},
   "outputs": [
    {
     "name": "stderr",
     "output_type": "stream",
     "text": [
      "/home/admin/venv-jupyter/lib/python3.7/site-packages/ipykernel_launcher.py:8: DeprecationWarning: The default dtype for empty Series will be 'object' instead of 'float64' in a future version. Specify a dtype explicitly to silence this warning.\n",
      "  \n"
     ]
    }
   ],
   "source": [
    "for index, row in df_data[df_data.id == 'angin_topan_0013'].iterrows():\n",
    "    adm_loc = ADMLoc()\n",
    "    row_id = row['id']\n",
    "    sr_locs = pd.Series([ l.strip() for l in row['raw_ner'].split(',')])\n",
    "    adm_loc.dict_adm1, adm_loc.dict_adm2, adm_loc.dict_adm3 =\\\n",
    "        search_in_gazetteer(sr_locs)\n",
    "    \n",
    "    adm_loc = consolidate_adm2(adm_loc)\n",
    "    adm_loc = consolidate_adm3(adm_loc)\n",
    "    adm_loc = consolidate_adm1(adm_loc)\n",
    "    \n",
    "    adm1_str = ', '.join(list(adm_loc.dict_adm1.values()))\n",
    "    adm2_str = ', '.join(list(adm_loc.dict_adm2.values()))\n",
    "    adm3_str = ', '.join(list(adm_loc.dict_adm3.values()))\n",
    "    \n",
    "    df_out.loc[df_out['id'] == row_id, 'adm1'] = adm1_str         \n",
    "    df_out.loc[df_out['id'] == row_id, 'adm2'] = adm2_str\n",
    "    df_out.loc[df_out['id'] == row_id, 'adm3'] = adm3_str"
   ]
  },
  {
   "cell_type": "code",
   "execution_count": null,
   "metadata": {},
   "outputs": [],
   "source": []
  }
 ],
 "metadata": {
  "kernelspec": {
   "display_name": "Python 3",
   "language": "python",
   "name": "python3"
  },
  "language_info": {
   "codemirror_mode": {
    "name": "ipython",
    "version": 3
   },
   "file_extension": ".py",
   "mimetype": "text/x-python",
   "name": "python",
   "nbconvert_exporter": "python",
   "pygments_lexer": "ipython3",
   "version": "3.7.3"
  }
 },
 "nbformat": 4,
 "nbformat_minor": 4
}
