{
 "metadata": {
  "language_info": {
   "codemirror_mode": {
    "name": "ipython",
    "version": 3
   },
   "file_extension": ".py",
   "mimetype": "text/x-python",
   "name": "python",
   "nbconvert_exporter": "python",
   "pygments_lexer": "ipython3",
   "version": "3.7.6-final"
  },
  "orig_nbformat": 2,
  "kernelspec": {
   "name": "python3",
   "display_name": "Python 3",
   "language": "python"
  }
 },
 "nbformat": 4,
 "nbformat_minor": 2,
 "cells": [
  {
   "cell_type": "code",
   "execution_count": 1,
   "metadata": {},
   "outputs": [],
   "source": [
    "import pandas as pd"
   ]
  },
  {
   "cell_type": "code",
   "execution_count": 2,
   "metadata": {},
   "outputs": [],
   "source": [
    "def get_anotated_file(bencana):\n",
    "    #d_anotated = f'D:\\\\data-gusman\\\\tmp\\\\anotated_data\\\\{bencana}\\\\v02-new\\\\'\n",
    "    d_anotated = f'C:\\\\Users\\\\dharmapu\\\\Documents\\\\personal\\\\ui\\\\KA-AMSD_src\\\\paper-submission\\\\anotated_data\\\\{bencana}\\\\v02-new\\\\'\n",
    "    f_path = d_anotated + f'sample_{bencana}_anotasi_v02_new.xlsx'\n",
    "    return f_path"
   ]
  },
  {
   "cell_type": "code",
   "execution_count": 3,
   "metadata": {},
   "outputs": [],
   "source": [
    "def get_data_file(bencana):\n",
    "    #d_anotated = f'D:\\\\data-gusman\\\\tmp\\\\anotated_data\\\\{bencana}\\\\v02-new\\\\'\n",
    "    d_anotated = f'C:\\\\Users\\\\dharmapu\\\\Documents\\\\personal\\\\ui\\\\KA-AMSD_src\\\\paper-submission\\\\anotated_data\\\\{bencana}\\\\v02-new\\\\'\n",
    "    f_data = d_anotated + f'sample_{bencana}_data.json'\n",
    "    return f_data"
   ]
  },
  {
   "cell_type": "code",
   "execution_count": 4,
   "metadata": {},
   "outputs": [],
   "source": [
    "import re\n",
    "\n",
    "def get_adm_information(id, df_anotated):\n",
    "    df_data = df_anotated[ df_anotated['id'] == id ].copy()\n",
    "    l_adm1 = [ d for d in df_data['Lokasi ADM1'].values ]\n",
    "    l_adm2 = [ d for d in df_data['Lokasi ADM2'].values ]\n",
    "    l_adm3 = [ d for d in df_data['Lokasi ADM3'].values ]\n",
    "    \n",
    "    l_adm1 = [ e.strip().lower() for e in l_adm1 if str(e).lower().strip() != 'nan'.lower() and str(e).lower().strip() != 'NULL'.lower()]\n",
    "    l_adm2 = [ e.strip().lower() for e in l_adm2 if str(e).lower().strip() != 'nan'.lower() and str(e).lower().strip() != 'NULL'.lower()]\n",
    "    l_adm3 = [ e.strip().lower() for e in l_adm3 if str(e).lower().strip() != 'nan'.lower() and str(e).lower().strip() != 'NULL'.lower()]\n",
    "\n",
    "    l_adm2 = [ e.replace('kabupaten', '').strip() for e in l_adm2 ]\n",
    "    l_adm2 = [ e.replace('kota', '').strip() for e in l_adm2 ]\n",
    "\n",
    "    return ','.join(set(l_adm1)), ','.join(set(l_adm2)), ','.join(set(l_adm3))"
   ]
  },
  {
   "cell_type": "code",
   "execution_count": 5,
   "metadata": {},
   "outputs": [],
   "source": [
    "l_bencana = ['angin_topan', 'banjir', 'erupsi', 'gempa', 'karhutla', 'kekeringan', 'longsor', 'tsunami']\n",
    "\n"
   ]
  },
  {
   "cell_type": "code",
   "execution_count": 6,
   "metadata": {},
   "outputs": [],
   "source": [
    "df_angin_topan = pd.read_excel(get_anotated_file('angin_topan'))\n",
    "df_banjir = pd.read_excel(get_anotated_file('banjir'))\n",
    "df_erupsi = pd.read_excel(get_anotated_file('erupsi'))\n",
    "df_gempa = pd.read_excel(get_anotated_file('gempa'))\n",
    "df_karthula = pd.read_excel(get_anotated_file('karhutla'))\n",
    "df_kekeringan = pd.read_excel(get_anotated_file('kekeringan'))\n",
    "df_longsor = pd.read_excel(get_anotated_file('longsor'))\n",
    "df_tsunami = pd.read_excel(get_anotated_file('tsunami'))\n",
    "\n",
    "dict_anotated = { \n",
    "    'angin_topan' : df_angin_topan,\n",
    "    'banjir' : df_banjir,\n",
    "    'erupsi' : df_erupsi,\n",
    "    'gempa' : df_gempa,\n",
    "    'karhutla' : df_karthula,\n",
    "    'kekeringan' : df_kekeringan,\n",
    "    'longsor' : df_longsor,\n",
    "    'tsunami' : df_tsunami,\n",
    "    }"
   ]
  },
  {
   "cell_type": "code",
   "execution_count": 7,
   "metadata": {},
   "outputs": [],
   "source": [
    "df_angin_topan_data = pd.read_json(get_data_file('angin_topan'))\n",
    "df_banjir_data = pd.read_json(get_data_file('banjir'))\n",
    "df_erupsi_data = pd.read_json(get_data_file('erupsi'))\n",
    "df_gempa_data = pd.read_json(get_data_file('gempa'))\n",
    "df_karhutla_data = pd.read_json(get_data_file('karhutla'))\n",
    "df_kekeringan_data = pd.read_json(get_data_file('kekeringan'))\n",
    "df_longsor_data = pd.read_json(get_data_file('longsor'))\n",
    "df_tsunami_data = pd.read_json(get_data_file('tsunami'))\n",
    "\n",
    "dict_data = {\n",
    "    'angin_topan' : df_angin_topan_data,\n",
    "    'banjir' : df_banjir_data,\n",
    "    'erupsi' : df_erupsi_data,\n",
    "    'gempa' : df_gempa_data,\n",
    "    'karhutla' : df_karhutla_data,\n",
    "    'kekeringan' : df_kekeringan_data,\n",
    "    'longsor' : df_longsor_data,\n",
    "    'tsunami' : df_tsunami_data,\n",
    "}"
   ]
  },
  {
   "cell_type": "code",
   "execution_count": 8,
   "metadata": {},
   "outputs": [
    {
     "output_type": "execute_result",
     "data": {
      "text/plain": [
       "                    id Positif Bencana Alam\n",
       "0     angin_topan_0001                    O\n",
       "1     angin_topan_0002                    O\n",
       "2     angin_topan_0003                    O\n",
       "3     angin_topan_0005                    O\n",
       "4     angin_topan_0006                    O\n",
       "...                ...                  ...\n",
       "2207      tsunami_1153                    O\n",
       "2208      tsunami_1154                    O\n",
       "2209      tsunami_1158                    O\n",
       "2210      tsunami_1160                    O\n",
       "2211      tsunami_1163                    O\n",
       "\n",
       "[2212 rows x 2 columns]"
      ],
      "text/html": "<div>\n<style scoped>\n    .dataframe tbody tr th:only-of-type {\n        vertical-align: middle;\n    }\n\n    .dataframe tbody tr th {\n        vertical-align: top;\n    }\n\n    .dataframe thead th {\n        text-align: right;\n    }\n</style>\n<table border=\"1\" class=\"dataframe\">\n  <thead>\n    <tr style=\"text-align: right;\">\n      <th></th>\n      <th>id</th>\n      <th>Positif Bencana Alam</th>\n    </tr>\n  </thead>\n  <tbody>\n    <tr>\n      <th>0</th>\n      <td>angin_topan_0001</td>\n      <td>O</td>\n    </tr>\n    <tr>\n      <th>1</th>\n      <td>angin_topan_0002</td>\n      <td>O</td>\n    </tr>\n    <tr>\n      <th>2</th>\n      <td>angin_topan_0003</td>\n      <td>O</td>\n    </tr>\n    <tr>\n      <th>3</th>\n      <td>angin_topan_0005</td>\n      <td>O</td>\n    </tr>\n    <tr>\n      <th>4</th>\n      <td>angin_topan_0006</td>\n      <td>O</td>\n    </tr>\n    <tr>\n      <th>...</th>\n      <td>...</td>\n      <td>...</td>\n    </tr>\n    <tr>\n      <th>2207</th>\n      <td>tsunami_1153</td>\n      <td>O</td>\n    </tr>\n    <tr>\n      <th>2208</th>\n      <td>tsunami_1154</td>\n      <td>O</td>\n    </tr>\n    <tr>\n      <th>2209</th>\n      <td>tsunami_1158</td>\n      <td>O</td>\n    </tr>\n    <tr>\n      <th>2210</th>\n      <td>tsunami_1160</td>\n      <td>O</td>\n    </tr>\n    <tr>\n      <th>2211</th>\n      <td>tsunami_1163</td>\n      <td>O</td>\n    </tr>\n  </tbody>\n</table>\n<p>2212 rows × 2 columns</p>\n</div>"
     },
     "metadata": {},
     "execution_count": 8
    }
   ],
   "source": [
    "df_final = pd.DataFrame()\n",
    "\n",
    "for bencana in l_bencana:\n",
    "    df_anotated = dict_anotated[bencana]\n",
    "    df_positive = df_anotated[['id', 'Positif Bencana Alam']]\n",
    "    df_positive = df_positive[df_positive['Positif Bencana Alam'] == 'O']\n",
    "    df_positive = df_positive.drop_duplicates()\n",
    "    df_positive = df_positive.reset_index(drop=True)\n",
    "\n",
    "    df_final = df_final.append(df_positive, ignore_index=True)\n",
    "\n",
    "df_final"
   ]
  },
  {
   "cell_type": "code",
   "execution_count": 9,
   "metadata": {
    "tags": []
   },
   "outputs": [
    {
     "output_type": "execute_result",
     "data": {
      "text/plain": [
       "                    id Positif Bencana Alam             adm1           adm2  \\\n",
       "0     angin_topan_0001                    O             aceh   bener meriah   \n",
       "1     angin_topan_0002                    O             aceh       simeulue   \n",
       "2     angin_topan_0003                    O             aceh         sabang   \n",
       "3     angin_topan_0005                    O             aceh       simeulue   \n",
       "4     angin_topan_0006                    O             aceh     aceh barat   \n",
       "...                ...                  ...              ...            ...   \n",
       "2207      tsunami_1153                    O  sulawesi tengah           palu   \n",
       "2208      tsunami_1154                    O  sulawesi tengah  donggala,palu   \n",
       "2209      tsunami_1158                    O  sulawesi tengah  donggala,palu   \n",
       "2210      tsunami_1160                    O           banten                  \n",
       "2211      tsunami_1163                    O  sulawesi tengah           palu   \n",
       "\n",
       "                  adm3  \n",
       "0            wih pesam  \n",
       "1       simeulue timur  \n",
       "2     sukakarya sabang  \n",
       "3       simeulue timur  \n",
       "4           sungai mas  \n",
       "...                ...  \n",
       "2207                    \n",
       "2208                    \n",
       "2209                    \n",
       "2210                    \n",
       "2211                    \n",
       "\n",
       "[2212 rows x 5 columns]"
      ],
      "text/html": "<div>\n<style scoped>\n    .dataframe tbody tr th:only-of-type {\n        vertical-align: middle;\n    }\n\n    .dataframe tbody tr th {\n        vertical-align: top;\n    }\n\n    .dataframe thead th {\n        text-align: right;\n    }\n</style>\n<table border=\"1\" class=\"dataframe\">\n  <thead>\n    <tr style=\"text-align: right;\">\n      <th></th>\n      <th>id</th>\n      <th>Positif Bencana Alam</th>\n      <th>adm1</th>\n      <th>adm2</th>\n      <th>adm3</th>\n    </tr>\n  </thead>\n  <tbody>\n    <tr>\n      <th>0</th>\n      <td>angin_topan_0001</td>\n      <td>O</td>\n      <td>aceh</td>\n      <td>bener meriah</td>\n      <td>wih pesam</td>\n    </tr>\n    <tr>\n      <th>1</th>\n      <td>angin_topan_0002</td>\n      <td>O</td>\n      <td>aceh</td>\n      <td>simeulue</td>\n      <td>simeulue timur</td>\n    </tr>\n    <tr>\n      <th>2</th>\n      <td>angin_topan_0003</td>\n      <td>O</td>\n      <td>aceh</td>\n      <td>sabang</td>\n      <td>sukakarya sabang</td>\n    </tr>\n    <tr>\n      <th>3</th>\n      <td>angin_topan_0005</td>\n      <td>O</td>\n      <td>aceh</td>\n      <td>simeulue</td>\n      <td>simeulue timur</td>\n    </tr>\n    <tr>\n      <th>4</th>\n      <td>angin_topan_0006</td>\n      <td>O</td>\n      <td>aceh</td>\n      <td>aceh barat</td>\n      <td>sungai mas</td>\n    </tr>\n    <tr>\n      <th>...</th>\n      <td>...</td>\n      <td>...</td>\n      <td>...</td>\n      <td>...</td>\n      <td>...</td>\n    </tr>\n    <tr>\n      <th>2207</th>\n      <td>tsunami_1153</td>\n      <td>O</td>\n      <td>sulawesi tengah</td>\n      <td>palu</td>\n      <td></td>\n    </tr>\n    <tr>\n      <th>2208</th>\n      <td>tsunami_1154</td>\n      <td>O</td>\n      <td>sulawesi tengah</td>\n      <td>donggala,palu</td>\n      <td></td>\n    </tr>\n    <tr>\n      <th>2209</th>\n      <td>tsunami_1158</td>\n      <td>O</td>\n      <td>sulawesi tengah</td>\n      <td>donggala,palu</td>\n      <td></td>\n    </tr>\n    <tr>\n      <th>2210</th>\n      <td>tsunami_1160</td>\n      <td>O</td>\n      <td>banten</td>\n      <td></td>\n      <td></td>\n    </tr>\n    <tr>\n      <th>2211</th>\n      <td>tsunami_1163</td>\n      <td>O</td>\n      <td>sulawesi tengah</td>\n      <td>palu</td>\n      <td></td>\n    </tr>\n  </tbody>\n</table>\n<p>2212 rows × 5 columns</p>\n</div>"
     },
     "metadata": {},
     "execution_count": 9
    }
   ],
   "source": [
    "import re\n",
    "\n",
    "for i, data in df_final.iterrows():\n",
    "    id = data['id']\n",
    "    bencana = re.sub('_[\\d]*$', '', id)\n",
    "    \n",
    "    df_anotated = dict_anotated[bencana]\n",
    "    adm1, adm2, adm3 = get_adm_information(id, df_anotated)\n",
    "    df_final.loc[i, 'adm1'] = adm1\n",
    "    df_final.loc[i, 'adm2'] = adm2\n",
    "    df_final.loc[i, 'adm3'] = adm3\n",
    "\n",
    "df_final"
   ]
  },
  {
   "cell_type": "code",
   "execution_count": 10,
   "metadata": {},
   "outputs": [],
   "source": [
    "f_out = 'C:\\\\Users\\\\dharmapu\\\\Documents\\\\personal\\\\ui\\\\KA-AMSD_src\\\\paper-submission\\\\anotated_data\\\\location\\\\location_data.xlsx'\n",
    "df_final.to_excel(f_out, index=False)"
   ]
  },
  {
   "cell_type": "code",
   "execution_count": null,
   "metadata": {},
   "outputs": [],
   "source": []
  }
 ]
}