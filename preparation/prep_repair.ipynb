{
 "metadata": {
  "language_info": {
   "codemirror_mode": {
    "name": "ipython",
    "version": 3
   },
   "file_extension": ".py",
   "mimetype": "text/x-python",
   "name": "python",
   "nbconvert_exporter": "python",
   "pygments_lexer": "ipython3",
   "version": "3.7.6-final"
  },
  "orig_nbformat": 2,
  "kernelspec": {
   "name": "python37664bitvscodeconda1e118667b8fd4b1db7eb278a85c7863a",
   "display_name": "Python 3.7.6 64-bit ('vscode': conda)"
  }
 },
 "nbformat": 4,
 "nbformat_minor": 2,
 "cells": [
  {
   "cell_type": "code",
   "execution_count": 1,
   "metadata": {},
   "outputs": [],
   "source": [
    "import pandas as pd"
   ]
  },
  {
   "cell_type": "code",
   "execution_count": 2,
   "metadata": {},
   "outputs": [],
   "source": [
    "df = pd.read_excel('result_gempa.xlsx')"
   ]
  },
  {
   "cell_type": "code",
   "execution_count": 3,
   "metadata": {},
   "outputs": [],
   "source": [
    "df['FLAG'] = 'MOD'"
   ]
  },
  {
   "cell_type": "code",
   "execution_count": 4,
   "metadata": {
    "tags": []
   },
   "outputs": [],
   "source": [
    "for index, row in df.iterrows():\n",
    "    if float == type(row.loc['text']):\n",
    "        df.loc[index, 'text'] = df.loc[index, 'content']\n",
    "        df.loc[index, 'FLAG'] = 'ORI'\n",
    "    elif 5 > len (row.loc['text']):\n",
    "        df.loc[index, 'text'] = df.loc[index, 'content']\n",
    "        df.loc[index, 'FLAG'] = 'ORI'"
   ]
  },
  {
   "cell_type": "code",
   "execution_count": 5,
   "metadata": {},
   "outputs": [],
   "source": [
    "df.to_excel('result_gempa_fin.xlsx')"
   ]
  }
 ]
}