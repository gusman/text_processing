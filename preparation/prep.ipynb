{
 "metadata": {
  "language_info": {
   "codemirror_mode": {
    "name": "ipython",
    "version": 3
   },
   "file_extension": ".py",
   "mimetype": "text/x-python",
   "name": "python",
   "nbconvert_exporter": "python",
   "pygments_lexer": "ipython3",
   "version": "3.7.6-final"
  },
  "orig_nbformat": 2,
  "kernelspec": {
   "name": "python37664bitvscodeconda1e118667b8fd4b1db7eb278a85c7863a",
   "display_name": "Python 3.7.6 64-bit ('vscode': conda)"
  }
 },
 "nbformat": 4,
 "nbformat_minor": 2,
 "cells": [
  {
   "cell_type": "code",
   "execution_count": null,
   "metadata": {},
   "outputs": [],
   "source": [
    "import pandas as pd"
   ]
  },
  {
   "cell_type": "code",
   "execution_count": null,
   "metadata": {},
   "outputs": [],
   "source": [
    "f_teks_ori = 'C:\\\\Users\\\\dharmapu\\\\Documents\\\\personal\\\\ui\\\\KA-AMSD_src\\\\paper-submission\\\\data_untuk_anotasi\\\\erupsi\\\\v01\\\\sample_erupsi.xlsx'\n",
    "f_teks_mod = 'C:\\\\Users\\\\dharmapu\\\\Documents\\\\personal\\\\ui\\\\KA-AMSD_src\\\\paper-submission\\\\data_untuk_anotasi\\\\erupsi\\\\v02\\\\sample_erupsi_teks.xlsx'"
   ]
  },
  {
   "cell_type": "code",
   "execution_count": null,
   "metadata": {},
   "outputs": [],
   "source": [
    "df_teks_ori = pd.read_excel(f_teks_ori)\n",
    "df_teks_mod = pd.read_excel(f_teks_mod)"
   ]
  },
  {
   "cell_type": "code",
   "execution_count": null,
   "metadata": {},
   "outputs": [],
   "source": [
    "df_analysis = df_teks_ori[['id', 'source', 'title']].copy()\n",
    "df_analysis['teks_ori'] = df_teks_ori['content']\n",
    "df_analysis['teks_mod'] = df_teks_mod['content']\n",
    "df_analysis['len_ori'] = 0\n",
    "df_analysis['len_ori'] = 0\n",
    "df_analysis['gap'] = 0"
   ]
  },
  {
   "cell_type": "code",
   "execution_count": null,
   "metadata": {
    "tags": []
   },
   "outputs": [],
   "source": [
    "for index, row in df_analysis.iterrows():\n",
    "    len_teks_ori = len(df_analysis.loc[index, 'teks_ori'])\n",
    "    len_teks_mod = len(df_analysis.loc[index, 'teks_mod'])\n",
    "    df_analysis.loc[index, 'len_ori'] = len_teks_ori\n",
    "    df_analysis.loc[index, 'len_mod'] = len_teks_mod\n",
    "    df_analysis.loc[index, 'gap'] = len_teks_mod - len_teks_ori\n",
    "    \n",
    "df_teks = df_analysis[df_analysis['gap'] != 0]"
   ]
  },
  {
   "cell_type": "code",
   "execution_count": null,
   "metadata": {
    "tags": []
   },
   "outputs": [],
   "source": [
    "import re\n",
    "import json\n",
    "from collections import OrderedDict \n",
    "\n",
    "title_text = df_analysis.loc[df_analysis['id'] == 'erupsi_1081', 'title'].values[0]\n",
    "src_text = df_analysis.loc[df_analysis['id'] == 'erupsi_1081', 'source'].values[0]\n",
    "src_text = src_text + \".json\"\n",
    "text_dir = 'C:\\\\Users\\\\dharmapu\\\\documents\\\\personal\\\\ui\\\\KA-AMSD_src\\\\final_data\\\\hasil-scraping\\\\complete'\n",
    "text_path = text_dir + \"\\\\\" + src_text\n",
    "\n",
    "l_text = []\n",
    "with open(text_path) as f:\n",
    "    l_text = [l for l in f if re.search(title_text, l)]\n",
    "            \n",
    "l_text = list(OrderedDict.fromkeys(l_text))\n",
    "l_text[1]"
   ]
  },
  {
   "cell_type": "code",
   "execution_count": null,
   "metadata": {
    "tags": []
   },
   "outputs": [],
   "source": [
    "# Clean up the text\n",
    "import sys\n",
    "sys.path.insert(1, 'C:\\\\Users\\\\dharmapu\\\\Documents\\\\personal\\\\ui\\\\KA-AMSD_src\\\\src\\\\text_processing\\\\preprocess')\n",
    "\n",
    "import preprocess as pre"
   ]
  },
  {
   "cell_type": "code",
   "execution_count": null,
   "metadata": {},
   "outputs": [],
   "source": [
    "def prep_news(l_text):\n",
    "    l_news = []\n",
    "    for t in l_text:\n",
    "        text = t\n",
    "        text = pre.clean_links_text(text)\n",
    "        text = pre.clean_text(text)\n",
    "        text = re.match('{.*}', text)\n",
    "        json_obj = json.loads(text[0])\n",
    "        l_news.append(json_obj['content'])\n",
    "\n",
    "    return ' '.join(l_news)"
   ]
  }
 ]
}