{
 "metadata": {
  "language_info": {
   "codemirror_mode": {
    "name": "ipython",
    "version": 3
   },
   "file_extension": ".py",
   "mimetype": "text/x-python",
   "name": "python",
   "nbconvert_exporter": "python",
   "pygments_lexer": "ipython3",
   "version": "3.7.6-final"
  },
  "orig_nbformat": 2,
  "kernelspec": {
   "name": "python37664bitvscodeconda1e118667b8fd4b1db7eb278a85c7863a",
   "display_name": "Python 3.7.6 64-bit ('vscode': conda)"
  }
 },
 "nbformat": 4,
 "nbformat_minor": 2,
 "cells": [
  {
   "cell_type": "code",
   "execution_count": 1,
   "metadata": {},
   "outputs": [],
   "source": [
    "import pandas as pd\n",
    "import re\n",
    "import json\n",
    "from collections import OrderedDict \n",
    "import sys\n",
    "\n",
    "sys.path.insert(1, 'C:\\\\Users\\\\dharmapu\\\\Documents\\\\personal\\\\ui\\\\KA-AMSD_src\\\\src\\\\text_processing\\\\preprocess')\n",
    "import preprocess as pre"
   ]
  },
  {
   "cell_type": "code",
   "execution_count": 2,
   "metadata": {
    "tags": []
   },
   "outputs": [
    {
     "output_type": "stream",
     "name": "stdout",
     "text": "Wall time: 394 ms\n"
    }
   ],
   "source": [
    "%%time\n",
    "f_teks_ori = 'C:\\\\Users\\\\dharmapu\\\\Documents\\\\personal\\\\ui\\\\KA-AMSD_src\\\\paper-submission\\\\data_untuk_anotasi\\\\gempa\\\\v01\\\\sample_gempa.xlsx'\n",
    "df_teks_ori = pd.read_excel(f_teks_ori)\n",
    "df_analysis = df_teks_ori[['id', 'source', 'title']].copy()"
   ]
  },
  {
   "cell_type": "code",
   "execution_count": 3,
   "metadata": {
    "tags": []
   },
   "outputs": [],
   "source": [
    " def pre_news_raw_text(news_id):\n",
    "    title_text = df_analysis.loc[df_analysis['id'] == news_id, 'title'].values[0]\n",
    "    src_text = df_analysis.loc[df_analysis['id'] == news_id, 'source'].values[0]\n",
    "    src_text = src_text + \".json\"\n",
    "    text_dir = 'C:\\\\Users\\\\dharmapu\\\\documents\\\\personal\\\\ui\\\\KA-AMSD_src\\\\final_data\\\\hasil-scraping\\\\complete'\n",
    "    text_path = text_dir + \"\\\\\" + src_text\n",
    "\n",
    "    special = r\"(\\W|\\\\u[\\w][\\w][\\w][\\w])*\"\n",
    "   \n",
    "    title_text = title_text.replace('[', '\\[')\n",
    "    title_text = title_text.replace(']', '\\]')\n",
    "    title_text = title_text.replace('?', '\\?')\n",
    "    title_text = title_text.replace('(', '\\(')\n",
    "    title_text = title_text.replace(')', '\\)')\n",
    "    title_text = title_text.replace('.', '\\.')\n",
    "    title_text = title_text.replace(',', '\\,')\n",
    "    title_text = title_text.replace('\"', '\\\",')\n",
    "    \n",
    "    title_text = title_text.replace(' ', special)\n",
    "    re_title = r\"title\\\":.*\" + title_text + r\".*(date|content)\\\"\"\n",
    "    \n",
    "    l_text = []\n",
    "    with open(text_path) as f:\n",
    "        l_text = [l for l in f if re.search(re_title, l)]\n",
    "\n",
    "        for index, text in enumerate(l_text):\n",
    "            tmp_text = text\n",
    "            tmp_text = pre.clean_convertion(tmp_text)\n",
    "            tmp_text = pre.clean_links_text(tmp_text)\n",
    "            tmp_text = pre.clean_text(tmp_text)\n",
    "            tmp_text = pre.clean_escape_char(tmp_text)\n",
    "\n",
    "            ''' Clean up return line '''\n",
    "            escape_char = re.compile(r'\\\\n')\n",
    "            tmp_text = re.sub(escape_char, ' ', tmp_text, re.MULTILINE|re.IGNORECASE).strip()\n",
    "\n",
    "            escape_char = re.compile(r'\\\\n')\n",
    "            tmp_text = re.sub(escape_char, ' ', tmp_text, re.MULTILINE|re.IGNORECASE).strip()\n",
    "\n",
    "            escape_char = re.compile(r'\\\\n')\n",
    "            tmp_text = re.sub(escape_char, ' ', tmp_text, re.MULTILINE|re.IGNORECASE).strip()\n",
    "\n",
    "            l_text[index] = tmp_text\n",
    "                \n",
    "    return list(OrderedDict.fromkeys(l_text))"
   ]
  },
  {
   "cell_type": "code",
   "execution_count": 4,
   "metadata": {
    "tags": []
   },
   "outputs": [
    {
     "output_type": "stream",
     "name": "stdout",
     "text": "Wall time: 0 ns\n"
    }
   ],
   "source": [
    "%%time\n",
    "def prep_news(l_text):\n",
    "    l_news = []\n",
    "    for t in l_text:\n",
    "        text = t\n",
    "        text = re.match('{.*}', text)\n",
    "        \n",
    "        try:\n",
    "            json_obj = json.loads(text[0])\n",
    "            content = json_obj['content']\n",
    "            l_news.append(content)\n",
    "        except Exception as e:\n",
    "            if hasattr(e, 'message'):\n",
    "                print(e.message)\n",
    "            else:\n",
    "                print(e)\n",
    "\n",
    "    return ' // '.join(l_news)"
   ]
  },
  {
   "cell_type": "code",
   "execution_count": 5,
   "metadata": {},
   "outputs": [],
   "source": [
    "df_result = pd.DataFrame(columns = ['id', 'source', 'date', 'title', 'text'])\n",
    "df_result['source'] = df_teks_ori['source'].copy()\n",
    "df_result['date'] = df_teks_ori['date'].copy()"
   ]
  },
  {
   "cell_type": "code",
   "execution_count": 6,
   "metadata": {
    "tags": []
   },
   "outputs": [
    {
     "output_type": "stream",
     "name": "stdout",
     "text": "gempa_0001\ngempa_0002\ngempa_0003\ngempa_0004\ngempa_0005\ngempa_0006\ngempa_0007\ngempa_0008\ngempa_0009\ngempa_0010\ngempa_0011\ngempa_0012\ngempa_0013\ngempa_0014\ngempa_0015\ngempa_0016\ngempa_0017\ngempa_0018\ngempa_0019\ngempa_0020\ngempa_0021\ngempa_0022\ngempa_0023\ngempa_0024\ngempa_0025\ngempa_0026\ngempa_0027\ngempa_0028\ngempa_0029\ngempa_0030\ngempa_0031\ngempa_0032\ngempa_0033\ngempa_0034\ngempa_0035\ngempa_0036\ngempa_0037\ngempa_0038\ngempa_0039\ngempa_0040\ngempa_0041\ngempa_0042\ngempa_0043\ngempa_0044\ngempa_0045\ngempa_0046\ngempa_0047\ngempa_0048\ngempa_0049\ngempa_0050\ngempa_0051\ngempa_0052\ngempa_0053\ngempa_0054\ngempa_0055\ngempa_0056\ngempa_0057\ngempa_0058\ngempa_0059\ngempa_0060\ngempa_0061\ngempa_0062\ngempa_0063\ngempa_0064\ngempa_0065\ngempa_0066\ngempa_0067\ngempa_0068\ngempa_0069\ngempa_0070\ngempa_0071\ngempa_0072\ngempa_0073\ngempa_0074\ngempa_0075\ngempa_0076\ngempa_0077\ngempa_0078\ngempa_0079\ngempa_0080\ngempa_0081\ngempa_0082\ngempa_0083\ngempa_0084\ngempa_0085\ngempa_0086\ngempa_0087\ngempa_0088\ngempa_0089\ngempa_0090\ngempa_0091\ngempa_0092\ngempa_0093\ngempa_0094\ngempa_0095\ngempa_0096\ngempa_0097\ngempa_0098\ngempa_0099\ngempa_0100\ngempa_0101\ngempa_0102\ngempa_0103\ngempa_0104\ngempa_0105\ngempa_0106\ngempa_0107\ngempa_0108\ngempa_0109\ngempa_0110\ngempa_0111\ngempa_0112\ngempa_0113\ngempa_0114\ngempa_0115\ngempa_0116\ngempa_0117\ngempa_0118\ngempa_0119\ngempa_0120\ngempa_0121\ngempa_0122\ngempa_0123\ngempa_0124\ngempa_0125\ngempa_0126\ngempa_0127\ngempa_0128\ngempa_0129\ngempa_0130\ngempa_0131\ngempa_0132\ngempa_0133\ngempa_0134\ngempa_0135\ngempa_0136\ngempa_0137\ngempa_0138\ngempa_0139\ngempa_0140\ngempa_0141\ngempa_0142\ngempa_0143\ngempa_0144\ngempa_0145\ngempa_0146\ngempa_0147\ngempa_0148\ngempa_0149\ngempa_0150\ngempa_0151\ngempa_0152\ngempa_0153\ngempa_0154\ngempa_0155\ngempa_0156\ngempa_0157\ngempa_0158\ngempa_0159\ngempa_0160\ngempa_0161\ngempa_0162\ngempa_0163\ngempa_0164\ngempa_0165\ngempa_0166\ngempa_0167\ngempa_0168\ngempa_0169\ngempa_0170\ngempa_0171\ngempa_0172\ngempa_0173\ngempa_0174\ngempa_0175\ngempa_0176\ngempa_0177\ngempa_0178\ngempa_0179\ngempa_0180\ngempa_0181\ngempa_0182\ngempa_0183\ngempa_0184\ngempa_0185\ngempa_0186\ngempa_0187\ngempa_0188\ngempa_0189\ngempa_0190\ngempa_0191\ngempa_0192\ngempa_0193\ngempa_0194\ngempa_0195\ngempa_0196\ngempa_0197\ngempa_0198\ngempa_0199\ngempa_0200\ngempa_0201\ngempa_0202\ngempa_0203\ngempa_0204\ngempa_0205\ngempa_0206\ngempa_0207\ngempa_0208\ngempa_0209\ngempa_0210\ngempa_0211\ngempa_0212\ngempa_0213\ngempa_0214\ngempa_0215\ngempa_0216\ngempa_0217\ngempa_0218\ngempa_0219\ngempa_0220\ngempa_0221\ngempa_0222\ngempa_0223\ngempa_0224\ngempa_0225\ngempa_0226\ngempa_0227\ngempa_0228\ngempa_0229\ngempa_0230\ngempa_0231\ngempa_0232\ngempa_0233\ngempa_0234\ngempa_0235\ngempa_0236\ngempa_0237\ngempa_0238\ngempa_0239\ngempa_0240\ngempa_0241\ngempa_0242\ngempa_0243\ngempa_0244\ngempa_0245\ngempa_0246\ngempa_0247\ngempa_0248\ngempa_0249\ngempa_0250\ngempa_0251\ngempa_0252\ngempa_0253\ngempa_0254\ngempa_0255\ngempa_0256\ngempa_0257\ngempa_0258\ngempa_0259\ngempa_0260\ngempa_0261\ngempa_0262\ngempa_0263\ngempa_0264\ngempa_0265\ngempa_0266\ngempa_0267\ngempa_0268\ngempa_0269\ngempa_0270\ngempa_0271\ngempa_0272\ngempa_0273\ngempa_0274\ngempa_0275\ngempa_0276\ngempa_0277\ngempa_0278\ngempa_0279\ngempa_0280\ngempa_0281\ngempa_0282\ngempa_0283\ngempa_0284\ngempa_0285\ngempa_0286\ngempa_0287\ngempa_0288\ngempa_0289\ngempa_0290\ngempa_0291\ngempa_0292\ngempa_0293\ngempa_0294\ngempa_0295\ngempa_0296\ngempa_0297\ngempa_0298\ngempa_0299\ngempa_0300\ngempa_0301\ngempa_0302\ngempa_0303\ngempa_0304\ngempa_0305\ngempa_0306\ngempa_0307\ngempa_0308\ngempa_0309\ngempa_0310\ngempa_0311\ngempa_0312\ngempa_0313\ngempa_0314\ngempa_0315\ngempa_0316\ngempa_0317\ngempa_0318\ngempa_0319\ngempa_0320\ngempa_0321\ngempa_0322\ngempa_0323\ngempa_0324\ngempa_0325\ngempa_0326\ngempa_0327\ngempa_0328\ngempa_0329\ngempa_0330\ngempa_0331\ngempa_0332\ngempa_0333\ngempa_0334\ngempa_0335\ngempa_0336\ngempa_0337\ngempa_0338\ngempa_0339\ngempa_0340\ngempa_0341\ngempa_0342\ngempa_0343\ngempa_0344\ngempa_0345\ngempa_0346\ngempa_0347\ngempa_0348\ngempa_0349\ngempa_0350\ngempa_0351\ngempa_0352\ngempa_0353\ngempa_0354\ngempa_0355\ngempa_0356\ngempa_0357\ngempa_0358\ngempa_0359\ngempa_0360\ngempa_0361\ngempa_0362\ngempa_0363\ngempa_0364\ngempa_0365\ngempa_0366\ngempa_0367\ngempa_0368\ngempa_0369\ngempa_0370\ngempa_0371\ngempa_0372\ngempa_0373\ngempa_0374\ngempa_0375\ngempa_0376\ngempa_0377\ngempa_0378\ngempa_0379\ngempa_0380\ngempa_0381\ngempa_0382\ngempa_0383\ngempa_0384\ngempa_0385\ngempa_0386\ngempa_0387\ngempa_0388\ngempa_0389\ngempa_0390\ngempa_0391\ngempa_0392\ngempa_0393\ngempa_0394\ngempa_0395\ngempa_0396\ngempa_0397\ngempa_0398\ngempa_0399\ngempa_0400\ngempa_0401\ngempa_0402\ngempa_0403\ngempa_0404\ngempa_0405\ngempa_0406\ngempa_0407\ngempa_0408\ngempa_0409\ngempa_0410\ngempa_0411\ngempa_0412\ngempa_0413\ngempa_0414\ngempa_0415\ngempa_0416\ngempa_0417\ngempa_0418\ngempa_0419\ngempa_0420\ngempa_0421\ngempa_0422\ngempa_0423\ngempa_0424\ngempa_0425\ngempa_0426\ngempa_0427\ngempa_0428\ngempa_0429\ngempa_0430\ngempa_0431\ngempa_0432\ngempa_0433\ngempa_0434\ngempa_0435\ngempa_0436\ngempa_0437\ngempa_0438\ngempa_0439\ngempa_0440\ngempa_0441\ngempa_0442\ngempa_0443\ngempa_0444\ngempa_0445\ngempa_0446\ngempa_0447\ngempa_0448\ngempa_0449\ngempa_0450\ngempa_0451\ngempa_0452\ngempa_0453\ngempa_0454\ngempa_0455\ngempa_0456\ngempa_0457\ngempa_0458\ngempa_0459\ngempa_0460\ngempa_0461\ngempa_0462\ngempa_0463\ngempa_0464\ngempa_0465\ngempa_0466\ngempa_0467\ngempa_0468\ngempa_0469\ngempa_0470\ngempa_0471\ngempa_0472\ngempa_0473\ngempa_0474\ngempa_0475\ngempa_0476\ngempa_0477\ngempa_0478\ngempa_0479\ngempa_0480\ngempa_0481\ngempa_0482\ngempa_0483\ngempa_0484\ngempa_0485\ngempa_0486\ngempa_0487\ngempa_0488\ngempa_0489\ngempa_0490\ngempa_0491\ngempa_0492\ngempa_0493\ngempa_0494\ngempa_0495\ngempa_0496\ngempa_0497\ngempa_0498\ngempa_0499\ngempa_0500\ngempa_0501\ngempa_0502\ngempa_0503\ngempa_0504\ngempa_0505\ngempa_0506\ngempa_0507\ngempa_0508\ngempa_0509\ngempa_0510\ngempa_0511\ngempa_0512\ngempa_0513\ngempa_0514\ngempa_0515\ngempa_0516\ngempa_0517\ngempa_0518\ngempa_0519\ngempa_0520\ngempa_0521\ngempa_0522\ngempa_0523\ngempa_0524\ngempa_0525\ngempa_0526\ngempa_0527\ngempa_0528\ngempa_0529\ngempa_0530\ngempa_0531\ngempa_0532\ngempa_0533\ngempa_0534\ngempa_0535\ngempa_0536\ngempa_0537\ngempa_0538\ngempa_0539\ngempa_0540\ngempa_0541\ngempa_0542\ngempa_0543\ngempa_0544\ngempa_0545\ngempa_0546\ngempa_0547\ngempa_0548\ngempa_0549\ngempa_0550\ngempa_0551\ngempa_0552\ngempa_0553\ngempa_0554\ngempa_0555\ngempa_0556\ngempa_0557\ngempa_0558\ngempa_0559\ngempa_0560\ngempa_0561\ngempa_0562\ngempa_0563\ngempa_0564\ngempa_0565\ngempa_0566\ngempa_0567\ngempa_0568\ngempa_0569\ngempa_0570\ngempa_0571\ngempa_0572\ngempa_0573\ngempa_0574\ngempa_0575\ngempa_0576\ngempa_0577\ngempa_0578\ngempa_0579\ngempa_0580\ngempa_0581\ngempa_0582\ngempa_0583\ngempa_0584\ngempa_0585\ngempa_0586\ngempa_0587\ngempa_0588\ngempa_0589\ngempa_0590\ngempa_0591\ngempa_0592\ngempa_0593\ngempa_0594\ngempa_0595\ngempa_0596\ngempa_0597\ngempa_0598\ngempa_0599\ngempa_0600\ngempa_0601\ngempa_0602\ngempa_0603\ngempa_0604\ngempa_0605\ngempa_0606\ngempa_0607\ngempa_0608\ngempa_0609\ngempa_0610\ngempa_0611\ngempa_0612\ngempa_0613\ngempa_0614\ngempa_0615\ngempa_0616\ngempa_0617\ngempa_0618\ngempa_0619\ngempa_0620\ngempa_0621\ngempa_0622\ngempa_0623\ngempa_0624\ngempa_0625\ngempa_0626\ngempa_0627\ngempa_0628\ngempa_0629\ngempa_0630\ngempa_0631\ngempa_0632\ngempa_0633\ngempa_0634\ngempa_0635\ngempa_0636\ngempa_0637\ngempa_0638\ngempa_0639\ngempa_0640\ngempa_0641\ngempa_0642\ngempa_0643\ngempa_0644\ngempa_0645\ngempa_0646\ngempa_0647\ngempa_0648\ngempa_0649\ngempa_0650\ngempa_0651\ngempa_0652\ngempa_0653\ngempa_0654\ngempa_0655\ngempa_0656\ngempa_0657\ngempa_0658\ngempa_0659\ngempa_0660\ngempa_0661\ngempa_0662\ngempa_0663\ngempa_0664\ngempa_0665\ngempa_0666\ngempa_0667\ngempa_0668\ngempa_0669\ngempa_0670\ngempa_0671\ngempa_0672\ngempa_0673\ngempa_0674\ngempa_0675\ngempa_0676\ngempa_0677\ngempa_0678\ngempa_0679\ngempa_0680\ngempa_0681\ngempa_0682\ngempa_0683\ngempa_0684\ngempa_0685\ngempa_0686\ngempa_0687\ngempa_0688\ngempa_0689\ngempa_0690\ngempa_0691\ngempa_0692\ngempa_0693\ngempa_0694\ngempa_0695\ngempa_0696\ngempa_0697\ngempa_0698\ngempa_0699\ngempa_0700\ngempa_0701\ngempa_0702\ngempa_0703\ngempa_0704\ngempa_0705\ngempa_0706\ngempa_0707\ngempa_0708\ngempa_0709\ngempa_0710\ngempa_0711\ngempa_0712\ngempa_0713\ngempa_0714\ngempa_0715\ngempa_0716\ngempa_0717\ngempa_0718\ngempa_0719\ngempa_0720\ngempa_0721\ngempa_0722\ngempa_0723\ngempa_0724\ngempa_0725\ngempa_0726\ngempa_0727\ngempa_0728\ngempa_0729\ngempa_0730\ngempa_0731\ngempa_0732\ngempa_0733\ngempa_0734\ngempa_0735\ngempa_0736\ngempa_0737\ngempa_0738\ngempa_0739\ngempa_0740\ngempa_0741\ngempa_0742\ngempa_0743\ngempa_0744\ngempa_0745\ngempa_0746\ngempa_0747\ngempa_0748\ngempa_0749\ngempa_0750\ngempa_0751\ngempa_0752\ngempa_0753\ngempa_0754\ngempa_0755\ngempa_0756\ngempa_0757\ngempa_0758\ngempa_0759\ngempa_0760\ngempa_0761\ngempa_0762\ngempa_0763\ngempa_0764\ngempa_0765\ngempa_0766\ngempa_0767\ngempa_0768\ngempa_0769\ngempa_0770\ngempa_0771\ngempa_0772\ngempa_0773\ngempa_0774\ngempa_0775\ngempa_0776\ngempa_0777\ngempa_0778\ngempa_0779\ngempa_0780\ngempa_0781\ngempa_0782\ngempa_0783\ngempa_0784\ngempa_0785\ngempa_0786\ngempa_0787\ngempa_0788\ngempa_0789\ngempa_0790\ngempa_0791\ngempa_0792\ngempa_0793\ngempa_0794\ngempa_0795\ngempa_0796\ngempa_0797\ngempa_0798\ngempa_0799\ngempa_0800\ngempa_0801\ngempa_0802\ngempa_0803\ngempa_0804\ngempa_0805\ngempa_0806\ngempa_0807\ngempa_0808\ngempa_0809\ngempa_0810\ngempa_0811\ngempa_0812\ngempa_0813\ngempa_0814\ngempa_0815\ngempa_0816\ngempa_0817\ngempa_0818\ngempa_0819\ngempa_0820\ngempa_0821\ngempa_0822\ngempa_0823\ngempa_0824\ngempa_0825\ngempa_0826\ngempa_0827\ngempa_0828\ngempa_0829\ngempa_0830\ngempa_0831\ngempa_0832\ngempa_0833\ngempa_0834\ngempa_0835\ngempa_0836\ngempa_0837\ngempa_0838\ngempa_0839\ngempa_0840\ngempa_0841\ngempa_0842\ngempa_0843\ngempa_0844\ngempa_0845\ngempa_0846\ngempa_0847\ngempa_0848\ngempa_0849\ngempa_0850\ngempa_0851\ngempa_0852\ngempa_0853\ngempa_0854\ngempa_0855\ngempa_0856\ngempa_0857\ngempa_0858\ngempa_0859\ngempa_0860\ngempa_0861\ngempa_0862\ngempa_0863\ngempa_0864\ngempa_0865\ngempa_0866\ngempa_0867\ngempa_0868\ngempa_0869\ngempa_0870\ngempa_0871\ngempa_0872\ngempa_0873\ngempa_0874\ngempa_0875\ngempa_0876\ngempa_0877\ngempa_0878\ngempa_0879\ngempa_0880\ngempa_0881\ngempa_0882\ngempa_0883\ngempa_0884\ngempa_0885\ngempa_0886\ngempa_0887\ngempa_0888\ngempa_0889\ngempa_0890\ngempa_0891\ngempa_0892\ngempa_0893\ngempa_0894\ngempa_0895\ngempa_0896\ngempa_0897\ngempa_0898\ngempa_0899\ngempa_0900\ngempa_0901\ngempa_0902\ngempa_0903\ngempa_0904\ngempa_0905\ngempa_0906\ngempa_0907\ngempa_0908\ngempa_0909\ngempa_0910\ngempa_0911\ngempa_0912\ngempa_0913\ngempa_0914\ngempa_0915\ngempa_0916\ngempa_0917\ngempa_0918\ngempa_0919\ngempa_0920\ngempa_0921\ngempa_0922\ngempa_0923\ngempa_0924\ngempa_0925\ngempa_0926\ngempa_0927\ngempa_0928\ngempa_0929\ngempa_0930\ngempa_0931\ngempa_0932\ngempa_0933\ngempa_0934\ngempa_0935\ngempa_0936\ngempa_0937\ngempa_0938\ngempa_0939\ngempa_0940\ngempa_0941\ngempa_0942\ngempa_0943\ngempa_0944\ngempa_0945\ngempa_0946\ngempa_0947\ngempa_0948\ngempa_0949\ngempa_0950\ngempa_0951\ngempa_0952\ngempa_0953\ngempa_0954\ngempa_0955\ngempa_0956\ngempa_0957\ngempa_0958\ngempa_0959\ngempa_0960\ngempa_0961\ngempa_0962\ngempa_0963\ngempa_0964\ngempa_0965\ngempa_0966\ngempa_0967\ngempa_0968\ngempa_0969\ngempa_0970\ngempa_0971\ngempa_0972\ngempa_0973\ngempa_0974\ngempa_0975\ngempa_0976\ngempa_0977\ngempa_0978\ngempa_0979\ngempa_0980\ngempa_0981\ngempa_0982\ngempa_0983\ngempa_0984\ngempa_0985\ngempa_0986\ngempa_0987\ngempa_0988\ngempa_0989\ngempa_0990\ngempa_0991\ngempa_0992\ngempa_0993\ngempa_0994\ngempa_0995\ngempa_0996\ngempa_0997\ngempa_0998\ngempa_0999\ngempa_1000\ngempa_1001\ngempa_1002\ngempa_1003\ngempa_1004\ngempa_1005\ngempa_1006\ngempa_1007\ngempa_1008\ngempa_1009\ngempa_1010\ngempa_1011\ngempa_1012\ngempa_1013\ngempa_1014\ngempa_1015\ngempa_1016\ngempa_1017\ngempa_1018\ngempa_1019\ngempa_1020\ngempa_1021\ngempa_1022\ngempa_1023\ngempa_1024\ngempa_1025\ngempa_1026\ngempa_1027\ngempa_1028\ngempa_1029\ngempa_1030\ngempa_1031\ngempa_1032\ngempa_1033\ngempa_1034\ngempa_1035\ngempa_1036\ngempa_1037\ngempa_1038\ngempa_1039\ngempa_1040\ngempa_1041\ngempa_1042\ngempa_1043\ngempa_1044\ngempa_1045\ngempa_1046\ngempa_1047\ngempa_1048\ngempa_1049\ngempa_1050\ngempa_1051\ngempa_1052\ngempa_1053\ngempa_1054\ngempa_1055\ngempa_1056\ngempa_1057\ngempa_1058\ngempa_1059\ngempa_1060\ngempa_1061\ngempa_1062\ngempa_1063\ngempa_1064\ngempa_1065\ngempa_1066\ngempa_1067\ngempa_1068\ngempa_1069\ngempa_1070\ngempa_1071\ngempa_1072\ngempa_1073\ngempa_1074\ngempa_1075\ngempa_1076\ngempa_1077\ngempa_1078\ngempa_1079\ngempa_1080\ngempa_1081\ngempa_1082\ngempa_1083\ngempa_1084\ngempa_1085\ngempa_1086\ngempa_1087\ngempa_1088\ngempa_1089\ngempa_1090\ngempa_1091\ngempa_1092\ngempa_1093\ngempa_1094\ngempa_1095\ngempa_1096\ngempa_1097\ngempa_1098\ngempa_1099\ngempa_1100\ngempa_1101\ngempa_1102\ngempa_1103\ngempa_1104\ngempa_1105\ngempa_1106\ngempa_1107\ngempa_1108\ngempa_1109\ngempa_1110\ngempa_1111\ngempa_1112\ngempa_1113\ngempa_1114\ngempa_1115\ngempa_1116\ngempa_1117\ngempa_1118\ngempa_1119\ngempa_1120\ngempa_1121\ngempa_1122\ngempa_1123\ngempa_1124\ngempa_1125\ngempa_1126\ngempa_1127\ngempa_1128\ngempa_1129\ngempa_1130\ngempa_1131\ngempa_1132\ngempa_1133\ngempa_1134\ngempa_1135\ngempa_1136\ngempa_1137\ngempa_1138\ngempa_1139\ngempa_1140\ngempa_1141\ngempa_1142\ngempa_1143\ngempa_1144\ngempa_1145\ngempa_1146\ngempa_1147\ngempa_1148\ngempa_1149\ngempa_1150\ngempa_1151\ngempa_1152\ngempa_1153\ngempa_1154\ngempa_1155\ngempa_1156\ngempa_1157\ngempa_1158\ngempa_1159\ngempa_1160\ngempa_1161\ngempa_1162\ngempa_1163\ngempa_1164\ngempa_1165\ngempa_1166\ngempa_1167\ngempa_1168\ngempa_1169\ngempa_1170\ngempa_1171\ngempa_1172\ngempa_1173\ngempa_1174\ngempa_1175\ngempa_1176\ngempa_1177\ngempa_1178\ngempa_1179\ngempa_1180\ngempa_1181\ngempa_1182\ngempa_1183\ngempa_1184\ngempa_1185\ngempa_1186\ngempa_1187\ngempa_1188\ngempa_1189\ngempa_1190\ngempa_1191\ngempa_1192\ngempa_1193\ngempa_1194\ngempa_1195\ngempa_1196\ngempa_1197\ngempa_1198\ngempa_1199\ngempa_1200\ngempa_1201\ngempa_1202\ngempa_1203\ngempa_1204\ngempa_1205\ngempa_1206\ngempa_1207\ngempa_1208\ngempa_1209\ngempa_1210\ngempa_1211\ngempa_1212\ngempa_1213\ngempa_1214\ngempa_1215\ngempa_1216\ngempa_1217\nWall time: 52min 51s\n"
    }
   ],
   "source": [
    "%%time\n",
    "for index, row in df_analysis.iterrows():\n",
    "    df_result.loc[index, 'id'] = df_analysis.loc[index, 'id']    \n",
    "    df_result.loc[index, 'title'] = df_analysis.loc[index, 'title']\n",
    "    \n",
    "    text_id = df_analysis.loc[index, 'id']\n",
    "    print(text_id)\n",
    "    l_text = pre_news_raw_text(text_id)\n",
    "    text = prep_news(l_text)\n",
    "    df_result.loc[index, 'text'] = text"
   ]
  },
  {
   "cell_type": "code",
   "execution_count": 7,
   "metadata": {},
   "outputs": [
    {
     "output_type": "execute_result",
     "data": {
      "text/plain": "              id             source                            date  \\\n0     gempa_0001  aceh_harianrakyat                 January 9, 2020   \n1     gempa_0002  aceh_harianrakyat               December 20, 2016   \n2     gempa_0003  aceh_harianrakyat                 October 8, 2018   \n3     gempa_0004  aceh_harianrakyat                December 7, 2016   \n4     gempa_0005  aceh_harianrakyat              September 30, 2018   \n...          ...                ...                             ...   \n1212  gempa_1213    surabaya_tribun     Senin, 2 Oktober 2017 19:39   \n1213  gempa_1214    surabaya_tribun  Selasa, 19 November 2019 18:53   \n1214  gempa_1215    surabaya_tribun      Rabu, 3 Oktober 2018 18:07   \n1215  gempa_1216    surabaya_tribun  Kamis, 26 September 2019 17:43   \n1216  gempa_1217    surabaya_tribun  Selasa, 29 Desember 2015 08:09   \n\n                                                  title  \\\n0                    Kerugian Gempa Simeulue Rp130 Juta   \n1                          Duka Korban Gempa Pidie Jaya   \n2            Gempa 5,9 SR Melanda Haiti, 14 Orang Tewas   \n3            Pidie Jaya Gempa, Terasa Hingga Banda Aceh   \n4     Pascagempa Palu dan Donggala, 3 Daerah di Sult...   \n...                                                 ...   \n1212  Bim Sala Bim! Lihatlah Perubahan Pria yang Ope...   \n1213  Sinopsis Film San Andreas Tayang di Trans TV R...   \n1214  Pemkot Surabaya Packing Bantuan Untuk Dikirim ...   \n1215  Siswa SD di Blitar yang Jatuh ke Sumur Diduga ...   \n1216           Hujan Abu Masih Terjadi di Sekitar Bromo   \n\n                                                   text  \n0     SIMEULUE (RA)   Dampak bencana gempa bumi Sime...  \n1      Dulu Dia yang mencari nafkah untuk keluarga, ...  \n2     Harianrakyataceh. com   Setidaknya 14 orang te...  \n3     BANDA ACEH (RA)  Sekitar pukul 05.03 WIB, gemp...  \n4     Harianrakyataceh. com   Daerah terdampak gempa...  \n...                                                 ...  \n1212  SURYA. CO. ID - Istilah \"Ganteng itu relatif, ...  \n1213  SURYA. CO. ID - Simak sinopsis film San Andrea...  \n1214  SURYA. co. id | SURABAYA - Setelah tiga hari m...  \n1215  SURYA. co. id | BLITAR - Anisa Shela, siswi ke...  \n1216  SURYA. co. id | SURABAYA - Mendekati Tahun Bar...  \n\n[1217 rows x 5 columns]",
      "text/html": "<div>\n<style scoped>\n    .dataframe tbody tr th:only-of-type {\n        vertical-align: middle;\n    }\n\n    .dataframe tbody tr th {\n        vertical-align: top;\n    }\n\n    .dataframe thead th {\n        text-align: right;\n    }\n</style>\n<table border=\"1\" class=\"dataframe\">\n  <thead>\n    <tr style=\"text-align: right;\">\n      <th></th>\n      <th>id</th>\n      <th>source</th>\n      <th>date</th>\n      <th>title</th>\n      <th>text</th>\n    </tr>\n  </thead>\n  <tbody>\n    <tr>\n      <th>0</th>\n      <td>gempa_0001</td>\n      <td>aceh_harianrakyat</td>\n      <td>January 9, 2020</td>\n      <td>Kerugian Gempa Simeulue Rp130 Juta</td>\n      <td>SIMEULUE (RA)   Dampak bencana gempa bumi Sime...</td>\n    </tr>\n    <tr>\n      <th>1</th>\n      <td>gempa_0002</td>\n      <td>aceh_harianrakyat</td>\n      <td>December 20, 2016</td>\n      <td>Duka Korban Gempa Pidie Jaya</td>\n      <td>Dulu Dia yang mencari nafkah untuk keluarga, ...</td>\n    </tr>\n    <tr>\n      <th>2</th>\n      <td>gempa_0003</td>\n      <td>aceh_harianrakyat</td>\n      <td>October 8, 2018</td>\n      <td>Gempa 5,9 SR Melanda Haiti, 14 Orang Tewas</td>\n      <td>Harianrakyataceh. com   Setidaknya 14 orang te...</td>\n    </tr>\n    <tr>\n      <th>3</th>\n      <td>gempa_0004</td>\n      <td>aceh_harianrakyat</td>\n      <td>December 7, 2016</td>\n      <td>Pidie Jaya Gempa, Terasa Hingga Banda Aceh</td>\n      <td>BANDA ACEH (RA)  Sekitar pukul 05.03 WIB, gemp...</td>\n    </tr>\n    <tr>\n      <th>4</th>\n      <td>gempa_0005</td>\n      <td>aceh_harianrakyat</td>\n      <td>September 30, 2018</td>\n      <td>Pascagempa Palu dan Donggala, 3 Daerah di Sult...</td>\n      <td>Harianrakyataceh. com   Daerah terdampak gempa...</td>\n    </tr>\n    <tr>\n      <th>...</th>\n      <td>...</td>\n      <td>...</td>\n      <td>...</td>\n      <td>...</td>\n      <td>...</td>\n    </tr>\n    <tr>\n      <th>1212</th>\n      <td>gempa_1213</td>\n      <td>surabaya_tribun</td>\n      <td>Senin, 2 Oktober 2017 19:39</td>\n      <td>Bim Sala Bim! Lihatlah Perubahan Pria yang Ope...</td>\n      <td>SURYA. CO. ID - Istilah \"Ganteng itu relatif, ...</td>\n    </tr>\n    <tr>\n      <th>1213</th>\n      <td>gempa_1214</td>\n      <td>surabaya_tribun</td>\n      <td>Selasa, 19 November 2019 18:53</td>\n      <td>Sinopsis Film San Andreas Tayang di Trans TV R...</td>\n      <td>SURYA. CO. ID - Simak sinopsis film San Andrea...</td>\n    </tr>\n    <tr>\n      <th>1214</th>\n      <td>gempa_1215</td>\n      <td>surabaya_tribun</td>\n      <td>Rabu, 3 Oktober 2018 18:07</td>\n      <td>Pemkot Surabaya Packing Bantuan Untuk Dikirim ...</td>\n      <td>SURYA. co. id | SURABAYA - Setelah tiga hari m...</td>\n    </tr>\n    <tr>\n      <th>1215</th>\n      <td>gempa_1216</td>\n      <td>surabaya_tribun</td>\n      <td>Kamis, 26 September 2019 17:43</td>\n      <td>Siswa SD di Blitar yang Jatuh ke Sumur Diduga ...</td>\n      <td>SURYA. co. id | BLITAR - Anisa Shela, siswi ke...</td>\n    </tr>\n    <tr>\n      <th>1216</th>\n      <td>gempa_1217</td>\n      <td>surabaya_tribun</td>\n      <td>Selasa, 29 Desember 2015 08:09</td>\n      <td>Hujan Abu Masih Terjadi di Sekitar Bromo</td>\n      <td>SURYA. co. id | SURABAYA - Mendekati Tahun Bar...</td>\n    </tr>\n  </tbody>\n</table>\n<p>1217 rows × 5 columns</p>\n</div>"
     },
     "metadata": {},
     "execution_count": 7
    }
   ],
   "source": [
    "df_result"
   ]
  },
  {
   "cell_type": "code",
   "execution_count": 8,
   "metadata": {},
   "outputs": [],
   "source": [
    "df_result.to_excel('result_gempa.xlsx', index=False)"
   ]
  },
  {
   "cell_type": "code",
   "execution_count": null,
   "metadata": {},
   "outputs": [],
   "source": []
  }
 ]
}