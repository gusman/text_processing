{
 "cells": [
  {
   "cell_type": "code",
   "execution_count": null,
   "metadata": {},
   "outputs": [],
   "source": [
    "pip install pandas"
   ]
  },
  {
   "cell_type": "code",
   "execution_count": null,
   "metadata": {},
   "outputs": [],
   "source": [
    "import pandas as pd"
   ]
  },
  {
   "cell_type": "code",
   "execution_count": null,
   "metadata": {},
   "outputs": [],
   "source": [
    "dir_files = '/home/admin/sampling-data/output/output_20200414'\n",
    "lst_files = '/home/admin/sampling-data/sampling_file_list_2020413.json'\n",
    "attr_files = '/home/admin/sampling-data/berita_bencana_distribution_2020413.json'"
   ]
  },
  {
   "cell_type": "code",
   "execution_count": null,
   "metadata": {},
   "outputs": [],
   "source": [
    "df_files = pd.read_json(lst_files)\n",
    "df_attrs = pd.read_json(attr_files)"
   ]
  },
  {
   "cell_type": "code",
   "execution_count": null,
   "metadata": {},
   "outputs": [],
   "source": [
    "label = 'angin_topan'"
   ]
  },
  {
   "cell_type": "code",
   "execution_count": null,
   "metadata": {},
   "outputs": [],
   "source": [
    "import linecache\n",
    "import json\n",
    "import re\n",
    "import random\n",
    "import preprocess as pre\n",
    "\n",
    "\n",
    "def sampling(filepath, source, n_file, n_sample):\n",
    "    regex = re.compile(r'\\,$')\n",
    "    lst_json = []\n",
    "    ctr = 1\n",
    "    for n in random.sample(range(1, n_file + 1, 1), n_sample):\n",
    "        l = linecache.getline(filepath, n).strip()\n",
    "        l = re.sub(regex, '', l)     \n",
    "        try:\n",
    "            json_line = json.loads(l)\n",
    "            json_line['source'] = source\n",
    "            json_line['id'] = source + \"_\" + \"%03d\" % ctr\n",
    "            pre.clean_up([json_line])\n",
    "            lst_json.append(json_line)\n",
    "            ctr += 1\n",
    "        except Exception as e:\n",
    "            print(\"Fail to load json line \" + filepath + \" at line: \" + str(n))\n",
    "            print(\"Exception: \", e)\n",
    "    return lst_json\n",
    "        \n",
    "        "
   ]
  },
  {
   "cell_type": "code",
   "execution_count": null,
   "metadata": {},
   "outputs": [],
   "source": [
    "sampling_attr = []\n",
    "for index, row in df_files[label].iteritems():\n",
    "    file = row\n",
    "    source = row.split('.')[0]\n",
    "    n_file = df_attrs[(df_attrs['sumber_berita'] == source)][label].values[0]\n",
    "    sample_label = 'sample_' + label\n",
    "    n_sample = df_attrs[(df_attrs['sumber_berita'] == source)][sample_label].values[0]\n",
    "    sampling_attr.append(\n",
    "        {'file' : file, 'source': source, 'n_file' : n_file, 'n_sample' : n_sample}\n",
    "    )\n"
   ]
  },
  {
   "cell_type": "code",
   "execution_count": null,
   "metadata": {},
   "outputs": [],
   "source": [
    "lst_json = []\n",
    "sumbar = [ d for d in sampling_attr if d['source'] == 'papua_jubi']\n",
    "print(sumbar)\n",
    "#for sample in sampling_attr[0:1]:\n",
    "for sample in sumbar[0:1]:\n",
    "    tmp_lst_json = sampling(dir_files + \"/\" + sample['file'], \n",
    "             sample['source'], sample['n_file'], sample['n_sample'])\n",
    "    lst_json.extend(tmp_lst_json)"
   ]
  },
  {
   "cell_type": "code",
   "execution_count": null,
   "metadata": {},
   "outputs": [],
   "source": [
    "lst_json"
   ]
  },
  {
   "cell_type": "code",
   "execution_count": 17,
   "metadata": {},
   "outputs": [
    {
     "name": "stdout",
     "output_type": "stream",
     "text": [
      "0\n",
      "1\n",
      "2\n",
      "3\n",
      "4\n",
      "5\n",
      "6\n",
      "7\n",
      "8\n",
      "9\n",
      "11\n"
     ]
    }
   ],
   "source": [
    "lst = [ n for n in range(0,10) ]\n",
    "for  i in lst :\n",
    "    print(i)\n",
    "    if i == 9:\n",
    "        lst.append(11)"
   ]
  },
  {
   "cell_type": "code",
   "execution_count": null,
   "metadata": {},
   "outputs": [],
   "source": []
  }
 ],
 "metadata": {
  "kernelspec": {
   "display_name": "Python 3",
   "language": "python",
   "name": "python3"
  },
  "language_info": {
   "codemirror_mode": {
    "name": "ipython",
    "version": 3
   },
   "file_extension": ".py",
   "mimetype": "text/x-python",
   "name": "python",
   "nbconvert_exporter": "python",
   "pygments_lexer": "ipython3",
   "version": "3.7.3"
  }
 },
 "nbformat": 4,
 "nbformat_minor": 4
}
