{
 "cells": [
  {
   "cell_type": "code",
   "execution_count": 9,
   "metadata": {},
   "outputs": [
    {
     "name": "stdout",
     "output_type": "stream",
     "text": [
      "Requirement already satisfied: xlrd in /home/admin/venv-jupyter/lib/python3.7/site-packages (1.2.0)\n"
     ]
    }
   ],
   "source": [
    "! pip install xlrd"
   ]
  },
  {
   "cell_type": "code",
   "execution_count": 10,
   "metadata": {},
   "outputs": [],
   "source": [
    "import pandas as pd\n",
    "from sklearn.metrics import cohen_kappa_score"
   ]
  },
  {
   "cell_type": "code",
   "execution_count": 11,
   "metadata": {},
   "outputs": [],
   "source": [
    "df_1 = pd.read_excel('/home/admin/text_processing/anotated_data/from_anotators/yandi/sample_angin_topan_20200414_yandi_20200417_fixed.xlsx')"
   ]
  },
  {
   "cell_type": "code",
   "execution_count": 12,
   "metadata": {},
   "outputs": [],
   "source": [
    "df_2 = pd.read_excel('/home/admin/text_processing/anotated_data/from_anotators/ozy/sample_angin_topan_20200414_ozy_20200421_fixed.xlsx')\n"
   ]
  },
  {
   "cell_type": "code",
   "execution_count": 13,
   "metadata": {},
   "outputs": [
    {
     "data": {
      "text/plain": [
       "Index(['id', 'source', 'date', 'title', 'content',\n",
       "       'Berita bencana angin  topan', 'Tanggal Kejadian', 'Lokasi Provinsi',\n",
       "       'Lokasi Kota/Kabupaten', 'Lokasi Kecamatan', 'Jumlah orang meninggal',\n",
       "       'Jumlah orang hilang', 'Jumlah orang cedera/sakit',\n",
       "       'Jumlah orang mengungsi', 'Jumlah bangunan rusak', 'Column1'],\n",
       "      dtype='object')"
      ]
     },
     "execution_count": 13,
     "metadata": {},
     "output_type": "execute_result"
    }
   ],
   "source": [
    "df_1.columns"
   ]
  },
  {
   "cell_type": "code",
   "execution_count": 14,
   "metadata": {},
   "outputs": [
    {
     "data": {
      "text/plain": [
       "Index(['id', 'source', 'date', 'title', 'content',\n",
       "       'Berita bencana angin  topan', 'Tanggal Kejadian', 'Lokasi Provinsi',\n",
       "       'Lokasi Kota/Kabupaten', 'Lokasi Kecamatan', 'Jumlah orang meninggal',\n",
       "       'Jumlah orang hilang', 'Jumlah orang cedera/sakit',\n",
       "       'Jumlah orang mengungsi', 'Jumlah bangunan rusak'],\n",
       "      dtype='object')"
      ]
     },
     "execution_count": 14,
     "metadata": {},
     "output_type": "execute_result"
    }
   ],
   "source": [
    "df_2.columns"
   ]
  },
  {
   "cell_type": "code",
   "execution_count": 15,
   "metadata": {},
   "outputs": [],
   "source": [
    "rslt_1 = df_1['Berita bencana angin  topan']\n",
    "rslt_2 = df_2['Berita bencana angin  topan']\n",
    "rslt_1 = rslt_1.apply(lambda x : x.strip().lower())\n",
    "rslt_2 = rslt_2.apply(lambda x : x.strip().lower())"
   ]
  },
  {
   "cell_type": "code",
   "execution_count": 16,
   "metadata": {},
   "outputs": [
    {
     "data": {
      "text/plain": [
       "0.5896878983899145"
      ]
     },
     "execution_count": 16,
     "metadata": {},
     "output_type": "execute_result"
    }
   ],
   "source": [
    "cohen_kappa_score(rslt_1, rslt_2)"
   ]
  },
  {
   "cell_type": "code",
   "execution_count": 31,
   "metadata": {},
   "outputs": [
    {
     "data": {
      "text/html": [
       "<div>\n",
       "<style scoped>\n",
       "    .dataframe tbody tr th:only-of-type {\n",
       "        vertical-align: middle;\n",
       "    }\n",
       "\n",
       "    .dataframe tbody tr th {\n",
       "        vertical-align: top;\n",
       "    }\n",
       "\n",
       "    .dataframe thead th {\n",
       "        text-align: right;\n",
       "    }\n",
       "</style>\n",
       "<table border=\"1\" class=\"dataframe\">\n",
       "  <thead>\n",
       "    <tr style=\"text-align: right;\">\n",
       "      <th></th>\n",
       "      <th>id</th>\n",
       "      <th>source</th>\n",
       "      <th>date</th>\n",
       "      <th>title</th>\n",
       "      <th>content</th>\n",
       "      <th>label</th>\n",
       "    </tr>\n",
       "  </thead>\n",
       "  <tbody>\n",
       "    <tr>\n",
       "      <th>0</th>\n",
       "      <td>angin_topan_0001</td>\n",
       "      <td>aceh_harianrakyat</td>\n",
       "      <td>October 1, 2018</td>\n",
       "      <td>Puting Beliung Rusak Sembilan Rumah</td>\n",
       "      <td>REDELONG (RA)   Puting beliaung kembali terjad...</td>\n",
       "      <td>Y</td>\n",
       "    </tr>\n",
       "    <tr>\n",
       "      <th>1</th>\n",
       "      <td>angin_topan_0002</td>\n",
       "      <td>aceh_harianrakyat</td>\n",
       "      <td>November 11, 2016</td>\n",
       "      <td>Pencarian Nelayan Simeulue Dihentikan</td>\n",
       "      <td>SIMEULUE (RA)   Setelah sepekan operasi, penca...</td>\n",
       "      <td>N</td>\n",
       "    </tr>\n",
       "    <tr>\n",
       "      <th>2</th>\n",
       "      <td>angin_topan_0003</td>\n",
       "      <td>aceh_harianrakyat</td>\n",
       "      <td>January 4, 2018</td>\n",
       "      <td>Pohon Tumbang Timpa Warga Korban Meninggal Dal...</td>\n",
       "      <td>SABANG (RA)   Seorang pengendara motor dilapor...</td>\n",
       "      <td>Y</td>\n",
       "    </tr>\n",
       "    <tr>\n",
       "      <th>3</th>\n",
       "      <td>angin_topan_0004</td>\n",
       "      <td>aceh_harianrakyat</td>\n",
       "      <td>February 11, 2020</td>\n",
       "      <td>Ulama Tetap Menjadi Referensi KPA/PA</td>\n",
       "      <td>Meulaboh (RA)   Ulama tetap menjadi panutan da...</td>\n",
       "      <td>N</td>\n",
       "    </tr>\n",
       "    <tr>\n",
       "      <th>4</th>\n",
       "      <td>angin_topan_0005</td>\n",
       "      <td>aceh_harianrakyat</td>\n",
       "      <td>April 10, 2017</td>\n",
       "      <td>Empat Rumah Warga Rusak Dihantam Puting Beliung</td>\n",
       "      <td>SIMEULUE (RA)   Sebanyak empat rumah warga Des...</td>\n",
       "      <td>Y</td>\n",
       "    </tr>\n",
       "    <tr>\n",
       "      <th>...</th>\n",
       "      <td>...</td>\n",
       "      <td>...</td>\n",
       "      <td>...</td>\n",
       "      <td>...</td>\n",
       "      <td>...</td>\n",
       "      <td>...</td>\n",
       "    </tr>\n",
       "    <tr>\n",
       "      <th>1205</th>\n",
       "      <td>angin_topan_1206</td>\n",
       "      <td>surabaya_tribun</td>\n",
       "      <td>Jumat, 13 Desember 2019 16:33</td>\n",
       "      <td>Pemkot Surabaya Waspadai Potensi Bencana Akiba...</td>\n",
       "      <td>Laporan Wartawan TribunJatim. com, Yusron Nauf...</td>\n",
       "      <td>N</td>\n",
       "    </tr>\n",
       "    <tr>\n",
       "      <th>1206</th>\n",
       "      <td>angin_topan_1207</td>\n",
       "      <td>surabaya_tribun</td>\n",
       "      <td>Sabtu, 30 Juni 2018 08:28</td>\n",
       "      <td>VIDEO: Perangkat ROV Rekam Bangkai KM Sinar Ba...</td>\n",
       "      <td>\"Kasus kecelakaan kapal motor di danau Toba te...</td>\n",
       "      <td>N</td>\n",
       "    </tr>\n",
       "    <tr>\n",
       "      <th>1207</th>\n",
       "      <td>angin_topan_1208</td>\n",
       "      <td>surabaya_tribun</td>\n",
       "      <td>Senin, 30 November 2015 17:22</td>\n",
       "      <td>Puting Beliung Datang, Keluarga Budiono Bersem...</td>\n",
       "      <td>Dari data yang ada, sekitar 43 rumah rusak aki...</td>\n",
       "      <td>Y</td>\n",
       "    </tr>\n",
       "    <tr>\n",
       "      <th>1208</th>\n",
       "      <td>angin_topan_1209</td>\n",
       "      <td>surabaya_tribun</td>\n",
       "      <td>Jumat, 14 Oktober 2016 12:00</td>\n",
       "      <td>Ingin Tahu Tanda Datangnya Puting Beliung? Awa...</td>\n",
       "      <td>SURYA. co. id | JOMBANG - Badan Penanggulangan...</td>\n",
       "      <td>N</td>\n",
       "    </tr>\n",
       "    <tr>\n",
       "      <th>1209</th>\n",
       "      <td>angin_topan_1210</td>\n",
       "      <td>surabaya_tribun</td>\n",
       "      <td>Senin, 9 Desember 2019 20:10</td>\n",
       "      <td>Suara Adzan &amp; Selawat Melebur dengan Deru Angi...</td>\n",
       "      <td>\"Ada satu travo 100 Kva juga rusak. Di kecamat...</td>\n",
       "      <td>N</td>\n",
       "    </tr>\n",
       "  </tbody>\n",
       "</table>\n",
       "<p>1210 rows × 6 columns</p>\n",
       "</div>"
      ],
      "text/plain": [
       "                    id             source                           date  \\\n",
       "0     angin_topan_0001  aceh_harianrakyat                October 1, 2018   \n",
       "1     angin_topan_0002  aceh_harianrakyat              November 11, 2016   \n",
       "2     angin_topan_0003  aceh_harianrakyat                January 4, 2018   \n",
       "3     angin_topan_0004  aceh_harianrakyat              February 11, 2020   \n",
       "4     angin_topan_0005  aceh_harianrakyat                 April 10, 2017   \n",
       "...                ...                ...                            ...   \n",
       "1205  angin_topan_1206    surabaya_tribun  Jumat, 13 Desember 2019 16:33   \n",
       "1206  angin_topan_1207    surabaya_tribun      Sabtu, 30 Juni 2018 08:28   \n",
       "1207  angin_topan_1208    surabaya_tribun  Senin, 30 November 2015 17:22   \n",
       "1208  angin_topan_1209    surabaya_tribun   Jumat, 14 Oktober 2016 12:00   \n",
       "1209  angin_topan_1210    surabaya_tribun   Senin, 9 Desember 2019 20:10   \n",
       "\n",
       "                                                  title  \\\n",
       "0                   Puting Beliung Rusak Sembilan Rumah   \n",
       "1                 Pencarian Nelayan Simeulue Dihentikan   \n",
       "2     Pohon Tumbang Timpa Warga Korban Meninggal Dal...   \n",
       "3                  Ulama Tetap Menjadi Referensi KPA/PA   \n",
       "4       Empat Rumah Warga Rusak Dihantam Puting Beliung   \n",
       "...                                                 ...   \n",
       "1205  Pemkot Surabaya Waspadai Potensi Bencana Akiba...   \n",
       "1206  VIDEO: Perangkat ROV Rekam Bangkai KM Sinar Ba...   \n",
       "1207  Puting Beliung Datang, Keluarga Budiono Bersem...   \n",
       "1208  Ingin Tahu Tanda Datangnya Puting Beliung? Awa...   \n",
       "1209  Suara Adzan & Selawat Melebur dengan Deru Angi...   \n",
       "\n",
       "                                                content label  \n",
       "0     REDELONG (RA)   Puting beliaung kembali terjad...     Y  \n",
       "1     SIMEULUE (RA)   Setelah sepekan operasi, penca...     N  \n",
       "2     SABANG (RA)   Seorang pengendara motor dilapor...     Y  \n",
       "3     Meulaboh (RA)   Ulama tetap menjadi panutan da...     N  \n",
       "4     SIMEULUE (RA)   Sebanyak empat rumah warga Des...     Y  \n",
       "...                                                 ...   ...  \n",
       "1205  Laporan Wartawan TribunJatim. com, Yusron Nauf...     N  \n",
       "1206  \"Kasus kecelakaan kapal motor di danau Toba te...     N  \n",
       "1207  Dari data yang ada, sekitar 43 rumah rusak aki...     Y  \n",
       "1208  SURYA. co. id | JOMBANG - Badan Penanggulangan...     N  \n",
       "1209  \"Ada satu travo 100 Kva juga rusak. Di kecamat...     N  \n",
       "\n",
       "[1210 rows x 6 columns]"
      ]
     },
     "execution_count": 31,
     "metadata": {},
     "output_type": "execute_result"
    }
   ],
   "source": [
    "# Pre processing start from here\n",
    "import preprocess as pre\n",
    "df_tmp = df_1.rename(columns={'Berita bencana angin  topan' : 'label'})\n",
    "df_export = df_tmp[['id',\t'source', 'date', 'title', 'content', 'label']]\n",
    "df_export"
   ]
  },
  {
   "cell_type": "code",
   "execution_count": 37,
   "metadata": {},
   "outputs": [],
   "source": [
    "\n",
    "df_export.to_json('/home/admin/text_processing/anotated_data/from_anotators/yandi/sample_angin_topan_20200414_yandi_20200417_fixed_class.json', \n",
    "             index=False, indent=2, orient='table')"
   ]
  },
  {
   "cell_type": "code",
   "execution_count": null,
   "metadata": {},
   "outputs": [],
   "source": []
  },
  {
   "cell_type": "code",
   "execution_count": null,
   "metadata": {},
   "outputs": [],
   "source": []
  }
 ],
 "metadata": {
  "kernelspec": {
   "display_name": "Python 3",
   "language": "python",
   "name": "python3"
  },
  "language_info": {
   "codemirror_mode": {
    "name": "ipython",
    "version": 3
   },
   "file_extension": ".py",
   "mimetype": "text/x-python",
   "name": "python",
   "nbconvert_exporter": "python",
   "pygments_lexer": "ipython3",
   "version": "3.7.3"
  }
 },
 "nbformat": 4,
 "nbformat_minor": 4
}
