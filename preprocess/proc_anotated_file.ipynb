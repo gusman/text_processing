{
 "cells": [
  {
   "cell_type": "code",
   "execution_count": 65,
   "metadata": {},
   "outputs": [],
   "source": [
    "import sys\n",
    "import json\n",
    "import preprocess as pre\n",
    "from proc_anotated_excel import AnotatedConverter "
   ]
  },
  {
   "cell_type": "code",
   "execution_count": 66,
   "metadata": {},
   "outputs": [],
   "source": [
    "f_excel = \"C:\\\\Users\\\\dharmapu\\\\Documents\\\\personal\\\\ui\\\\KA-AMSD_src\\\\paper-submission\\\\anotated_data\\\\angin_topan\\\\v02-new\\\\sample_angin_topan_V02_new.xlsx\"\n",
    "f_json = f_excel.replace('.xlsx', '_preproc.json')\n",
    "\n",
    "df = pd.read_excel(f_text)\n",
    "#df.to_json(f_json, indent = True, orient = 'records')\n",
    "\n",
    "df_tmp = df[:3].copy()\n"
   ]
  },
  {
   "cell_type": "code",
   "execution_count": 67,
   "metadata": {},
   "outputs": [],
   "source": [
    "# Clean up the title and text\n",
    "for i, row in df_tmp.iterrows():\n",
    "    title = df_tmp.loc[i, 'title']\n",
    "    text = df_tmp.loc[i, 'text']\n",
    "    date = df_tmp.loc[i, 'date']\n",
    "\n",
    "    #clean up title\n",
    "    title = title.encode('ascii', 'backslashreplace')\n",
    "    title = title.decode('utf8')\n",
    "    title = pre.clean_text(title)\n",
    "    df_tmp.loc[i, 'title'] = title\n",
    "\n",
    "    #clean up text\n",
    "    text = text.encode('ascii', 'backslashreplace')\n",
    "    text = text.decode('utf8')\n",
    "    text = pre.clean_text(text)\n",
    "    df_tmp.loc[i, 'text'] = text\n",
    "\n",
    "    #clean up date\n",
    "    date = date.encode('ascii', 'backslashreplace')\n",
    "    date = date.decode('utf8')\n",
    "    date = pre.clean_text(text)\n",
    "    df_tmp.loc[i, 'date'] = date\n"
   ]
  },
  {
   "cell_type": "code",
   "execution_count": 68,
   "metadata": {},
   "outputs": [],
   "source": [
    "# pre processed lowering\n",
    "df_tmp['t_lower'] = ''\n",
    "df_tmp['c_lower'] = ''\n",
    "df_tmp['tc_lower'] = ''\n",
    "\n",
    "for i, r in df_tmp.iterrows():\n",
    "    df_tmp.loc[i, 't_lower'] = df_tmp.loc[i, 'title'].lower()\n",
    "    df_tmp.loc[i, 'c_lower'] = df_tmp.loc[i, 'text'].lower()\n",
    "    df_tmp.loc[i, 'tc_lower'] = df_tmp.loc[i, 't_lower'] + \" \" + df_tmp.loc[i, 'c_lower']"
   ]
  },
  {
   "cell_type": "code",
   "execution_count": 69,
   "metadata": {},
   "outputs": [
    {
     "output_type": "execute_result",
     "data": {
      "text/plain": [
       "                                             t_lower  \\\n",
       "0                puting beliung rusak sembilan rumah   \n",
       "1              pencarian nelayan simeulue dihentikan   \n",
       "2  pohon tumbang timpa warga korban meninggal dal...   \n",
       "\n",
       "                                             c_lower  \\\n",
       "0  puting beliaung kembali terjadi di bener meria...   \n",
       "1  setelah sepekan operasi, pencarian dua nelayan...   \n",
       "2  seorang pengendara motor dilaporkan mengalami ...   \n",
       "\n",
       "                                            tc_lower  \n",
       "0  puting beliung rusak sembilan rumah puting bel...  \n",
       "1  pencarian nelayan simeulue dihentikan setelah ...  \n",
       "2  pohon tumbang timpa warga korban meninggal dal...  "
      ],
      "text/html": "<div>\n<style scoped>\n    .dataframe tbody tr th:only-of-type {\n        vertical-align: middle;\n    }\n\n    .dataframe tbody tr th {\n        vertical-align: top;\n    }\n\n    .dataframe thead th {\n        text-align: right;\n    }\n</style>\n<table border=\"1\" class=\"dataframe\">\n  <thead>\n    <tr style=\"text-align: right;\">\n      <th></th>\n      <th>t_lower</th>\n      <th>c_lower</th>\n      <th>tc_lower</th>\n    </tr>\n  </thead>\n  <tbody>\n    <tr>\n      <th>0</th>\n      <td>puting beliung rusak sembilan rumah</td>\n      <td>puting beliaung kembali terjadi di bener meria...</td>\n      <td>puting beliung rusak sembilan rumah puting bel...</td>\n    </tr>\n    <tr>\n      <th>1</th>\n      <td>pencarian nelayan simeulue dihentikan</td>\n      <td>setelah sepekan operasi, pencarian dua nelayan...</td>\n      <td>pencarian nelayan simeulue dihentikan setelah ...</td>\n    </tr>\n    <tr>\n      <th>2</th>\n      <td>pohon tumbang timpa warga korban meninggal dal...</td>\n      <td>seorang pengendara motor dilaporkan mengalami ...</td>\n      <td>pohon tumbang timpa warga korban meninggal dal...</td>\n    </tr>\n  </tbody>\n</table>\n</div>"
     },
     "metadata": {},
     "execution_count": 69
    }
   ],
   "source": [
    "df_tmp[['t_lower', 'c_lower', 'tc_lower']]"
   ]
  },
  {
   "cell_type": "code",
   "execution_count": 70,
   "metadata": {},
   "outputs": [],
   "source": [
    "# pre processed stop words removal\n",
    "df_tmp['t_swrem'] = ''\n",
    "df_tmp['c_swrem'] = ''\n",
    "df_tmp['tc_swrem'] = ''\n",
    "\n",
    "for i, r in df_tmp.iterrows():\n",
    "    df_tmp.loc[i, 't_swrem'] = pre.rem_stop_words(df_tmp.loc[i, 't_lower'])\n",
    "    df_tmp.loc[i, 'c_swrem'] = pre.rem_stop_words(df_tmp.loc[i, 'c_lower'])\n",
    "    df_tmp.loc[i, 'tc_swrem'] = df_tmp.loc[i, 't_swrem'] + \" \" + df_tmp.loc[i, 'c_swrem']\n"
   ]
  },
  {
   "cell_type": "code",
   "execution_count": 71,
   "metadata": {},
   "outputs": [
    {
     "output_type": "execute_result",
     "data": {
      "text/plain": [
       "                                             t_swrem  \\\n",
       "0                puting beliung rusak sembilan rumah   \n",
       "1              pencarian nelayan simeulue dihentikan   \n",
       "2  pohon tumbang timpa warga korban meninggal kap...   \n",
       "\n",
       "                                             c_swrem  \\\n",
       "0  puting beliaung terjadi bener meriah, akibatny...   \n",
       "1  sepekan operasi, pencarian nelayan simeulue ak...   \n",
       "2  seorang pengendara motor dilaporkan mengalami ...   \n",
       "\n",
       "                                            tc_swrem  \n",
       "0  puting beliung rusak sembilan rumah puting bel...  \n",
       "1  pencarian nelayan simeulue dihentikan sepekan ...  \n",
       "2  pohon tumbang timpa warga korban meninggal kap...  "
      ],
      "text/html": "<div>\n<style scoped>\n    .dataframe tbody tr th:only-of-type {\n        vertical-align: middle;\n    }\n\n    .dataframe tbody tr th {\n        vertical-align: top;\n    }\n\n    .dataframe thead th {\n        text-align: right;\n    }\n</style>\n<table border=\"1\" class=\"dataframe\">\n  <thead>\n    <tr style=\"text-align: right;\">\n      <th></th>\n      <th>t_swrem</th>\n      <th>c_swrem</th>\n      <th>tc_swrem</th>\n    </tr>\n  </thead>\n  <tbody>\n    <tr>\n      <th>0</th>\n      <td>puting beliung rusak sembilan rumah</td>\n      <td>puting beliaung terjadi bener meriah, akibatny...</td>\n      <td>puting beliung rusak sembilan rumah puting bel...</td>\n    </tr>\n    <tr>\n      <th>1</th>\n      <td>pencarian nelayan simeulue dihentikan</td>\n      <td>sepekan operasi, pencarian nelayan simeulue ak...</td>\n      <td>pencarian nelayan simeulue dihentikan sepekan ...</td>\n    </tr>\n    <tr>\n      <th>2</th>\n      <td>pohon tumbang timpa warga korban meninggal kap...</td>\n      <td>seorang pengendara motor dilaporkan mengalami ...</td>\n      <td>pohon tumbang timpa warga korban meninggal kap...</td>\n    </tr>\n  </tbody>\n</table>\n</div>"
     },
     "metadata": {},
     "execution_count": 71
    }
   ],
   "source": [
    "df_tmp[['t_swrem', 'c_swrem', 'tc_swrem']]"
   ]
  },
  {
   "cell_type": "code",
   "execution_count": 72,
   "metadata": {},
   "outputs": [],
   "source": [
    "# pre processed stemming\n",
    "df_tmp['t_stem'] = ''\n",
    "df_tmp['c_stem'] = ''\n",
    "df_tmp['tc_stem'] = ''\n",
    "\n",
    "for i, r in df_tmp.iterrows():\n",
    "    df_tmp.loc[i, 't_stem'] = pre.stem_text(df_tmp.loc[i, 't_lower'])\n",
    "    df_tmp.loc[i, 'c_stem'] = pre.stem_text(df_tmp.loc[i, 'c_lower'])\n",
    "    df_tmp.loc[i, 'tc_stem'] = df_tmp.loc[i, 't_stem'] + \" \" + df_tmp.loc[i, 'c_stem']\n"
   ]
  },
  {
   "cell_type": "code",
   "execution_count": 73,
   "metadata": {},
   "outputs": [
    {
     "output_type": "execute_result",
     "data": {
      "text/plain": [
       "                                              t_stem  \\\n",
       "0                puting beliung rusak sembilan rumah   \n",
       "1                        cari nelayan simeulue henti   \n",
       "2  pohon tumbang timpa warga korban tinggal dalam...   \n",
       "\n",
       "                                              c_stem  \\\n",
       "0  puting beliaung kembali jadi di bener riah aki...   \n",
       "1  telah pek operasi cari dua nelayan simeulue ak...   \n",
       "2  orang kendara motor lapor alami luka berat hin...   \n",
       "\n",
       "                                             tc_stem  \n",
       "0  puting beliung rusak sembilan rumah puting bel...  \n",
       "1  cari nelayan simeulue henti telah pek operasi ...  \n",
       "2  pohon tumbang timpa warga korban tinggal dalam...  "
      ],
      "text/html": "<div>\n<style scoped>\n    .dataframe tbody tr th:only-of-type {\n        vertical-align: middle;\n    }\n\n    .dataframe tbody tr th {\n        vertical-align: top;\n    }\n\n    .dataframe thead th {\n        text-align: right;\n    }\n</style>\n<table border=\"1\" class=\"dataframe\">\n  <thead>\n    <tr style=\"text-align: right;\">\n      <th></th>\n      <th>t_stem</th>\n      <th>c_stem</th>\n      <th>tc_stem</th>\n    </tr>\n  </thead>\n  <tbody>\n    <tr>\n      <th>0</th>\n      <td>puting beliung rusak sembilan rumah</td>\n      <td>puting beliaung kembali jadi di bener riah aki...</td>\n      <td>puting beliung rusak sembilan rumah puting bel...</td>\n    </tr>\n    <tr>\n      <th>1</th>\n      <td>cari nelayan simeulue henti</td>\n      <td>telah pek operasi cari dua nelayan simeulue ak...</td>\n      <td>cari nelayan simeulue henti telah pek operasi ...</td>\n    </tr>\n    <tr>\n      <th>2</th>\n      <td>pohon tumbang timpa warga korban tinggal dalam...</td>\n      <td>orang kendara motor lapor alami luka berat hin...</td>\n      <td>pohon tumbang timpa warga korban tinggal dalam...</td>\n    </tr>\n  </tbody>\n</table>\n</div>"
     },
     "metadata": {},
     "execution_count": 73
    }
   ],
   "source": [
    "df_tmp[['t_stem', 'c_stem', 'tc_stem']]"
   ]
  },
  {
   "cell_type": "code",
   "execution_count": 74,
   "metadata": {},
   "outputs": [],
   "source": [
    "# pre processed swrem stemming\n",
    "df_tmp['t_swrem_stem'] = ''\n",
    "df_tmp['c_swrem_stem'] = ''\n",
    "df_tmp['tc_swrem_stem'] = ''\n",
    "\n",
    "for i, r in df_tmp.iterrows():\n",
    "    df_tmp.loc[i, 't_swrem_stem'] = pre.stem_text(df_tmp.loc[i, 't_swrem'])\n",
    "    df_tmp.loc[i, 'c_swrem_stem'] = pre.stem_text(df_tmp.loc[i, 'c_swrem'])\n",
    "    df_tmp.loc[i, 'tc_swrem_stem'] = df_tmp.loc[i, 't_swrem_stem'] + \" \" + df_tmp.loc[i, 'c_swrem_stem']"
   ]
  },
  {
   "cell_type": "code",
   "execution_count": 75,
   "metadata": {},
   "outputs": [
    {
     "output_type": "execute_result",
     "data": {
      "text/plain": [
       "                                        t_swrem_stem  \\\n",
       "0                puting beliung rusak sembilan rumah   \n",
       "1                        cari nelayan simeulue henti   \n",
       "2  pohon tumbang timpa warga korban tinggal kapal...   \n",
       "\n",
       "                                        c_swrem_stem  \\\n",
       "0  puting beliaung jadi bener riah akibat sembila...   \n",
       "1  pek operasi cari nelayan simeulue akhir henti ...   \n",
       "2  orang kendara motor lapor alami luka berat hin...   \n",
       "\n",
       "                                       tc_swrem_stem  \n",
       "0               puting beliung rusak sembilan rumah   \n",
       "1                       cari nelayan simeulue henti   \n",
       "2  pohon tumbang timpa warga korban tinggal kapal...  "
      ],
      "text/html": "<div>\n<style scoped>\n    .dataframe tbody tr th:only-of-type {\n        vertical-align: middle;\n    }\n\n    .dataframe tbody tr th {\n        vertical-align: top;\n    }\n\n    .dataframe thead th {\n        text-align: right;\n    }\n</style>\n<table border=\"1\" class=\"dataframe\">\n  <thead>\n    <tr style=\"text-align: right;\">\n      <th></th>\n      <th>t_swrem_stem</th>\n      <th>c_swrem_stem</th>\n      <th>tc_swrem_stem</th>\n    </tr>\n  </thead>\n  <tbody>\n    <tr>\n      <th>0</th>\n      <td>puting beliung rusak sembilan rumah</td>\n      <td>puting beliaung jadi bener riah akibat sembila...</td>\n      <td>puting beliung rusak sembilan rumah</td>\n    </tr>\n    <tr>\n      <th>1</th>\n      <td>cari nelayan simeulue henti</td>\n      <td>pek operasi cari nelayan simeulue akhir henti ...</td>\n      <td>cari nelayan simeulue henti</td>\n    </tr>\n    <tr>\n      <th>2</th>\n      <td>pohon tumbang timpa warga korban tinggal kapal...</td>\n      <td>orang kendara motor lapor alami luka berat hin...</td>\n      <td>pohon tumbang timpa warga korban tinggal kapal...</td>\n    </tr>\n  </tbody>\n</table>\n</div>"
     },
     "metadata": {},
     "execution_count": 75
    }
   ],
   "source": [
    "df_tmp[['t_swrem_stem', 'c_swrem_stem', 'tc_swrem_stem']]"
   ]
  },
  {
   "cell_type": "code",
   "execution_count": 77,
   "metadata": {},
   "outputs": [],
   "source": [
    "df_tmp.to_json(f_json, indent = True, orient = 'records')"
   ]
  },
  {
   "cell_type": "code",
   "execution_count": null,
   "metadata": {},
   "outputs": [],
   "source": []
  }
 ],
 "metadata": {
  "kernelspec": {
   "display_name": "Python 3",
   "language": "python",
   "name": "python3"
  },
  "language_info": {
   "codemirror_mode": {
    "name": "ipython",
    "version": 3
   },
   "file_extension": ".py",
   "mimetype": "text/x-python",
   "name": "python",
   "nbconvert_exporter": "python",
   "pygments_lexer": "ipython3",
   "version": "3.7.6-final"
  }
 },
 "nbformat": 4,
 "nbformat_minor": 4
}