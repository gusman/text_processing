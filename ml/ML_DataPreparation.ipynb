{
 "metadata": {
  "language_info": {
   "codemirror_mode": {
    "name": "ipython",
    "version": 3
   },
   "file_extension": ".py",
   "mimetype": "text/x-python",
   "name": "python",
   "nbconvert_exporter": "python",
   "pygments_lexer": "ipython3",
   "version": 3
  },
  "orig_nbformat": 2
 },
 "nbformat": 4,
 "nbformat_minor": 2,
 "cells": [
  {
   "cell_type": "code",
   "execution_count": null,
   "metadata": {},
   "outputs": [],
   "source": [
    "import pandas as pd"
   ]
  },
  {
   "cell_type": "code",
   "execution_count": null,
   "metadata": {},
   "outputs": [],
   "source": [
    "#bencana = ['angin_topan', 'banjir', 'erupsi', 'gempa', 'karhutla', 'kekeringan', 'longsor', 'banjir']\n",
    "bencana = ['erupsi']\n",
    "d_anotated = \"C:\\\\Users\\\\dharmapu\\\\Documents\\\\personal\\\\ui\\\\KA-AMSD_src\\\\paper-submission\\\\anotated_data\\\\\""
   ]
  },
  {
   "cell_type": "code",
   "execution_count": null,
   "metadata": {},
   "outputs": [],
   "source": [
    "for b in bencana:\n",
    "    f_preproc = d_anotated + f'{b}\\\\v02-new\\\\sample_{b}_teks_v02_new_preproc.json'\n",
    "    f_label = d_anotated + f'{b}\\\\v02-new\\\\sample_{b}_label.xlsx'\n",
    "    f_data = d_anotated + f'{b}\\\\v02-new\\\\sample_{b}_data.json'\n",
    "\n",
    "    df_pre = pd.read_json(f_preproc)\n",
    "    df_label = pd.read_excel(f_label)\n",
    "    df_data = df_pre.copy()\n",
    "\n",
    "    df_data['label'] = df_label['label']\n",
    "    df_data.to_json(f_data, indent = True, orient = 'records')"
   ]
  }
 ]
}