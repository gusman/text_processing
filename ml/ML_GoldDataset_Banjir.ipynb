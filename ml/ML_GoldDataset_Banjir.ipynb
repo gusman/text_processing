{
 "cells": [
  {
   "cell_type": "code",
   "execution_count": 24,
   "metadata": {},
   "outputs": [
    {
     "name": "stdout",
     "output_type": "stream",
     "text": [
      "Requirement already satisfied: pandas in /home/admin/venv-jupyter/lib/python3.7/site-packages (1.0.3)\n",
      "Requirement already satisfied: python-dateutil>=2.6.1 in /home/admin/venv-jupyter/lib/python3.7/site-packages (from pandas) (2.8.1)\n",
      "Requirement already satisfied: pytz>=2017.2 in /home/admin/venv-jupyter/lib/python3.7/site-packages (from pandas) (2019.3)\n",
      "Requirement already satisfied: numpy>=1.13.3 in /home/admin/venv-jupyter/lib/python3.7/site-packages (from pandas) (1.18.2)\n",
      "Requirement already satisfied: six>=1.5 in /home/admin/venv-jupyter/lib/python3.7/site-packages (from python-dateutil>=2.6.1->pandas) (1.14.0)\n",
      "\u001b[33mWARNING: You are using pip version 20.0.2; however, version 20.1 is available.\n",
      "You should consider upgrading via the '/home/admin/venv-jupyter/bin/python3 -m pip install --upgrade pip' command.\u001b[0m\n",
      "Requirement already satisfied: sklearn in /home/admin/venv-jupyter/lib/python3.7/site-packages (0.0)\n",
      "Requirement already satisfied: scikit-learn in /home/admin/venv-jupyter/lib/python3.7/site-packages (from sklearn) (0.22.2.post1)\n",
      "Requirement already satisfied: joblib>=0.11 in /home/admin/venv-jupyter/lib/python3.7/site-packages (from scikit-learn->sklearn) (0.14.1)\n",
      "Requirement already satisfied: scipy>=0.17.0 in /home/admin/venv-jupyter/lib/python3.7/site-packages (from scikit-learn->sklearn) (1.4.1)\n",
      "Requirement already satisfied: numpy>=1.11.0 in /home/admin/venv-jupyter/lib/python3.7/site-packages (from scikit-learn->sklearn) (1.18.2)\n",
      "\u001b[33mWARNING: You are using pip version 20.0.2; however, version 20.1 is available.\n",
      "You should consider upgrading via the '/home/admin/venv-jupyter/bin/python3 -m pip install --upgrade pip' command.\u001b[0m\n"
     ]
    }
   ],
   "source": [
    "!pip install pandas\n",
    "!pip install sklearn"
   ]
  },
  {
   "cell_type": "code",
   "execution_count": 25,
   "metadata": {},
   "outputs": [],
   "source": [
    "import pandas as pd \n",
    "import sys\n",
    "from sklearn.metrics import cohen_kappa_score"
   ]
  },
  {
   "cell_type": "code",
   "execution_count": 26,
   "metadata": {},
   "outputs": [],
   "source": [
    "f_oz = '/home/admin/text_processing/anotated_data/from_anotators/ozy/sample_banjir_20200414_ozy_fixed.xlsx'\n",
    "f_yn = '/home/admin/text_processing/anotated_data/from_anotators/yandi/sample_banjir_20200414_yandi_20200421_fixed.xlsx'\n",
    "df_oz = pd.read_excel(f_oz)\n",
    "df_yn = pd.read_excel(f_yn)"
   ]
  },
  {
   "cell_type": "code",
   "execution_count": 28,
   "metadata": {},
   "outputs": [],
   "source": [
    "df_corpus = df_yn.copy()\n",
    "df_corpus = df_corpus.rename(columns={'Label' : 'label_yn'})\n",
    "df_corpus['label_oz'] = df_oz['Label']"
   ]
  },
  {
   "cell_type": "code",
   "execution_count": 29,
   "metadata": {},
   "outputs": [],
   "source": [
    "rslt_yn = df_corpus['label_yn'].to_numpy()\n",
    "rslt_oz = df_corpus['label_oz'].to_numpy()"
   ]
  },
  {
   "cell_type": "code",
   "execution_count": 31,
   "metadata": {},
   "outputs": [],
   "source": [
    "cohen = cohen_kappa_score(rslt_oz, rslt_yn)"
   ]
  },
  {
   "cell_type": "code",
   "execution_count": 32,
   "metadata": {},
   "outputs": [
    {
     "name": "stdout",
     "output_type": "stream",
     "text": [
      "0.5944186768615731\n"
     ]
    }
   ],
   "source": [
    "print(cohen)"
   ]
  },
  {
   "cell_type": "code",
   "execution_count": 37,
   "metadata": {},
   "outputs": [],
   "source": [
    "df_diff = df_corpus[df_corpus.label_yn != df_corpus.label_oz]\n",
    "df_diff.shape"
   ]
  },
  {
   "cell_type": "code",
   "execution_count": 41,
   "metadata": {},
   "outputs": [],
   "source": [
    "f_fix = '/home/admin/text_processing/anotated_data/from_anotators/banjir_fix.xlsx'\n",
    "df_diff.to_excel(f_fix, index=False)"
   ]
  },
  {
   "cell_type": "code",
   "execution_count": 44,
   "metadata": {},
   "outputs": [],
   "source": [
    "f_man = '/home/admin/text_processing/anotated_data/from_anotators/fixing/banjir_fix_final.xlsx'\n",
    "df_man = pd.read_excel(f_man)"
   ]
  },
  {
   "cell_type": "code",
   "execution_count": 47,
   "metadata": {},
   "outputs": [],
   "source": [
    "df_corpus['final_label'] = df_corpus['label_yn']"
   ]
  },
  {
   "cell_type": "code",
   "execution_count": 49,
   "metadata": {},
   "outputs": [],
   "source": [
    "for n_id in df_man['id']:\n",
    "    df_corpus.loc[(df_corpus.id == n_id), 'final_label'] = df_man.loc[(df_man.id == n_id), 'Label Manual'].values\n",
    "\n",
    "f_fin = '/home/admin/text_processing/anotated_data/from_anotators/fixing/banjir_final_gold.xlsx'\n",
    "df_corpus.to_excel(f_fin, index=False)"
   ]
  },
  {
   "cell_type": "code",
   "execution_count": null,
   "metadata": {},
   "outputs": [],
   "source": []
  }
 ],
 "metadata": {
  "kernelspec": {
   "display_name": "Python 3",
   "language": "python",
   "name": "python3"
  },
  "language_info": {
   "codemirror_mode": {
    "name": "ipython",
    "version": 3
   },
   "file_extension": ".py",
   "mimetype": "text/x-python",
   "name": "python",
   "nbconvert_exporter": "python",
   "pygments_lexer": "ipython3",
   "version": "3.7.3"
  }
 },
 "nbformat": 4,
 "nbformat_minor": 4
}
