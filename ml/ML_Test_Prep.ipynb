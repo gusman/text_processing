{
 "cells": [
  {
   "cell_type": "code",
   "execution_count": 11,
   "metadata": {},
   "outputs": [],
   "source": [
    "import pandas as pd \n",
    "import sys\n",
    "import random"
   ]
  },
  {
   "cell_type": "code",
   "execution_count": 12,
   "metadata": {},
   "outputs": [],
   "source": [
    "def get_data_file(bencana):\n",
    "    d_anotated = f'D:\\\\data-gusman\\\\tmp\\\\anotated_data\\\\{bencana}\\\\v02-new\\\\'\n",
    "    f_data = d_anotated + f'sample_{bencana}_data.json'\n",
    "    return f_data"
   ]
  },
  {
   "cell_type": "code",
   "execution_count": 13,
   "metadata": {},
   "outputs": [],
   "source": [
    "f_data = get_data_file('erupsi')\n",
    "#%run analysis_repr.py $f_data"
   ]
  },
  {
   "cell_type": "code",
   "execution_count": 14,
   "metadata": {},
   "outputs": [],
   "source": [
    "df_data = pd.read_json(f_data)\n",
    "df_Y = df_data[df_data.label == 'Y'].copy()\n",
    "df_N = df_data[df_data.label == 'N'].copy()\n",
    "df_Y = df_Y.reset_index(drop = True)\n",
    "df_N = df_N.reset_index(drop = True)"
   ]
  },
  {
   "cell_type": "code",
   "execution_count": 15,
   "metadata": {},
   "outputs": [
    {
     "output_type": "stream",
     "name": "stdout",
     "text": [
      "103 44 660 283 1090 1090\n"
     ]
    }
   ],
   "source": [
    "Y_train_sz = round(0.7 * len(df_Y))\n",
    "Y_test_sz  = round(0.3 * len(df_Y))\n",
    "N_train_sz = round(0.7 * len(df_N))\n",
    "N_test_sz  = round(0.3 * len(df_N))\n",
    "\n",
    "print(Y_train_sz, Y_test_sz, N_train_sz, N_test_sz, Y_train_sz + Y_test_sz + N_train_sz + N_test_sz, len(df_data))"
   ]
  },
  {
   "cell_type": "code",
   "execution_count": 16,
   "metadata": {},
   "outputs": [
    {
     "output_type": "stream",
     "name": "stdout",
     "text": [
      "103 44 147 147 147\n660 283 943 943 943\n"
     ]
    }
   ],
   "source": [
    "Y_index = [ i for i in range(0, len(df_Y)) ]\n",
    "N_index = [ i for i in range(0, len(df_N)) ]\n",
    "\n",
    "\n",
    "random.seed(0)\n",
    "\n",
    "Y_train_index = random.sample(Y_index, Y_train_sz)\n",
    "Y_test_index  = [ i for i in Y_index if i not in Y_train_index]\n",
    "\n",
    "N_train_index = random.sample(N_index, N_train_sz)\n",
    "N_test_index = [ i for i in N_index if i not in N_train_index]\n",
    "\n",
    "Y_all = Y_train_index + Y_test_index\n",
    "print( len(Y_train_index), len(Y_test_index), len(Y_all), len(df_Y), len(set(Y_all)) )\n",
    "\n",
    "N_all = N_train_index + N_test_index\n",
    "print( len(N_train_index), len(N_test_index), len(N_all), len(df_N), len(set(N_all)) )"
   ]
  },
  {
   "cell_type": "code",
   "execution_count": 17,
   "metadata": {},
   "outputs": [],
   "source": [
    "df_Y_train = df_Y.iloc[Y_train_index, :].copy()\n",
    "df_N_train = df_N.iloc[N_train_index, :].copy()\n",
    "df_Y_test = df_Y.iloc[Y_test_index, :].copy()\n",
    "df_N_test = df_N.iloc[N_test_index, :].copy()\n"
   ]
  },
  {
   "cell_type": "code",
   "execution_count": 18,
   "metadata": {},
   "outputs": [],
   "source": [
    "df_train = pd.concat([df_Y_train, df_N_train])\n",
    "df_test = pd.concat([df_Y_test, df_N_test])"
   ]
  },
  {
   "cell_type": "code",
   "execution_count": 19,
   "metadata": {},
   "outputs": [
    {
     "output_type": "execute_result",
     "data": {
      "text/plain": [
       "(1090, 1090, 'erupsi_0001', 'erupsi_1090')"
      ]
     },
     "metadata": {},
     "execution_count": 19
    }
   ],
   "source": [
    "ids = [ i for i in df_train['id'] ]\n",
    "ids.extend([ i for i in df_test['id'] ])\n",
    "\n",
    "ids.sort()\n",
    "len(ids), len(set(ids)), min(ids), max(ids)"
   ]
  },
  {
   "cell_type": "code",
   "execution_count": 20,
   "metadata": {},
   "outputs": [],
   "source": [
    "f_train = f_data.replace('.json', '_train.json')\n",
    "f_test = f_data.replace('.json', '_test.json')\n",
    "\n",
    "f_train, f_test\n",
    "df_train.to_json(f_train, indent = True, orient = 'records')\n",
    "df_test.to_json(f_test, indent = True, orient = 'records')"
   ]
  },
  {
   "cell_type": "code",
   "execution_count": null,
   "metadata": {},
   "outputs": [],
   "source": []
  }
 ],
 "metadata": {
  "kernelspec": {
   "display_name": "Python 3",
   "language": "python",
   "name": "python3"
  },
  "language_info": {
   "codemirror_mode": {
    "name": "ipython",
    "version": 3
   },
   "file_extension": ".py",
   "mimetype": "text/x-python",
   "name": "python",
   "nbconvert_exporter": "python",
   "pygments_lexer": "ipython3",
   "version": "3.8.5-final"
  }
 },
 "nbformat": 4,
 "nbformat_minor": 4
}