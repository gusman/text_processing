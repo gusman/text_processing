{
 "cells": [
  {
   "cell_type": "code",
   "execution_count": 1,
   "metadata": {},
   "outputs": [],
   "source": [
    "import pandas as pd \n",
    "import sys\n",
    "import random"
   ]
  },
  {
   "cell_type": "code",
   "execution_count": 2,
   "metadata": {},
   "outputs": [],
   "source": [
    "def get_data_file(bencana):\n",
    "    d_anotated = f'D:\\\\data-gusman\\\\tmp\\\\anotated_data\\\\{bencana}\\\\v02-new\\\\'\n",
    "    return f_data"
   ]
  },
  {
   "cell_type": "code",
   "execution_count": 3,
   "metadata": {},
   "outputs": [
    {
     "output_type": "stream",
     "name": "stdout",
     "text": [
      "Selection of representation - text\n",
      "Text selection: title only vs content only vs title and content\n",
      "Algorithm:  Multinomial NB\n",
      "Feature:   BOW - Unigram\n",
      "      t_lower_acc  c_lower_acc  tc_lower_acc  t_lower_P  c_lower_P  \\\n",
      "0        0.880734     0.848624      0.848624   0.531250   0.454545   \n",
      "1        0.853211     0.825688      0.825688   0.380952   0.366667   \n",
      "2        0.885321     0.844037      0.848624   0.571429   0.475410   \n",
      "3        0.894495     0.885321      0.880734   0.515152   0.488889   \n",
      "4        0.885321     0.834862      0.839450   0.729730   0.541667   \n",
      "MEAN     0.879817     0.847706      0.848624   0.545702   0.465436   \n",
      "\n",
      "      tc_lower_P  t_lower_R  c_lower_R  tc_lower_R  t_lower_F1  c_lower_F1  \\\n",
      "0       0.454545   0.607143   0.892857    0.892857    0.566667    0.602410   \n",
      "1       0.366667   0.727273   1.000000    1.000000    0.500000    0.536585   \n",
      "2       0.483333   0.774194   0.935484    0.935484    0.657534    0.630435   \n",
      "3       0.478261   0.708333   0.916667    0.916667    0.596491    0.637681   \n",
      "4       0.547945   0.642857   0.928571    0.952381    0.683544    0.684211   \n",
      "MEAN    0.466150   0.691960   0.934716    0.939478    0.600847    0.618264   \n",
      "\n",
      "      tc_lower_F1  \n",
      "0        0.602410  \n",
      "1        0.536585  \n",
      "2        0.637363  \n",
      "3        0.628571  \n",
      "4        0.695652  \n",
      "MEAN     0.620116  \n",
      "ANNOVA P : 1.98915, 0.17130\n",
      "ANNOVA R : 58.54786, 0.00000\n",
      "ANNOVA F1 : 0.21840, 0.80632\n",
      "COHRAN Q-Test: q: 11.79208, p_value: 0.00275\n",
      "McNemar t_lower - c_lower:  chi2, p : 5.75124 0.01648\n",
      "McNemar t_lower - tc_lower:  chi2, p : 5.50000 0.01902\n",
      "McNemar c_lower - tc_lower:  chi2, p : 0.00000 1.00000\n",
      "ANNOVA_F: 1.98915 58.54786 0.21840 \n",
      "ANNOVA_P: 0.17130 0.00000 0.80632 \n",
      "MCNEMAR RESULT: 5.75124 0.01648 5.50000 0.01902 0.00000 1.00000 \n"
     ]
    }
   ],
   "source": [
    "f_data = get_data_file('erupsi')\n",
    "%run analysis_repr.py $f_data"
   ]
  }
 ],
 "metadata": {
  "kernelspec": {
   "display_name": "Python 3",
   "language": "python",
   "name": "python3"
  },
  "language_info": {
   "codemirror_mode": {
    "name": "ipython",
    "version": 3
   },
   "file_extension": ".py",
   "mimetype": "text/x-python",
   "name": "python",
   "nbconvert_exporter": "python",
   "pygments_lexer": "ipython3",
   "version": "3.8.5-final"
  }
 },
 "nbformat": 4,
 "nbformat_minor": 4
}