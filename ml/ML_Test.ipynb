{
 "cells": [
  {
   "cell_type": "code",
   "execution_count": 14,
   "metadata": {},
   "outputs": [],
   "source": [
    "import pandas as pd \n",
    "import sys"
   ]
  },
  {
   "cell_type": "code",
   "execution_count": 15,
   "metadata": {},
   "outputs": [],
   "source": [
    "def get_data_file(bencana):\n",
    "    d_anotated = f'C:\\\\Users\\\\dharmapu\\\\Documents\\\\personal\\\\ui\\\\KA-AMSD_src\\\\paper-submission\\\\anotated_data\\\\{bencana}\\\\v02-new\\\\'\n",
    "    f_data = d_anotated + f'sample_{bencana}_data.json'\n",
    "    return f_data"
   ]
  },
  {
   "cell_type": "code",
   "execution_count": 34,
   "metadata": {},
   "outputs": [
    {
     "output_type": "stream",
     "name": "stdout",
     "text": [
      "Selection of gram\n",
      "feature selection: uni, bi, uni-bi\n",
      "Algorithm:  Multinomial NB\n",
      "Repr: tc_stem\n",
      "Feature: BOW\n",
      "      bow_uni_P  bow_bi_P  bow_unibi_P  bow_uni_R  bow_bi_R  bow_unibi_R  \\\n",
      "0      0.454545  0.375000     0.454545   0.892857  0.857143     0.892857   \n",
      "1      0.366667  0.317460     0.372881   1.000000  0.909091     1.000000   \n",
      "2      0.491525  0.476190     0.491803   0.935484  0.967742     0.967742   \n",
      "3      0.456522  0.441860     0.477273   0.875000  0.791667     0.875000   \n",
      "4      0.541667  0.590909     0.563380   0.928571  0.928571     0.952381   \n",
      "MEAN   0.462185  0.440284     0.471977   0.926382  0.890843     0.937596   \n",
      "\n",
      "      bow_uni_F1  bow_bi_F1  bow_unibi_F1  \n",
      "0       0.602410   0.521739      0.602410  \n",
      "1       0.536585   0.470588      0.543210  \n",
      "2       0.644444   0.638298      0.652174  \n",
      "3       0.600000   0.567164      0.617647  \n",
      "4       0.684211   0.722222      0.707965  \n",
      "MEAN    0.613530   0.584002      0.624681  \n",
      "ANNOVA P : 0.30144, 0.74413\n",
      "ANNOVA R : 1.38004, 0.28174\n",
      "ANNOVA F1 : 0.60132, 0.56078\n",
      "COHRAN Q-Test: q: 7.46809, p_value: 0.02390\n",
      "McNemar bow_uni v bow_bi:  chi2 : 2.15385, p_value: 0.14221\n",
      "McNemar bow_uni v bow_unibi:  chi2 : 1.56250, p_value: 0.21130\n",
      "McNemar bow_bi v bow_unibi:  chi2 : 4.93827, p_value: 0.02627\n",
      "2.15385 0.14221 1.56250 0.21130 4.93827 0.02627\n"
     ]
    }
   ],
   "source": [
    "f_data = get_data_file('erupsi')\r\n",
    "%run analysis_gram.py $f_data"
   ]
  },
  {
   "cell_type": "code",
   "execution_count": null,
   "metadata": {},
   "outputs": [],
   "source": []
  }
 ],
 "metadata": {
  "kernelspec": {
   "display_name": "Python 3",
   "language": "python",
   "name": "python3"
  },
  "language_info": {
   "codemirror_mode": {
    "name": "ipython",
    "version": 3
   },
   "file_extension": ".py",
   "mimetype": "text/x-python",
   "name": "python",
   "nbconvert_exporter": "python",
   "pygments_lexer": "ipython3",
   "version": "3.7.6-final"
  }
 },
 "nbformat": 4,
 "nbformat_minor": 4
}