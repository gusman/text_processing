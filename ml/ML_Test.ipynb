{
 "cells": [
  {
   "cell_type": "code",
   "execution_count": 20,
   "metadata": {},
   "outputs": [],
   "source": [
    "import pandas as pd \n",
    "import sys\n",
    "import random\n",
    "from sklearn.naive_bayes import MultinomialNB\n",
    "import classifier_tool as tool"
   ]
  },
  {
   "cell_type": "code",
   "execution_count": 21,
   "metadata": {},
   "outputs": [],
   "source": [
    "def get_data_file(bencana):\n",
    "    #d_anotated = f'D:\\\\data-gusman\\\\tmp\\\\anotated_data\\\\{bencana}\\\\v02-new\\\\'\n",
    "    d_anotated = f'C:\\\\Users\\\\dharmapu\\\\Documents\\\\personal\\\\ui\\\\KA-AMSD_src\\\\paper-submission\\\\anotated_data\\\\{bencana}\\\\v02-new\\\\'\n",
    "    f_data = d_anotated + f'sample_{bencana}_data.json'\n",
    "    return f_data"
   ]
  },
  {
   "cell_type": "code",
   "execution_count": 22,
   "metadata": {},
   "outputs": [
    {
     "output_type": "execute_result",
     "data": {
      "text/plain": [
       "(314, 851, 1165)"
      ]
     },
     "metadata": {},
     "execution_count": 22
    }
   ],
   "source": [
    "f_data = get_data_file('tsunami')\n",
    "#f_data, os.path.exists(f_data)\n",
    "#%run -i analysis_repr.py $f_data"
   ]
  },
  {
   "cell_type": "code",
   "execution_count": 29,
   "metadata": {},
   "outputs": [],
   "source": [
    "def data_distribution(bencana):\n",
    "    f_data = get_data_file(bencana)\n",
    "    df_data = pd.read_json(f_data)\n",
    "    print(bencana + \"\\t\" + str(len(df_data[df_data['label'] == 'Y'])) + \"\\t\" + str(len(df_data[df_data['label'] == 'N'])) + \"\\t\" + str(len(df_data)))"
   ]
  },
  {
   "cell_type": "code",
   "execution_count": 30,
   "metadata": {},
   "outputs": [
    {
     "output_type": "stream",
     "name": "stdout",
     "text": [
      "angin_topan\t237\t973\t1210\n",
      "banjir\t320\t924\t1244\n",
      "erupsi\t147\t943\t1090\n",
      "gempa\t255\t962\t1217\n",
      "karhutla\t394\t755\t1149\n",
      "kekeringan\t232\t866\t1098\n",
      "longsor\t313\t907\t1220\n",
      "tsunami\t314\t851\t1165\n"
     ]
    }
   ],
   "source": [
    "daftar_bencana = [ 'angin_topan', 'banjir', 'erupsi', 'gempa', 'karhutla', 'kekeringan', 'longsor', 'tsunami']\n",
    "for bencana in daftar_bencana:\n",
    "    data_distribution(bencana)"
   ]
  },
  {
   "cell_type": "code",
   "execution_count": null,
   "metadata": {},
   "outputs": [],
   "source": []
  }
 ],
 "metadata": {
  "kernelspec": {
   "display_name": "Python 3",
   "language": "python",
   "name": "python3"
  },
  "language_info": {
   "codemirror_mode": {
    "name": "ipython",
    "version": 3
   },
   "file_extension": ".py",
   "mimetype": "text/x-python",
   "name": "python",
   "nbconvert_exporter": "python",
   "pygments_lexer": "ipython3",
   "version": "3.7.6-final"
  }
 },
 "nbformat": 4,
 "nbformat_minor": 4
}