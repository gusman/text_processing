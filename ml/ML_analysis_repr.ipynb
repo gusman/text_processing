{
 "metadata": {
  "language_info": {
   "codemirror_mode": {
    "name": "ipython",
    "version": 3
   },
   "file_extension": ".py",
   "mimetype": "text/x-python",
   "name": "python",
   "nbconvert_exporter": "python",
   "pygments_lexer": "ipython3",
   "version": "3.8.5-final"
  },
  "orig_nbformat": 2,
  "kernelspec": {
   "name": "python3",
   "display_name": "Python 3",
   "language": "python"
  }
 },
 "nbformat": 4,
 "nbformat_minor": 2,
 "cells": [
  {
   "cell_type": "code",
   "execution_count": 1,
   "metadata": {},
   "outputs": [],
   "source": [
    "import pandas as pd\n",
    "import classifier_tool as tool\n"
   ]
  },
  {
   "cell_type": "code",
   "execution_count": 2,
   "metadata": {},
   "outputs": [],
   "source": [
    "def get_train_test_file(bencana):\n",
    "    d_anotated = f'D:\\\\data-gusman\\\\tmp\\\\anotated_data\\\\{bencana}\\\\v02-new\\\\'\n",
    "    f_train = d_anotated + f'sample_{bencana}_data_train.json'\n",
    "    f_test = d_anotated + f'sample_{bencana}_data_test.json'\n",
    "    return f_train, f_test"
   ]
  },
  {
   "cell_type": "code",
   "execution_count": 3,
   "metadata": {},
   "outputs": [
    {
     "output_type": "execute_result",
     "data": {
      "text/plain": [
       "('D:\\\\data-gusman\\\\tmp\\\\anotated_data\\\\erupsi\\\\v02-new\\\\sample_erupsi_data_train.json',\n",
       " 'D:\\\\data-gusman\\\\tmp\\\\anotated_data\\\\erupsi\\\\v02-new\\\\sample_erupsi_data_test.json',\n",
       " True,\n",
       " True)"
      ]
     },
     "metadata": {},
     "execution_count": 3
    }
   ],
   "source": [
    "f_train, f_test = get_train_test_file('erupsi')\n",
    "f_train, f_test, os.path.exists(f_train), os.path.exists(f_test)"
   ]
  },
  {
   "cell_type": "code",
   "execution_count": 4,
   "metadata": {},
   "outputs": [],
   "source": [
    "df_train = pd.read_json(f_train)\n",
    "df_test = pd.read_json(f_test)"
   ]
  },
  {
   "cell_type": "code",
   "execution_count": 5,
   "metadata": {},
   "outputs": [],
   "source": [
    "X_train, vectorized = tool.construct_bow_unigrams(df_train['tc_lower'])\n",
    "Y_train = df_train['label']"
   ]
  },
  {
   "cell_type": "code",
   "execution_count": 6,
   "metadata": {},
   "outputs": [
    {
     "output_type": "execute_result",
     "data": {
      "text/plain": [
       "MultinomialNB()"
      ]
     },
     "metadata": {},
     "execution_count": 6
    }
   ],
   "source": [
    "from sklearn.naive_bayes import MultinomialNB\n",
    "clf = MultinomialNB()\n",
    "clf.fit(X_train, Y_train)"
   ]
  },
  {
   "cell_type": "code",
   "execution_count": 7,
   "metadata": {},
   "outputs": [],
   "source": [
    "X_test = vectorized.transform(df_test['tc_lower'])\n",
    "Y_test = df_test['label']\n",
    "clf_result = clf.predict(X_test)"
   ]
  },
  {
   "cell_type": "code",
   "execution_count": 8,
   "metadata": {},
   "outputs": [
    {
     "output_type": "execute_result",
     "data": {
      "text/plain": [
       "array([0.8973384, 0.578125 ])"
      ]
     },
     "metadata": {},
     "execution_count": 8
    }
   ],
   "source": [
    " from sklearn.metrics import f1_score\n",
    " f1_score(Y_test, clf_result, zero_division=1, average=None)"
   ]
  }
 ]
}