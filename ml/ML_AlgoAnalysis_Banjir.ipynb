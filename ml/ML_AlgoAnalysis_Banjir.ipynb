{
 "cells": [
  {
   "cell_type": "code",
   "execution_count": 1,
   "metadata": {},
   "outputs": [
    {
     "name": "stdout",
     "output_type": "stream",
     "text": [
      "Requirement already up-to-date: pip in /home/admin/venv-jupyter/lib/python3.7/site-packages (20.1)\n",
      "Requirement already up-to-date: pandas in /home/admin/venv-jupyter/lib/python3.7/site-packages (1.0.3)\n",
      "Requirement already satisfied, skipping upgrade: pytz>=2017.2 in /home/admin/venv-jupyter/lib/python3.7/site-packages (from pandas) (2019.3)\n",
      "Requirement already satisfied, skipping upgrade: python-dateutil>=2.6.1 in /home/admin/venv-jupyter/lib/python3.7/site-packages (from pandas) (2.8.1)\n",
      "Requirement already satisfied, skipping upgrade: numpy>=1.13.3 in /home/admin/venv-jupyter/lib/python3.7/site-packages (from pandas) (1.18.2)\n",
      "Requirement already satisfied, skipping upgrade: six>=1.5 in /home/admin/venv-jupyter/lib/python3.7/site-packages (from python-dateutil>=2.6.1->pandas) (1.14.0)\n",
      "Requirement already up-to-date: sklearn in /home/admin/venv-jupyter/lib/python3.7/site-packages (0.0)\n",
      "Requirement already satisfied, skipping upgrade: scikit-learn in /home/admin/venv-jupyter/lib/python3.7/site-packages (from sklearn) (0.22.2.post1)\n",
      "Requirement already satisfied, skipping upgrade: numpy>=1.11.0 in /home/admin/venv-jupyter/lib/python3.7/site-packages (from scikit-learn->sklearn) (1.18.2)\n",
      "Requirement already satisfied, skipping upgrade: joblib>=0.11 in /home/admin/venv-jupyter/lib/python3.7/site-packages (from scikit-learn->sklearn) (0.14.1)\n",
      "Requirement already satisfied, skipping upgrade: scipy>=0.17.0 in /home/admin/venv-jupyter/lib/python3.7/site-packages (from scikit-learn->sklearn) (1.4.1)\n",
      "Requirement already up-to-date: imbalanced-learn in /home/admin/venv-jupyter/lib/python3.7/site-packages (0.6.2)\n",
      "Requirement already satisfied, skipping upgrade: numpy>=1.11 in /home/admin/venv-jupyter/lib/python3.7/site-packages (from imbalanced-learn) (1.18.2)\n",
      "Requirement already satisfied, skipping upgrade: scipy>=0.17 in /home/admin/venv-jupyter/lib/python3.7/site-packages (from imbalanced-learn) (1.4.1)\n",
      "Requirement already satisfied, skipping upgrade: joblib>=0.11 in /home/admin/venv-jupyter/lib/python3.7/site-packages (from imbalanced-learn) (0.14.1)\n",
      "Requirement already satisfied, skipping upgrade: scikit-learn>=0.22 in /home/admin/venv-jupyter/lib/python3.7/site-packages (from imbalanced-learn) (0.22.2.post1)\n"
     ]
    }
   ],
   "source": [
    "!pip install -U pip\n",
    "!pip install -U pandas\n",
    "!pip install -U sklearn\n",
    "!pip install -U imbalanced-learn"
   ]
  },
  {
   "cell_type": "code",
   "execution_count": 2,
   "metadata": {},
   "outputs": [],
   "source": [
    "import pandas as pd \n",
    "import sys\n",
    "\n",
    "from sklearn.svm import SVC\n",
    "from sklearn.svm import LinearSVC\n",
    "\n",
    "from sklearn.naive_bayes import MultinomialNB\n",
    "from sklearn.naive_bayes import BernoulliNB\n",
    "\n",
    "from sklearn.linear_model import LogisticRegression\n",
    "\n",
    "from sklearn.ensemble import RandomForestClassifier\n",
    "from sklearn.ensemble import AdaBoostClassifier\n",
    "from sklearn.ensemble import GradientBoostingClassifier\n",
    "\n",
    "import classifier_tool as tool"
   ]
  },
  {
   "cell_type": "code",
   "execution_count": 3,
   "metadata": {},
   "outputs": [],
   "source": [
    "label = 'banjir'\n",
    "rep = 'tc_swrem_stem'\n",
    "\n",
    "clf_list = ['SVC', 'LinearSVC', 'MultinomialNB', 'BernoulliNB', 'LogisticRegression', 'RandomForestClassifier',]\n",
    "f_gold = '/home/admin/text_processing/anotated_data/classifier_gold_standard/preprocessed/sample_banjir_gold_dataset_pre.json'\n",
    "df_gold = pd.read_json(f_gold)"
   ]
  },
  {
   "cell_type": "code",
   "execution_count": 4,
   "metadata": {},
   "outputs": [],
   "source": [
    "def test_clf(rep, df, clf, fold=10):\n",
    "    X, vectorizer = tool.construct_bow_unigrams(df[rep])\n",
    "    y = df['label']\n",
    "      \n",
    "    report = tool.eval_cv(fold, X, y, clf)\n",
    "    y_report = [ d['Y'] for d in report ]\n",
    "    n_report = [ d['N'] for d in report ]\n",
    "    \n",
    "    df_y = pd.DataFrame(y_report)\n",
    "    df_n = pd.DataFrame(n_report)\n",
    "    df_y.loc['avg'] = df_y.mean()\n",
    "    df_n.loc['avg'] = df_n.mean()\n",
    "    df_y_avg = df_y.loc[['avg']]\n",
    "    df_y_avg = df_y_avg.rename(columns={'precision' : 'y_prec', 'recall':'y_recall', 'f1-score' : 'y_f1', 'support' : 'y_support'})\n",
    "    \n",
    "    return df_y_avg, df_y, df_n"
   ]
  },
  {
   "cell_type": "code",
   "execution_count": 5,
   "metadata": {},
   "outputs": [],
   "source": [
    "def get_classifier(name):\n",
    "    clf = None\n",
    "    \n",
    "    if 'SVC' == name:\n",
    "        clf = SVC()\n",
    "    elif 'LinearSVC' == name:\n",
    "        clf = LinearSVC()\n",
    "    elif 'MultinomialNB' == name:\n",
    "        clf = MultinomialNB()\n",
    "    elif 'BernoulliNB' == name:\n",
    "        clf = BernoulliNB()\n",
    "    elif 'LogisticRegression' == name:\n",
    "        clf = LogisticRegression(random_state=0, max_iter=150)\n",
    "    elif 'RandomForestClassifier' == name:\n",
    "        clf = RandomForestClassifier(max_depth=300, random_state=0, n_estimators=300)\n",
    "    \n",
    "    return clf"
   ]
  },
  {
   "cell_type": "code",
   "execution_count": 6,
   "metadata": {},
   "outputs": [
    {
     "data": {
      "text/html": [
       "<div>\n",
       "<style scoped>\n",
       "    .dataframe tbody tr th:only-of-type {\n",
       "        vertical-align: middle;\n",
       "    }\n",
       "\n",
       "    .dataframe tbody tr th {\n",
       "        vertical-align: top;\n",
       "    }\n",
       "\n",
       "    .dataframe thead th {\n",
       "        text-align: right;\n",
       "    }\n",
       "</style>\n",
       "<table border=\"1\" class=\"dataframe\">\n",
       "  <thead>\n",
       "    <tr style=\"text-align: right;\">\n",
       "      <th></th>\n",
       "      <th>SVC</th>\n",
       "      <th>LinearSVC</th>\n",
       "      <th>MultinomialNB</th>\n",
       "      <th>BernoulliNB</th>\n",
       "      <th>LogisticRegression</th>\n",
       "      <th>RandomForestClassifier</th>\n",
       "    </tr>\n",
       "  </thead>\n",
       "  <tbody>\n",
       "    <tr>\n",
       "      <th>y_prec</th>\n",
       "      <td>0.864360</td>\n",
       "      <td>0.743813</td>\n",
       "      <td>0.639651</td>\n",
       "      <td>0.719723</td>\n",
       "      <td>0.769734</td>\n",
       "      <td>0.886339</td>\n",
       "    </tr>\n",
       "    <tr>\n",
       "      <th>y_recall</th>\n",
       "      <td>0.686580</td>\n",
       "      <td>0.739105</td>\n",
       "      <td>0.862187</td>\n",
       "      <td>0.499295</td>\n",
       "      <td>0.742711</td>\n",
       "      <td>0.387365</td>\n",
       "    </tr>\n",
       "    <tr>\n",
       "      <th>y_f1</th>\n",
       "      <td>0.761105</td>\n",
       "      <td>0.738708</td>\n",
       "      <td>0.731965</td>\n",
       "      <td>0.586074</td>\n",
       "      <td>0.754284</td>\n",
       "      <td>0.532055</td>\n",
       "    </tr>\n",
       "    <tr>\n",
       "      <th>y_support</th>\n",
       "      <td>31.000000</td>\n",
       "      <td>31.000000</td>\n",
       "      <td>31.000000</td>\n",
       "      <td>31.000000</td>\n",
       "      <td>31.000000</td>\n",
       "      <td>31.000000</td>\n",
       "    </tr>\n",
       "  </tbody>\n",
       "</table>\n",
       "</div>"
      ],
      "text/plain": [
       "                 SVC  LinearSVC  MultinomialNB  BernoulliNB  \\\n",
       "y_prec      0.864360   0.743813       0.639651     0.719723   \n",
       "y_recall    0.686580   0.739105       0.862187     0.499295   \n",
       "y_f1        0.761105   0.738708       0.731965     0.586074   \n",
       "y_support  31.000000  31.000000      31.000000    31.000000   \n",
       "\n",
       "           LogisticRegression  RandomForestClassifier  \n",
       "y_prec               0.769734                0.886339  \n",
       "y_recall             0.742711                0.387365  \n",
       "y_f1                 0.754284                0.532055  \n",
       "y_support           31.000000               31.000000  "
      ]
     },
     "execution_count": 6,
     "metadata": {},
     "output_type": "execute_result"
    }
   ],
   "source": [
    "df_summary = pd.DataFrame()\n",
    "\n",
    "for cl in clf_list:\n",
    "    clf = get_classifier(cl)\n",
    "    df_y_avg, df_y, df_n = test_clf(rep, df_gold, clf)\n",
    "    df_summary[cl] = df_y_avg.loc['avg']\n",
    "df_summary"
   ]
  },
  {
   "cell_type": "code",
   "execution_count": null,
   "metadata": {},
   "outputs": [],
   "source": []
  }
 ],
 "metadata": {
  "kernelspec": {
   "display_name": "Python 3",
   "language": "python",
   "name": "python3"
  },
  "language_info": {
   "codemirror_mode": {
    "name": "ipython",
    "version": 3
   },
   "file_extension": ".py",
   "mimetype": "text/x-python",
   "name": "python",
   "nbconvert_exporter": "python",
   "pygments_lexer": "ipython3",
   "version": "3.7.3"
  }
 },
 "nbformat": 4,
 "nbformat_minor": 4
}
