{
 "cells": [
  {
   "cell_type": "code",
   "execution_count": 1,
   "metadata": {},
   "outputs": [
    {
     "name": "stdout",
     "output_type": "stream",
     "text": [
      "Requirement already satisfied: pandas in /home/admin/venv-jupyter/lib/python3.7/site-packages (1.0.3)\n",
      "Requirement already satisfied: pytz>=2017.2 in /home/admin/venv-jupyter/lib/python3.7/site-packages (from pandas) (2019.3)\n",
      "Requirement already satisfied: numpy>=1.13.3 in /home/admin/venv-jupyter/lib/python3.7/site-packages (from pandas) (1.18.2)\n",
      "Requirement already satisfied: python-dateutil>=2.6.1 in /home/admin/venv-jupyter/lib/python3.7/site-packages (from pandas) (2.8.1)\n",
      "Requirement already satisfied: six>=1.5 in /home/admin/venv-jupyter/lib/python3.7/site-packages (from python-dateutil>=2.6.1->pandas) (1.14.0)\n",
      "Note: you may need to restart the kernel to use updated packages.\n"
     ]
    }
   ],
   "source": [
    "pip install pandas"
   ]
  },
  {
   "cell_type": "code",
   "execution_count": 2,
   "metadata": {},
   "outputs": [],
   "source": [
    "import pandas as pd\n",
    "import random\n"
   ]
  },
  {
   "cell_type": "code",
   "execution_count": 3,
   "metadata": {},
   "outputs": [],
   "source": [
    "f_angin_topan = '/home/admin/text_processing/anotated_data/from_anotators/v01/sample_angin_topan_gold_dataset.xlsx'\n",
    "f_banjir = '/home/admin/text_processing/anotated_data/from_anotators/v01/sample_banjir_gold_dataset.xlsx'\n",
    "f_erupsi = '/home/admin/text_processing/anotated_data/from_anotators/v01/sample_erupsi_gold_dataset.xlsx'\n",
    "f_gempa = '/home/admin/text_processing/anotated_data/from_anotators/v01/sample_gempa_gold_dataset.xlsx'\n",
    "f_karhutla = '/home/admin/text_processing/anotated_data/from_anotators/v01/sample_karhutla_gold_dataset.xlsx'\n",
    "f_kekeringan = '/home/admin/text_processing/anotated_data/from_anotators/v01/sample_kekeringan_gold_dataset.xlsx'\n",
    "f_longsor = '/home/admin/text_processing/anotated_data/from_anotators/v01/sample_longsor_gold_dataset.xlsx'\n",
    "f_tsunami = '/home/admin/text_processing/anotated_data/from_anotators/v01/sample_tsunami_gold_dataset.xlsx'"
   ]
  },
  {
   "cell_type": "code",
   "execution_count": 4,
   "metadata": {},
   "outputs": [],
   "source": [
    "f_out_angin_topan = '/home/admin/text_processing/anotated_data/gold_standard/date_loc/prep/angin_topan_date_loc.xlsx'\n",
    "f_out_banjir = '/home/admin/text_processing/anotated_data/gold_standard/date_loc/prep/banjir_date_loc.xlsx'\n",
    "f_out_erupsi = '/home/admin/text_processing/anotated_data/gold_standard/date_loc/prep/erupsi_date_loc.xlsx'\n",
    "f_out_gempa = '/home/admin/text_processing/anotated_data/gold_standard/date_loc/prep/gempa_date_loc.xlsx'\n",
    "f_out_karhutla = '/home/admin/text_processing/anotated_data/gold_standard/date_loc/prep/karhutla_date_loc.xlsx'\n",
    "f_out_kekeringan = '/home/admin/text_processing/anotated_data/gold_standard/date_loc/prep/kekeringan_date_loc.xlsx'\n",
    "f_out_longsor = '/home/admin/text_processing/anotated_data/gold_standard/date_loc/prep/longsor_date_loc.xlsx'\n",
    "f_out_tsunami = '/home/admin/text_processing/anotated_data/gold_standard/date_loc/prep/tsunami_date_loc.xlsx'\n",
    "f_out_combine = '/home/admin/text_processing/anotated_data/gold_standard/date_loc/prep/__combine_date_loc.xlsx'"
   ]
  },
  {
   "cell_type": "code",
   "execution_count": 5,
   "metadata": {},
   "outputs": [],
   "source": [
    "df_angin_topan = pd.read_excel(f_angin_topan)\n",
    "df_banjir = pd.read_excel(f_banjir)\n",
    "df_erupsi = pd.read_excel(f_erupsi)\n",
    "df_gempa = pd.read_excel(f_gempa)\n",
    "df_karhutla = pd.read_excel(f_karhutla)\n",
    "df_kekeringan = pd.read_excel(f_kekeringan)\n",
    "df_longsor = pd.read_excel(f_longsor)\n",
    "df_tsunami = pd.read_excel(f_tsunami)"
   ]
  },
  {
   "cell_type": "code",
   "execution_count": 6,
   "metadata": {},
   "outputs": [],
   "source": [
    "def extract_df_Y(df):\n",
    "    df_tmp = df[df.Label == 'Y']\n",
    "    df_tmp = df_tmp[[ 'id', 'source', 'date', 'title', 'content', 'Label', 'Tanggal Kejadian', 'Lokasi Provinsi', 'Lokasi Kota/Kabupaten', 'Lokasi Kecamatan' ]]\n",
    "    n = len(df_tmp.index)\n",
    "    df_tmp = df_tmp.reset_index(drop=True)\n",
    "\n",
    "    lst_row = random.sample(range(1, n), 50)\n",
    "    df_tmp = df_tmp.iloc[ lst_row ] \n",
    "    return df_tmp.reset_index(drop=True)\n"
   ]
  },
  {
   "cell_type": "code",
   "execution_count": 7,
   "metadata": {},
   "outputs": [],
   "source": [
    "df_tmp1 = extract_df_Y(df_angin_topan)\n",
    "df_tmp1.to_excel(f_out_angin_topan, index=False)\n",
    "\n",
    "df_tmp2 = extract_df_Y(df_banjir)\n",
    "df_tmp2.to_excel(f_out_banjir, index=False)\n",
    "\n",
    "df_tmp3 = extract_df_Y(df_erupsi)\n",
    "df_tmp3.to_excel(f_out_erupsi, index=False)\n",
    "\n",
    "df_tmp4 = extract_df_Y(df_gempa)\n",
    "df_tmp4.to_excel(f_out_gempa, index=False)\n",
    "\n",
    "df_tmp5 = extract_df_Y(df_karhutla)\n",
    "df_tmp5.to_excel(f_out_karhutla, index=False)\n",
    "\n",
    "df_tmp6 = extract_df_Y(df_kekeringan)\n",
    "df_tmp6.to_excel(f_out_kekeringan, index=False)\n",
    "\n",
    "df_tmp7 = extract_df_Y(df_longsor)\n",
    "df_tmp7.to_excel(f_out_longsor, index=False)\n",
    "\n",
    "df_tmp8 = extract_df_Y(df_tsunami)\n",
    "df_tmp8.to_excel(f_out_tsunami, index=False)"
   ]
  },
  {
   "cell_type": "code",
   "execution_count": 8,
   "metadata": {},
   "outputs": [],
   "source": [
    "df_combine = pd.concat([ df_tmp1, df_tmp2, df_tmp3, df_tmp4, df_tmp5, df_tmp6, df_tmp7, df_tmp8 ])\n",
    "df_combine.to_excel(f_out_combine, index=False)"
   ]
  }
 ],
 "metadata": {
  "kernelspec": {
   "display_name": "Python 3",
   "language": "python",
   "name": "python3"
  },
  "language_info": {
   "codemirror_mode": {
    "name": "ipython",
    "version": 3
   },
   "file_extension": ".py",
   "mimetype": "text/x-python",
   "name": "python",
   "nbconvert_exporter": "python",
   "pygments_lexer": "ipython3",
   "version": "3.7.3"
  }
 },
 "nbformat": 4,
 "nbformat_minor": 4
}
